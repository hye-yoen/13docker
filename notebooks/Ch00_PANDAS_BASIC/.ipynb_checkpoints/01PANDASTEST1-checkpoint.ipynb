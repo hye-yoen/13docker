{
 "cells": [
  {
   "cell_type": "code",
   "execution_count": 1,
   "id": "65ddb857-47c2-4ae6-9aae-8d9ad7e9b600",
   "metadata": {},
   "outputs": [],
   "source": [
    "import pandas as pd"
   ]
  },
  {
   "cell_type": "code",
   "execution_count": 2,
   "id": "9e6f3b13-f100-4381-87f0-f59a5fc1bf69",
   "metadata": {},
   "outputs": [
    {
     "data": {
      "text/plain": [
       "0      비빔밥\n",
       "1     김치찌개\n",
       "2     된장찌개\n",
       "dtype: object"
      ]
     },
     "execution_count": 2,
     "metadata": {},
     "output_type": "execute_result"
    }
   ],
   "source": [
    "menu = pd.Series([\"비빔밥\", \" 김치찌개\" , \"된장찌개\"])\n",
    "menu"
   ]
  },
  {
   "cell_type": "code",
   "execution_count": 3,
   "id": "d001402f-829a-4a2e-ae71-ddfea6da9a00",
   "metadata": {},
   "outputs": [],
   "source": [
    "price = pd.Series([10000,9000,8000])"
   ]
  },
  {
   "cell_type": "code",
   "execution_count": 4,
   "id": "86f39b18-2796-4824-97eb-62591107c5bc",
   "metadata": {},
   "outputs": [
    {
     "data": {
      "text/plain": [
       "0    10000\n",
       "1     9000\n",
       "2     8000\n",
       "dtype: int64"
      ]
     },
     "execution_count": 4,
     "metadata": {},
     "output_type": "execute_result"
    }
   ],
   "source": [
    "price"
   ]
  },
  {
   "cell_type": "markdown",
   "id": "9b54799e-faed-433e-a682-e8cbbc02d5c0",
   "metadata": {},
   "source": [
    "### 데이터 프래임 만들기"
   ]
  },
  {
   "cell_type": "code",
   "execution_count": 8,
   "id": "d7b9c3f7-4b72-41e0-9bda-d1af3c909dac",
   "metadata": {},
   "outputs": [
    {
     "data": {
      "text/html": [
       "<div>\n",
       "<style scoped>\n",
       "    .dataframe tbody tr th:only-of-type {\n",
       "        vertical-align: middle;\n",
       "    }\n",
       "\n",
       "    .dataframe tbody tr th {\n",
       "        vertical-align: top;\n",
       "    }\n",
       "\n",
       "    .dataframe thead th {\n",
       "        text-align: right;\n",
       "    }\n",
       "</style>\n",
       "<table border=\"1\" class=\"dataframe\">\n",
       "  <thead>\n",
       "    <tr style=\"text-align: right;\">\n",
       "      <th></th>\n",
       "      <th>메뉴</th>\n",
       "      <th>가격</th>\n",
       "    </tr>\n",
       "  </thead>\n",
       "  <tbody>\n",
       "    <tr>\n",
       "      <th>0</th>\n",
       "      <td>비빔밥</td>\n",
       "      <td>10000</td>\n",
       "    </tr>\n",
       "    <tr>\n",
       "      <th>1</th>\n",
       "      <td>김치찌개</td>\n",
       "      <td>9000</td>\n",
       "    </tr>\n",
       "    <tr>\n",
       "      <th>2</th>\n",
       "      <td>된장찌개</td>\n",
       "      <td>8000</td>\n",
       "    </tr>\n",
       "  </tbody>\n",
       "</table>\n",
       "</div>"
      ],
      "text/plain": [
       "      메뉴     가격\n",
       "0    비빔밥  10000\n",
       "1   김치찌개   9000\n",
       "2   된장찌개   8000"
      ]
     },
     "execution_count": 8,
     "metadata": {},
     "output_type": "execute_result"
    }
   ],
   "source": [
    "dfs = pd.DataFrame({\n",
    "    \"메뉴\" : menu,\n",
    "    \"가격\" : price\n",
    "})\n",
    "dfs"
   ]
  },
  {
   "cell_type": "code",
   "execution_count": 10,
   "id": "2584e755-a587-4ce6-9d91-2a22c9134cca",
   "metadata": {},
   "outputs": [
    {
     "data": {
      "text/html": [
       "<div>\n",
       "<style scoped>\n",
       "    .dataframe tbody tr th:only-of-type {\n",
       "        vertical-align: middle;\n",
       "    }\n",
       "\n",
       "    .dataframe tbody tr th {\n",
       "        vertical-align: top;\n",
       "    }\n",
       "\n",
       "    .dataframe thead th {\n",
       "        text-align: right;\n",
       "    }\n",
       "</style>\n",
       "<table border=\"1\" class=\"dataframe\">\n",
       "  <thead>\n",
       "    <tr style=\"text-align: right;\">\n",
       "      <th></th>\n",
       "      <th>메뉴</th>\n",
       "      <th>가격</th>\n",
       "      <th>원산지</th>\n",
       "    </tr>\n",
       "  </thead>\n",
       "  <tbody>\n",
       "    <tr>\n",
       "      <th>0</th>\n",
       "      <td>비빔밥</td>\n",
       "      <td>10000</td>\n",
       "      <td>국내</td>\n",
       "    </tr>\n",
       "    <tr>\n",
       "      <th>1</th>\n",
       "      <td>김치찌개</td>\n",
       "      <td>9000</td>\n",
       "      <td>국내</td>\n",
       "    </tr>\n",
       "    <tr>\n",
       "      <th>2</th>\n",
       "      <td>된장</td>\n",
       "      <td>8000</td>\n",
       "      <td>국내</td>\n",
       "    </tr>\n",
       "  </tbody>\n",
       "</table>\n",
       "</div>"
      ],
      "text/plain": [
       "     메뉴     가격 원산지\n",
       "0   비빔밥  10000  국내\n",
       "1  김치찌개   9000  국내\n",
       "2    된장   8000  국내"
      ]
     },
     "execution_count": 10,
     "metadata": {},
     "output_type": "execute_result"
    }
   ],
   "source": [
    "df = pd.DataFrame({\n",
    "    \"메뉴\": [\"비빔밥\" , \"김치찌개\" ,\"된장\"] ,\n",
    "    \"가격\" : [10000,9000,8000],\n",
    "    \"원산지\" : [\"국내\" , \"국내\" ,\"국내\"]\n",
    "})\n",
    "df"
   ]
  },
  {
   "cell_type": "markdown",
   "id": "480794ab-54d1-4ddb-afa0-3383ebe4d142",
   "metadata": {},
   "source": [
    "컬럼선택"
   ]
  },
  {
   "cell_type": "code",
   "execution_count": 11,
   "id": "551ed2cc-c9b9-4088-8b64-8ae458cc2754",
   "metadata": {},
   "outputs": [],
   "source": [
    "ms = df[\"메뉴\"]\n",
    "display(ms, type(ms))"
   ]
  },
  {
   "cell_type": "code",
   "execution_count": null,
   "id": "d599a244-d4f7-4c3f-831f-cc9317e56bdb",
   "metadata": {},
   "outputs": [],
   "source": []
  },
  {
   "cell_type": "code",
   "execution_count": null,
   "id": "b7d8e06e-7d01-4029-b78a-6515c12d1e29",
   "metadata": {},
   "outputs": [],
   "source": []
  }
 ],
 "metadata": {
  "kernelspec": {
   "display_name": "Python 3 (ipykernel)",
   "language": "python",
   "name": "python3"
  },
  "language_info": {
   "codemirror_mode": {
    "name": "ipython",
    "version": 3
   },
   "file_extension": ".py",
   "mimetype": "text/x-python",
   "name": "python",
   "nbconvert_exporter": "python",
   "pygments_lexer": "ipython3",
   "version": "3.11.6"
  }
 },
 "nbformat": 4,
 "nbformat_minor": 5
}
