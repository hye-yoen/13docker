{
 "cells": [
  {
   "cell_type": "code",
   "execution_count": null,
   "id": "67a39d87-6708-4db0-ae81-0e37a5a862f5",
   "metadata": {},
   "outputs": [],
   "source": [
    "# ----------------------\n",
    "# 로지스틱 회귀\n",
    "# ----------------------\n",
    "# - Y가 \"점수 자체\"가 아니라 \"합격/불합격\"처럼 **범주형(0/1)** 일 때 사용  \n",
    "# - 예) 시험 점수(Y)를 바로 예측하는 게 아니라,  \n",
    "#   \"합격(1) / 불합격(0)\"을 예측  \n",
    "# - 공식적으로는 선형결과를 S자 곡선(시그모이드 함수)에 통과시켜 0~1 확률로 변환  \n",
    "\n",
    "# 예시:  \n",
    "# - 공부시간 20시간 → 합격 확률 80% (Y=1일 가능성 높음)  \n",
    "# - 공부시간 2시간 → 합격 확률 10% (Y=0일 가능성 높음) "
   ]
  },
  {
   "cell_type": "code",
   "execution_count": 3,
   "id": "09c23e90-460a-4545-b3ff-23ce4742086b",
   "metadata": {},
   "outputs": [],
   "source": [
    "# -----------------------------\n",
    "# 불러오기\n",
    "# -----------------------------\n",
    "import pandas as pd\n",
    "\n",
    "df = pd.read_csv(\"health_survey.csv\")\n",
    "# df = pd.read_csv(\"https://raw.githubusercontent.com/lovedlim/bigdata_analyst_cert/main/part3/ch5/health_survey.csv\")"
   ]
  },
  {
   "cell_type": "code",
   "execution_count": 4,
   "id": "1ff603ac-a9e7-41cd-9661-6667b299920b",
   "metadata": {},
   "outputs": [
    {
     "data": {
      "text/html": [
       "<div>\n",
       "<style scoped>\n",
       "    .dataframe tbody tr th:only-of-type {\n",
       "        vertical-align: middle;\n",
       "    }\n",
       "\n",
       "    .dataframe tbody tr th {\n",
       "        vertical-align: top;\n",
       "    }\n",
       "\n",
       "    .dataframe thead th {\n",
       "        text-align: right;\n",
       "    }\n",
       "</style>\n",
       "<table border=\"1\" class=\"dataframe\">\n",
       "  <thead>\n",
       "    <tr style=\"text-align: right;\">\n",
       "      <th></th>\n",
       "      <th>age</th>\n",
       "      <th>bmi</th>\n",
       "      <th>smoker</th>\n",
       "      <th>activity_level</th>\n",
       "      <th>disease</th>\n",
       "    </tr>\n",
       "  </thead>\n",
       "  <tbody>\n",
       "    <tr>\n",
       "      <th>0</th>\n",
       "      <td>62</td>\n",
       "      <td>35.179089</td>\n",
       "      <td>0</td>\n",
       "      <td>0</td>\n",
       "      <td>1</td>\n",
       "    </tr>\n",
       "    <tr>\n",
       "      <th>1</th>\n",
       "      <td>65</td>\n",
       "      <td>18.576042</td>\n",
       "      <td>0</td>\n",
       "      <td>2</td>\n",
       "      <td>1</td>\n",
       "    </tr>\n",
       "    <tr>\n",
       "      <th>2</th>\n",
       "      <td>71</td>\n",
       "      <td>33.178426</td>\n",
       "      <td>0</td>\n",
       "      <td>1</td>\n",
       "      <td>1</td>\n",
       "    </tr>\n",
       "    <tr>\n",
       "      <th>3</th>\n",
       "      <td>18</td>\n",
       "      <td>37.063007</td>\n",
       "      <td>1</td>\n",
       "      <td>2</td>\n",
       "      <td>0</td>\n",
       "    </tr>\n",
       "    <tr>\n",
       "      <th>4</th>\n",
       "      <td>21</td>\n",
       "      <td>17.613266</td>\n",
       "      <td>0</td>\n",
       "      <td>0</td>\n",
       "      <td>0</td>\n",
       "    </tr>\n",
       "    <tr>\n",
       "      <th>...</th>\n",
       "      <td>...</td>\n",
       "      <td>...</td>\n",
       "      <td>...</td>\n",
       "      <td>...</td>\n",
       "      <td>...</td>\n",
       "    </tr>\n",
       "    <tr>\n",
       "      <th>995</th>\n",
       "      <td>75</td>\n",
       "      <td>23.600372</td>\n",
       "      <td>0</td>\n",
       "      <td>2</td>\n",
       "      <td>1</td>\n",
       "    </tr>\n",
       "    <tr>\n",
       "      <th>996</th>\n",
       "      <td>24</td>\n",
       "      <td>9.659333</td>\n",
       "      <td>0</td>\n",
       "      <td>2</td>\n",
       "      <td>0</td>\n",
       "    </tr>\n",
       "    <tr>\n",
       "      <th>997</th>\n",
       "      <td>37</td>\n",
       "      <td>25.959939</td>\n",
       "      <td>0</td>\n",
       "      <td>0</td>\n",
       "      <td>0</td>\n",
       "    </tr>\n",
       "    <tr>\n",
       "      <th>998</th>\n",
       "      <td>52</td>\n",
       "      <td>25.356929</td>\n",
       "      <td>0</td>\n",
       "      <td>1</td>\n",
       "      <td>1</td>\n",
       "    </tr>\n",
       "    <tr>\n",
       "      <th>999</th>\n",
       "      <td>68</td>\n",
       "      <td>25.375065</td>\n",
       "      <td>0</td>\n",
       "      <td>0</td>\n",
       "      <td>1</td>\n",
       "    </tr>\n",
       "  </tbody>\n",
       "</table>\n",
       "<p>1000 rows × 5 columns</p>\n",
       "</div>"
      ],
      "text/plain": [
       "     age        bmi  smoker  activity_level  disease\n",
       "0     62  35.179089       0               0        1\n",
       "1     65  18.576042       0               2        1\n",
       "2     71  33.178426       0               1        1\n",
       "3     18  37.063007       1               2        0\n",
       "4     21  17.613266       0               0        0\n",
       "..   ...        ...     ...             ...      ...\n",
       "995   75  23.600372       0               2        1\n",
       "996   24   9.659333       0               2        0\n",
       "997   37  25.959939       0               0        0\n",
       "998   52  25.356929       0               1        1\n",
       "999   68  25.375065       0               0        1\n",
       "\n",
       "[1000 rows x 5 columns]"
      ]
     },
     "execution_count": 4,
     "metadata": {},
     "output_type": "execute_result"
    }
   ],
   "source": [
    "df"
   ]
  },
  {
   "cell_type": "code",
   "execution_count": 5,
   "id": "f8d5a558-7486-4d10-bc12-7b8156f49403",
   "metadata": {},
   "outputs": [
    {
     "name": "stdout",
     "output_type": "stream",
     "text": [
      "Optimization terminated successfully.\n",
      "         Current function value: 0.643725\n",
      "         Iterations 5\n"
     ]
    }
   ],
   "source": [
    "# 모델학습\n",
    "from statsmodels.formula.api import logit\n",
    "\n",
    "model = logit('disease ~ age + bmi', data=df).fit()"
   ]
  },
  {
   "cell_type": "code",
   "execution_count": 6,
   "id": "9e76bc09-ce70-44da-9420-361a84bade6a",
   "metadata": {},
   "outputs": [
    {
     "name": "stdout",
     "output_type": "stream",
     "text": [
      "                           Logit Regression Results                           \n",
      "==============================================================================\n",
      "Dep. Variable:                disease   No. Observations:                 1000\n",
      "Model:                          Logit   Df Residuals:                      997\n",
      "Method:                           MLE   Df Model:                            2\n",
      "Date:                Mon, 13 Oct 2025   Pseudo R-squ.:                 0.04996\n",
      "Time:                        02:24:34   Log-Likelihood:                -643.72\n",
      "converged:                       True   LL-Null:                       -677.58\n",
      "Covariance Type:            nonrobust   LLR p-value:                 1.984e-15\n",
      "==============================================================================\n",
      "                 coef    std err          z      P>|z|      [0.025      0.975]\n",
      "------------------------------------------------------------------------------\n",
      "Intercept     -1.8700      0.289     -6.482      0.000      -2.435      -1.305\n",
      "age            0.0177      0.004      4.747      0.000       0.010       0.025\n",
      "bmi            0.0563      0.009      6.418      0.000       0.039       0.074\n",
      "==============================================================================\n"
     ]
    }
   ],
   "source": [
    "print(model.summary())"
   ]
  },
  {
   "cell_type": "code",
   "execution_count": null,
   "id": "35588038-9433-4405-84ba-b77b098ad1e3",
   "metadata": {},
   "outputs": [],
   "source": [
    "# Log-Likelihood ,  LLR p-value"
   ]
  },
  {
   "cell_type": "code",
   "execution_count": 7,
   "id": "de360ce3-df6a-49aa-84e1-aa753843a9d3",
   "metadata": {},
   "outputs": [
    {
     "name": "stdout",
     "output_type": "stream",
     "text": [
      "0.05633387968708854\n",
      "1.057950853075076\n"
     ]
    }
   ],
   "source": [
    "# 오즈비값 확인\n",
    "import numpy as np\n",
    "print(model.params['bmi']) # 회귀계수(coef) 확인\n",
    "print(np.exp(model.params['bmi'])) # 오즈비(Ratio) 확인"
   ]
  },
  {
   "cell_type": "code",
   "execution_count": 8,
   "id": "74bd4ac4-a95f-4168-aeaa-02a4586afefd",
   "metadata": {},
   "outputs": [
    {
     "name": "stdout",
     "output_type": "stream",
     "text": [
      "0.017705261174417456\n",
      "1.0178629284499419\n"
     ]
    }
   ],
   "source": [
    "# 오즈비값 확인\n",
    "import numpy as np\n",
    "print(model.params['age']) # 회귀계수(coef) 확인\n",
    "print(np.exp(model.params['age'])) # 오즈비(Ratio) 확인"
   ]
  },
  {
   "cell_type": "code",
   "execution_count": 11,
   "id": "148ea07e-2511-4033-8a02-02776d706a33",
   "metadata": {},
   "outputs": [
    {
     "data": {
      "text/plain": [
       "0.6693529360380776"
      ]
     },
     "execution_count": 11,
     "metadata": {},
     "output_type": "execute_result"
    }
   ],
   "source": [
    "# 질병 활룰 확인\n",
    "X_new = pd.DataFrame([{\"age\" : 50 , \"bmi\" : 30.0}])\n",
    "pred = model.predict(X_new)[0]\n",
    "pred"
   ]
  },
  {
   "cell_type": "code",
   "execution_count": null,
   "id": "706133ff-b16b-4918-a1ff-d68c4bca2e04",
   "metadata": {},
   "outputs": [],
   "source": []
  },
  {
   "cell_type": "code",
   "execution_count": null,
   "id": "26689411-8ec8-452a-a938-7ba7979ae5d2",
   "metadata": {},
   "outputs": [],
   "source": []
  }
 ],
 "metadata": {
  "kernelspec": {
   "display_name": "Python 3 (ipykernel)",
   "language": "python",
   "name": "python3"
  },
  "language_info": {
   "codemirror_mode": {
    "name": "ipython",
    "version": 3
   },
   "file_extension": ".py",
   "mimetype": "text/x-python",
   "name": "python",
   "nbconvert_exporter": "python",
   "pygments_lexer": "ipython3",
   "version": "3.11.6"
  }
 },
 "nbformat": 4,
 "nbformat_minor": 5
}
