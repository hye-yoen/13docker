{
 "cells": [
  {
   "cell_type": "code",
   "execution_count": 1,
   "id": "b553005f-6055-4111-85a4-14a194cc2efd",
   "metadata": {},
   "outputs": [],
   "source": [
    "# 판다스 라이브러리\n",
    "import pandas as pd\n",
    "\n",
    "# 데이터 불러오기\n",
    "train = pd.read_csv('./train.csv')\n",
    "test = pd.read_csv('./test.csv')"
   ]
  },
  {
   "cell_type": "code",
   "execution_count": 13,
   "id": "4dd39d9e-fd15-4e6e-b9ab-9914d91fa2a5",
   "metadata": {},
   "outputs": [],
   "source": [
    "#---------------------------------------\n",
    "# EDA\n",
    "#---------------------------------------\n",
    "# 데이터 샘플\n",
    "# train.head()\n",
    "# train.tail(n)\n",
    "# train.sample(n)\n",
    "# # 데이터 크기\n",
    "# train.shape, test.shape\n",
    "# # 자료형 (타입)\n",
    "# train.info()\n",
    "# # 수치형 컬럼 통계값 확인(train)\n",
    "# train.describe()\n",
    "# # 수치형 컬럼 통계값 확인(test)\n",
    "# test.describe()\n",
    "# # 범주형 컬럼 통계값 확인 (train)\n",
    "# train.describe(include='O')\n",
    "# # 범주형 컬럼 통계값 확인 (test)\n",
    "# test.describe(include='object')\n",
    "# # 결측치 (train)\n",
    "# train.isnull().sum()\n",
    "# # 결측치 (test)\n",
    "# test.isnull().sum()\n",
    "# # label(target)별 개수 확인\n",
    "# train['Exited'].value_counts()"
   ]
  },
  {
   "cell_type": "code",
   "execution_count": null,
   "id": "d6ff1324-0c86-4efd-80e2-cdd3fab77416",
   "metadata": {},
   "outputs": [],
   "source": [
    "#---------------\n",
    "#데이터 전처리\n",
    "#----------------\n",
    "#결측치 처리\n",
    "# 이상치\n",
    "\n",
    "# train.descibe()\n"
   ]
  },
  {
   "cell_type": "code",
   "execution_count": 2,
   "id": "949375ba-4933-40ee-bc2b-7bfc36e80e1a",
   "metadata": {},
   "outputs": [],
   "source": [
    "y_train = train.pop('Exited')"
   ]
  },
  {
   "cell_type": "code",
   "execution_count": 3,
   "id": "75ab48c0-832a-4645-9d82-ac6f5421a08d",
   "metadata": {},
   "outputs": [
    {
     "data": {
      "text/plain": [
       "((165034, 13), (110023, 13))"
      ]
     },
     "execution_count": 3,
     "metadata": {},
     "output_type": "execute_result"
    }
   ],
   "source": [
    "train.shape , test.shape"
   ]
  },
  {
   "cell_type": "code",
   "execution_count": 9,
   "id": "ccb8ed48-3673-49cb-89de-96fe0744acb3",
   "metadata": {},
   "outputs": [],
   "source": [
    "#레이블 인코딩"
   ]
  },
  {
   "cell_type": "code",
   "execution_count": 14,
   "id": "b05b4e9e-3a0c-4dc2-8e17-760fcc3b22ea",
   "metadata": {},
   "outputs": [
    {
     "data": {
      "text/html": [
       "<div>\n",
       "<style scoped>\n",
       "    .dataframe tbody tr th:only-of-type {\n",
       "        vertical-align: middle;\n",
       "    }\n",
       "\n",
       "    .dataframe tbody tr th {\n",
       "        vertical-align: top;\n",
       "    }\n",
       "\n",
       "    .dataframe thead th {\n",
       "        text-align: right;\n",
       "    }\n",
       "</style>\n",
       "<table border=\"1\" class=\"dataframe\">\n",
       "  <thead>\n",
       "    <tr style=\"text-align: right;\">\n",
       "      <th></th>\n",
       "      <th>id</th>\n",
       "      <th>CustomerId</th>\n",
       "      <th>Surname</th>\n",
       "      <th>CreditScore</th>\n",
       "      <th>Geography</th>\n",
       "      <th>Gender</th>\n",
       "      <th>Age</th>\n",
       "      <th>Tenure</th>\n",
       "      <th>Balance</th>\n",
       "      <th>NumOfProducts</th>\n",
       "      <th>HasCrCard</th>\n",
       "      <th>IsActiveMember</th>\n",
       "      <th>EstimatedSalary</th>\n",
       "    </tr>\n",
       "  </thead>\n",
       "  <tbody>\n",
       "    <tr>\n",
       "      <th>0</th>\n",
       "      <td>165034</td>\n",
       "      <td>15773898</td>\n",
       "      <td>Lucchese</td>\n",
       "      <td>586</td>\n",
       "      <td>0</td>\n",
       "      <td>0</td>\n",
       "      <td>23.0</td>\n",
       "      <td>2</td>\n",
       "      <td>0.00</td>\n",
       "      <td>2</td>\n",
       "      <td>0.0</td>\n",
       "      <td>1.0</td>\n",
       "      <td>160976.75</td>\n",
       "    </tr>\n",
       "    <tr>\n",
       "      <th>1</th>\n",
       "      <td>165035</td>\n",
       "      <td>15782418</td>\n",
       "      <td>Nott</td>\n",
       "      <td>683</td>\n",
       "      <td>0</td>\n",
       "      <td>0</td>\n",
       "      <td>46.0</td>\n",
       "      <td>2</td>\n",
       "      <td>0.00</td>\n",
       "      <td>1</td>\n",
       "      <td>1.0</td>\n",
       "      <td>0.0</td>\n",
       "      <td>72549.27</td>\n",
       "    </tr>\n",
       "    <tr>\n",
       "      <th>2</th>\n",
       "      <td>165036</td>\n",
       "      <td>15807120</td>\n",
       "      <td>K?</td>\n",
       "      <td>656</td>\n",
       "      <td>0</td>\n",
       "      <td>0</td>\n",
       "      <td>34.0</td>\n",
       "      <td>7</td>\n",
       "      <td>0.00</td>\n",
       "      <td>2</td>\n",
       "      <td>1.0</td>\n",
       "      <td>0.0</td>\n",
       "      <td>138882.09</td>\n",
       "    </tr>\n",
       "    <tr>\n",
       "      <th>3</th>\n",
       "      <td>165037</td>\n",
       "      <td>15808905</td>\n",
       "      <td>O'Donnell</td>\n",
       "      <td>681</td>\n",
       "      <td>0</td>\n",
       "      <td>1</td>\n",
       "      <td>36.0</td>\n",
       "      <td>8</td>\n",
       "      <td>0.00</td>\n",
       "      <td>1</td>\n",
       "      <td>1.0</td>\n",
       "      <td>0.0</td>\n",
       "      <td>113931.57</td>\n",
       "    </tr>\n",
       "    <tr>\n",
       "      <th>4</th>\n",
       "      <td>165038</td>\n",
       "      <td>15607314</td>\n",
       "      <td>Higgins</td>\n",
       "      <td>752</td>\n",
       "      <td>1</td>\n",
       "      <td>1</td>\n",
       "      <td>38.0</td>\n",
       "      <td>10</td>\n",
       "      <td>121263.62</td>\n",
       "      <td>1</td>\n",
       "      <td>1.0</td>\n",
       "      <td>0.0</td>\n",
       "      <td>139431.00</td>\n",
       "    </tr>\n",
       "    <tr>\n",
       "      <th>...</th>\n",
       "      <td>...</td>\n",
       "      <td>...</td>\n",
       "      <td>...</td>\n",
       "      <td>...</td>\n",
       "      <td>...</td>\n",
       "      <td>...</td>\n",
       "      <td>...</td>\n",
       "      <td>...</td>\n",
       "      <td>...</td>\n",
       "      <td>...</td>\n",
       "      <td>...</td>\n",
       "      <td>...</td>\n",
       "      <td>...</td>\n",
       "    </tr>\n",
       "    <tr>\n",
       "      <th>110018</th>\n",
       "      <td>275052</td>\n",
       "      <td>15662091</td>\n",
       "      <td>P'eng</td>\n",
       "      <td>570</td>\n",
       "      <td>2</td>\n",
       "      <td>1</td>\n",
       "      <td>29.0</td>\n",
       "      <td>7</td>\n",
       "      <td>116099.82</td>\n",
       "      <td>1</td>\n",
       "      <td>1.0</td>\n",
       "      <td>1.0</td>\n",
       "      <td>148087.62</td>\n",
       "    </tr>\n",
       "    <tr>\n",
       "      <th>110019</th>\n",
       "      <td>275053</td>\n",
       "      <td>15774133</td>\n",
       "      <td>Cox</td>\n",
       "      <td>575</td>\n",
       "      <td>0</td>\n",
       "      <td>0</td>\n",
       "      <td>36.0</td>\n",
       "      <td>4</td>\n",
       "      <td>178032.53</td>\n",
       "      <td>1</td>\n",
       "      <td>1.0</td>\n",
       "      <td>1.0</td>\n",
       "      <td>42181.68</td>\n",
       "    </tr>\n",
       "    <tr>\n",
       "      <th>110020</th>\n",
       "      <td>275054</td>\n",
       "      <td>15728456</td>\n",
       "      <td>Ch'iu</td>\n",
       "      <td>712</td>\n",
       "      <td>0</td>\n",
       "      <td>1</td>\n",
       "      <td>31.0</td>\n",
       "      <td>2</td>\n",
       "      <td>0.00</td>\n",
       "      <td>2</td>\n",
       "      <td>1.0</td>\n",
       "      <td>0.0</td>\n",
       "      <td>16287.38</td>\n",
       "    </tr>\n",
       "    <tr>\n",
       "      <th>110021</th>\n",
       "      <td>275055</td>\n",
       "      <td>15687541</td>\n",
       "      <td>Yegorova</td>\n",
       "      <td>709</td>\n",
       "      <td>0</td>\n",
       "      <td>0</td>\n",
       "      <td>32.0</td>\n",
       "      <td>3</td>\n",
       "      <td>0.00</td>\n",
       "      <td>1</td>\n",
       "      <td>1.0</td>\n",
       "      <td>1.0</td>\n",
       "      <td>158816.58</td>\n",
       "    </tr>\n",
       "    <tr>\n",
       "      <th>110022</th>\n",
       "      <td>275056</td>\n",
       "      <td>15663942</td>\n",
       "      <td>Tuan</td>\n",
       "      <td>621</td>\n",
       "      <td>0</td>\n",
       "      <td>0</td>\n",
       "      <td>37.0</td>\n",
       "      <td>7</td>\n",
       "      <td>87848.39</td>\n",
       "      <td>1</td>\n",
       "      <td>1.0</td>\n",
       "      <td>0.0</td>\n",
       "      <td>24210.56</td>\n",
       "    </tr>\n",
       "  </tbody>\n",
       "</table>\n",
       "<p>110023 rows × 13 columns</p>\n",
       "</div>"
      ],
      "text/plain": [
       "            id  CustomerId    Surname  CreditScore  Geography  Gender   Age  \\\n",
       "0       165034    15773898   Lucchese          586          0       0  23.0   \n",
       "1       165035    15782418       Nott          683          0       0  46.0   \n",
       "2       165036    15807120         K?          656          0       0  34.0   \n",
       "3       165037    15808905  O'Donnell          681          0       1  36.0   \n",
       "4       165038    15607314    Higgins          752          1       1  38.0   \n",
       "...        ...         ...        ...          ...        ...     ...   ...   \n",
       "110018  275052    15662091      P'eng          570          2       1  29.0   \n",
       "110019  275053    15774133        Cox          575          0       0  36.0   \n",
       "110020  275054    15728456      Ch'iu          712          0       1  31.0   \n",
       "110021  275055    15687541   Yegorova          709          0       0  32.0   \n",
       "110022  275056    15663942       Tuan          621          0       0  37.0   \n",
       "\n",
       "        Tenure    Balance  NumOfProducts  HasCrCard  IsActiveMember  \\\n",
       "0            2       0.00              2        0.0             1.0   \n",
       "1            2       0.00              1        1.0             0.0   \n",
       "2            7       0.00              2        1.0             0.0   \n",
       "3            8       0.00              1        1.0             0.0   \n",
       "4           10  121263.62              1        1.0             0.0   \n",
       "...        ...        ...            ...        ...             ...   \n",
       "110018       7  116099.82              1        1.0             1.0   \n",
       "110019       4  178032.53              1        1.0             1.0   \n",
       "110020       2       0.00              2        1.0             0.0   \n",
       "110021       3       0.00              1        1.0             1.0   \n",
       "110022       7   87848.39              1        1.0             0.0   \n",
       "\n",
       "        EstimatedSalary  \n",
       "0             160976.75  \n",
       "1              72549.27  \n",
       "2             138882.09  \n",
       "3             113931.57  \n",
       "4             139431.00  \n",
       "...                 ...  \n",
       "110018        148087.62  \n",
       "110019         42181.68  \n",
       "110020         16287.38  \n",
       "110021        158816.58  \n",
       "110022         24210.56  \n",
       "\n",
       "[110023 rows x 13 columns]"
      ]
     },
     "execution_count": 14,
     "metadata": {},
     "output_type": "execute_result"
    }
   ],
   "source": [
    "from sklearn.preprocessing import LabelEncoder\n",
    "cols = train.columns[train.dtypes == object]\n",
    "for col in cols:\n",
    "    le = LabelEncoder()\n",
    "    le.fit(pd.concat([train[col],test[col]],axis=0))# 행 합치기 train,test 행이 맞지 않음\n",
    "    train[col] = le.fit_transform(train[col])\n",
    "    test[col] = le.transform(test[col])\n",
    "\n",
    "test"
   ]
  },
  {
   "cell_type": "code",
   "execution_count": 16,
   "id": "6e0dc521-f6c1-487b-a9d5-4091ee25eea6",
   "metadata": {},
   "outputs": [
    {
     "data": {
      "text/plain": [
       "Exited\n",
       "0    130113\n",
       "1     34921\n",
       "Name: count, dtype: int64"
      ]
     },
     "execution_count": 16,
     "metadata": {},
     "output_type": "execute_result"
    }
   ],
   "source": [
    "y_train.value_counts()"
   ]
  },
  {
   "cell_type": "code",
   "execution_count": null,
   "id": "e9036b42-7e43-4274-946b-6886d0855782",
   "metadata": {},
   "outputs": [],
   "source": [
    "# 검증용 데이터 분할"
   ]
  },
  {
   "cell_type": "code",
   "execution_count": 17,
   "id": "897a8136-5960-4aad-8513-4d164ea75dce",
   "metadata": {},
   "outputs": [
    {
     "data": {
      "text/plain": [
       "((132027, 13), (33007, 13), (132027,), (33007,))"
      ]
     },
     "execution_count": 17,
     "metadata": {},
     "output_type": "execute_result"
    }
   ],
   "source": [
    "from sklearn.model_selection import train_test_split\n",
    "\n",
    "X_train, X_val, y_train, y_val = train_test_split(train,\n",
    "                                                  y_train,\n",
    "                                                  test_size=0.2,\n",
    "                                                  random_state=0)\n",
    "X_train.shape, X_val.shape, y_train.shape, y_val.shape"
   ]
  },
  {
   "cell_type": "code",
   "execution_count": 30,
   "id": "ed22aca9-1930-4a84-8ce2-92f8c94722d8",
   "metadata": {},
   "outputs": [],
   "source": [
    "from sklearn.ensemble import RandomForestClassifier\n",
    "rf = RandomForestClassifier(random_state=0)\n",
    "rf.fit(X_train, y_train)\n",
    "pred1=rf.predict_proba(X_val)  # auc용\n",
    "pred1_label=rf.predict(X_val) # auc제외 나머지 검증용 라벨 ,정확도\n",
    "\n",
    "# LightGBM\n",
    "import lightgbm as lgb\n",
    "lgbmc = lgb.LGBMClassifier(random_state=0, verbose=-1)\n",
    "lgbmc.fit(X_train, y_train)\n",
    "pred2 = lgbmc.predict_proba(X_val)\n",
    "pred2_label=rf.predict(X_val)"
   ]
  },
  {
   "cell_type": "code",
   "execution_count": 21,
   "id": "6a11daab-635d-4fe5-a383-b30cee322147",
   "metadata": {},
   "outputs": [
    {
     "name": "stdout",
     "output_type": "stream",
     "text": [
      "[0.11 0.21 0.75 ... 0.28 0.05 0.36]\n",
      "\n",
      "[0.06442807 0.14527317 0.68723293 ... 0.23911734 0.02022277 0.30957594]\n"
     ]
    }
   ],
   "source": [
    "print(pred1[:,1])\n",
    "print()\n",
    "print(pred2[:,1])"
   ]
  },
  {
   "cell_type": "code",
   "execution_count": 28,
   "id": "9efbacf1-5ef3-4513-b6c7-6776de41bbb9",
   "metadata": {},
   "outputs": [
    {
     "name": "stdout",
     "output_type": "stream",
     "text": [
      "roc_auc: 0.8801525772952798\n",
      "accuracy_score: 0.8627260884054897\n",
      "f1_score: 0.6168935486598461\n"
     ]
    }
   ],
   "source": [
    "from sklearn.metrics import roc_auc_score\n",
    "roc_auc = roc_auc_score(y_val, pred1[:,1])\n",
    "print('roc_auc:', roc_auc)\n",
    "\n",
    "from sklearn.metrics import accuracy_score\n",
    "# pred = rf.predict(X_val)\n",
    "accuracy = accuracy_score(y_val, pred1_label)\n",
    "print('accuracy_score:', accuracy)\n",
    "\n",
    "from sklearn.metrics import f1_score\n",
    "f1 = f1_score(y_val,  pred1_label, pos_label=1) \n",
    "print('f1_score:', f1)"
   ]
  },
  {
   "cell_type": "code",
   "execution_count": 31,
   "id": "944fb7df-3eb2-4df4-ae9a-b6289c66a57a",
   "metadata": {},
   "outputs": [
    {
     "name": "stdout",
     "output_type": "stream",
     "text": [
      "roc_auc: 0.8902162094130004\n",
      "accuracy_score: 0.8627260884054897\n",
      "f1_score: 0.6168935486598461\n"
     ]
    }
   ],
   "source": [
    "from sklearn.metrics import roc_auc_score\n",
    "roc_auc2_lgm = roc_auc_score(y_val, pred2[:,1])\n",
    "print('roc_auc:', roc_auc2_lgm)\n",
    "\n",
    "from sklearn.metrics import accuracy_score\n",
    "# pred = rf.predict(X_val)\n",
    "accuracy_lgm = accuracy_score(y_val, pred2_label)\n",
    "print('accuracy_score:', accuracy_lgm)\n",
    "\n",
    "from sklearn.metrics import f1_score\n",
    "f1_lgm = f1_score(y_val,  pred2_label, pos_label=1)\n",
    "print('f1_score:', f1_lgm)"
   ]
  },
  {
   "cell_type": "code",
   "execution_count": 34,
   "id": "44d6ffd9-ede1-4e34-b21d-b5177965b828",
   "metadata": {},
   "outputs": [],
   "source": [
    "# pred = lgbmc.predict_proba(test)\n",
    "# pred\n",
    "\n",
    "# # lgbmc.classes_\n",
    "\n",
    "# submit = pd.DataFrame({'pred':pred[:,1]})\n",
    "# submit.to_csv(\"result.csv\", index=False)\n",
    "\n",
    "# pd.read_csv(\"result.csv\")"
   ]
  }
 ],
 "metadata": {
  "kernelspec": {
   "display_name": "Python 3 (ipykernel)",
   "language": "python",
   "name": "python3"
  },
  "language_info": {
   "codemirror_mode": {
    "name": "ipython",
    "version": 3
   },
   "file_extension": ".py",
   "mimetype": "text/x-python",
   "name": "python",
   "nbconvert_exporter": "python",
   "pygments_lexer": "ipython3",
   "version": "3.11.6"
  }
 },
 "nbformat": 4,
 "nbformat_minor": 5
}
