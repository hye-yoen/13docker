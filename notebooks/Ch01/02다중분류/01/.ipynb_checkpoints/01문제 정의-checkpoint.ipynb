{
 "cells": [
  {
   "cell_type": "markdown",
   "id": "e7ed648c-a211-4b02-917a-842404f9f953",
   "metadata": {},
   "source": [
    "# 문제정의"
   ]
  },
  {
   "cell_type": "markdown",
   "id": "c8698877-b11c-444a-b18a-d31513bc7f08",
   "metadata": {},
   "source": [
    "## 고객별 신용등급 분류\n",
    "### 1- BAD 2- STANDARD 3 - GOOD\n",
    "### 타깃 라벨 값 : Credit_Score\n",
    "Credit_Score\t타깃 변수(y), 신용 등급 (1=Bad, 2=Standard, 3=Good)\n"
   ]
  },
  {
   "cell_type": "code",
   "execution_count": null,
   "id": "c3713bbe-d8ba-40e6-9c73-afcfce5ca4b0",
   "metadata": {},
   "outputs": [],
   "source": []
  },
  {
   "cell_type": "code",
   "execution_count": null,
   "id": "6a628ce6-7b91-4f91-8b3b-d54fdcbec3d3",
   "metadata": {},
   "outputs": [],
   "source": []
  },
  {
   "cell_type": "code",
   "execution_count": null,
   "id": "c7f60b04-ca63-4151-9ac5-dbfc9e198d7b",
   "metadata": {},
   "outputs": [],
   "source": []
  }
 ],
 "metadata": {
  "kernelspec": {
   "display_name": "Python 3 (ipykernel)",
   "language": "python",
   "name": "python3"
  },
  "language_info": {
   "codemirror_mode": {
    "name": "ipython",
    "version": 3
   },
   "file_extension": ".py",
   "mimetype": "text/x-python",
   "name": "python",
   "nbconvert_exporter": "python",
   "pygments_lexer": "ipython3",
   "version": "3.11.6"
  }
 },
 "nbformat": 4,
 "nbformat_minor": 5
}
