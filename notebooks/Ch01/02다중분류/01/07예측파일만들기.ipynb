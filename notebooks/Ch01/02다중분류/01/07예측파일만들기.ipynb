{
 "cells": [
  {
   "cell_type": "markdown",
   "id": "0fd52217-8807-426e-baa1-d4b10e6e17da",
   "metadata": {},
   "source": [
    "# 2. 라이브러리 가져오기"
   ]
  },
  {
   "cell_type": "code",
   "execution_count": 3,
   "id": "27197242-31fa-40b4-811d-66ea10e249aa",
   "metadata": {},
   "outputs": [],
   "source": [
    "import pandas as pd\n",
    "\n",
    "train = pd.read_csv(\"./train.csv\")\n",
    "test = pd.read_csv(\"./test.csv\")"
   ]
  },
  {
   "cell_type": "code",
   "execution_count": 4,
   "id": "a00db1f8-cdc5-4807-880f-418d4d5e4bdb",
   "metadata": {},
   "outputs": [],
   "source": [
    "# test"
   ]
  },
  {
   "cell_type": "markdown",
   "id": "c2b2bcfb-53c3-4261-a362-d6766edf5dd3",
   "metadata": {},
   "source": [
    "\n",
    "# 3. EDA\n"
   ]
  },
  {
   "cell_type": "code",
   "execution_count": 2,
   "id": "cd9fd0fa-6f66-4468-a476-049b61168926",
   "metadata": {},
   "outputs": [
    {
     "data": {
      "text/html": [
       "<div>\n",
       "<style scoped>\n",
       "    .dataframe tbody tr th:only-of-type {\n",
       "        vertical-align: middle;\n",
       "    }\n",
       "\n",
       "    .dataframe tbody tr th {\n",
       "        vertical-align: top;\n",
       "    }\n",
       "\n",
       "    .dataframe thead th {\n",
       "        text-align: right;\n",
       "    }\n",
       "</style>\n",
       "<table border=\"1\" class=\"dataframe\">\n",
       "  <thead>\n",
       "    <tr style=\"text-align: right;\">\n",
       "      <th></th>\n",
       "      <th>Delay_from_due_date</th>\n",
       "      <th>Num_of_Delayed_Payment</th>\n",
       "      <th>Num_Credit_Inquiries</th>\n",
       "      <th>Credit_Utilization_Ratio</th>\n",
       "      <th>Credit_History_Age</th>\n",
       "      <th>Payment_of_Min_Amount</th>\n",
       "      <th>Amount_invested_monthly</th>\n",
       "      <th>Monthly_Balance</th>\n",
       "      <th>Credit_Score</th>\n",
       "      <th>Credit_Mix</th>\n",
       "      <th>...</th>\n",
       "      <th>Age</th>\n",
       "      <th>Annual_Income</th>\n",
       "      <th>Num_Bank_Accounts</th>\n",
       "      <th>Num_Credit_Card</th>\n",
       "      <th>Interest_Rate</th>\n",
       "      <th>Num_of_Loan</th>\n",
       "      <th>Monthly_Inhand_Salary</th>\n",
       "      <th>Changed_Credit_Limit</th>\n",
       "      <th>Outstanding_Debt</th>\n",
       "      <th>Total_EMI_per_month</th>\n",
       "    </tr>\n",
       "  </thead>\n",
       "  <tbody>\n",
       "    <tr>\n",
       "      <th>6424</th>\n",
       "      <td>55.0</td>\n",
       "      <td>15.0</td>\n",
       "      <td>10.0</td>\n",
       "      <td>28.266779</td>\n",
       "      <td>173.0</td>\n",
       "      <td>Yes</td>\n",
       "      <td>71.327411</td>\n",
       "      <td>268.332833</td>\n",
       "      <td>1</td>\n",
       "      <td>Bad</td>\n",
       "      <td>...</td>\n",
       "      <td>36.0</td>\n",
       "      <td>16708.070</td>\n",
       "      <td>6.0</td>\n",
       "      <td>9.0</td>\n",
       "      <td>22.0</td>\n",
       "      <td>8.0</td>\n",
       "      <td>1359.339167</td>\n",
       "      <td>8.47</td>\n",
       "      <td>2674.89</td>\n",
       "      <td>76.273673</td>\n",
       "    </tr>\n",
       "    <tr>\n",
       "      <th>835</th>\n",
       "      <td>1.0</td>\n",
       "      <td>6.0</td>\n",
       "      <td>0.0</td>\n",
       "      <td>31.872367</td>\n",
       "      <td>226.0</td>\n",
       "      <td>No</td>\n",
       "      <td>36.462136</td>\n",
       "      <td>351.470198</td>\n",
       "      <td>3</td>\n",
       "      <td>Good</td>\n",
       "      <td>...</td>\n",
       "      <td>37.0</td>\n",
       "      <td>17559.880</td>\n",
       "      <td>2.0</td>\n",
       "      <td>7.0</td>\n",
       "      <td>5.0</td>\n",
       "      <td>0.0</td>\n",
       "      <td>1179.323333</td>\n",
       "      <td>7.02</td>\n",
       "      <td>23.70</td>\n",
       "      <td>0.000000</td>\n",
       "    </tr>\n",
       "    <tr>\n",
       "      <th>6425</th>\n",
       "      <td>14.0</td>\n",
       "      <td>18.0</td>\n",
       "      <td>2.0</td>\n",
       "      <td>36.621015</td>\n",
       "      <td>239.0</td>\n",
       "      <td>Yes</td>\n",
       "      <td>18.641600</td>\n",
       "      <td>303.655690</td>\n",
       "      <td>2</td>\n",
       "      <td>Standard</td>\n",
       "      <td>...</td>\n",
       "      <td>40.0</td>\n",
       "      <td>13999.185</td>\n",
       "      <td>8.0</td>\n",
       "      <td>5.0</td>\n",
       "      <td>6.0</td>\n",
       "      <td>1.0</td>\n",
       "      <td>932.598750</td>\n",
       "      <td>3.55</td>\n",
       "      <td>16.30</td>\n",
       "      <td>10.962585</td>\n",
       "    </tr>\n",
       "    <tr>\n",
       "      <th>8042</th>\n",
       "      <td>3.0</td>\n",
       "      <td>0.0</td>\n",
       "      <td>3.0</td>\n",
       "      <td>21.542892</td>\n",
       "      <td>191.0</td>\n",
       "      <td>No</td>\n",
       "      <td>1255.899302</td>\n",
       "      <td>819.979411</td>\n",
       "      <td>3</td>\n",
       "      <td>Good</td>\n",
       "      <td>...</td>\n",
       "      <td>41.0</td>\n",
       "      <td>130125.040</td>\n",
       "      <td>5.0</td>\n",
       "      <td>2.0</td>\n",
       "      <td>11.0</td>\n",
       "      <td>2.0</td>\n",
       "      <td>10871.753333</td>\n",
       "      <td>3.82</td>\n",
       "      <td>1195.05</td>\n",
       "      <td>204.285650</td>\n",
       "    </tr>\n",
       "    <tr>\n",
       "      <th>9180</th>\n",
       "      <td>14.0</td>\n",
       "      <td>6.0</td>\n",
       "      <td>2.0</td>\n",
       "      <td>34.270117</td>\n",
       "      <td>217.0</td>\n",
       "      <td>No</td>\n",
       "      <td>179.103006</td>\n",
       "      <td>347.512214</td>\n",
       "      <td>2</td>\n",
       "      <td>Good</td>\n",
       "      <td>...</td>\n",
       "      <td>18.0</td>\n",
       "      <td>33349.630</td>\n",
       "      <td>4.0</td>\n",
       "      <td>1.0</td>\n",
       "      <td>3.0</td>\n",
       "      <td>2.0</td>\n",
       "      <td>2925.135833</td>\n",
       "      <td>1.59</td>\n",
       "      <td>248.58</td>\n",
       "      <td>45.898364</td>\n",
       "    </tr>\n",
       "  </tbody>\n",
       "</table>\n",
       "<p>5 rows × 21 columns</p>\n",
       "</div>"
      ],
      "text/plain": [
       "      Delay_from_due_date  Num_of_Delayed_Payment  Num_Credit_Inquiries  \\\n",
       "6424                 55.0                    15.0                  10.0   \n",
       "835                   1.0                     6.0                   0.0   \n",
       "6425                 14.0                    18.0                   2.0   \n",
       "8042                  3.0                     0.0                   3.0   \n",
       "9180                 14.0                     6.0                   2.0   \n",
       "\n",
       "      Credit_Utilization_Ratio  Credit_History_Age Payment_of_Min_Amount  \\\n",
       "6424                 28.266779               173.0                   Yes   \n",
       "835                  31.872367               226.0                    No   \n",
       "6425                 36.621015               239.0                   Yes   \n",
       "8042                 21.542892               191.0                    No   \n",
       "9180                 34.270117               217.0                    No   \n",
       "\n",
       "      Amount_invested_monthly  Monthly_Balance  Credit_Score Credit_Mix  ...  \\\n",
       "6424                71.327411       268.332833             1        Bad  ...   \n",
       "835                 36.462136       351.470198             3       Good  ...   \n",
       "6425                18.641600       303.655690             2   Standard  ...   \n",
       "8042              1255.899302       819.979411             3       Good  ...   \n",
       "9180               179.103006       347.512214             2       Good  ...   \n",
       "\n",
       "       Age  Annual_Income  Num_Bank_Accounts  Num_Credit_Card  Interest_Rate  \\\n",
       "6424  36.0      16708.070                6.0              9.0           22.0   \n",
       "835   37.0      17559.880                2.0              7.0            5.0   \n",
       "6425  40.0      13999.185                8.0              5.0            6.0   \n",
       "8042  41.0     130125.040                5.0              2.0           11.0   \n",
       "9180  18.0      33349.630                4.0              1.0            3.0   \n",
       "\n",
       "      Num_of_Loan  Monthly_Inhand_Salary  Changed_Credit_Limit  \\\n",
       "6424          8.0            1359.339167                  8.47   \n",
       "835           0.0            1179.323333                  7.02   \n",
       "6425          1.0             932.598750                  3.55   \n",
       "8042          2.0           10871.753333                  3.82   \n",
       "9180          2.0            2925.135833                  1.59   \n",
       "\n",
       "      Outstanding_Debt  Total_EMI_per_month  \n",
       "6424           2674.89            76.273673  \n",
       "835              23.70             0.000000  \n",
       "6425             16.30            10.962585  \n",
       "8042           1195.05           204.285650  \n",
       "9180            248.58            45.898364  \n",
       "\n",
       "[5 rows x 21 columns]"
      ]
     },
     "execution_count": 2,
     "metadata": {},
     "output_type": "execute_result"
    }
   ],
   "source": [
    "train.head()\n",
    "train.tail()\n",
    "train.sample(5)"
   ]
  },
  {
   "cell_type": "code",
   "execution_count": 3,
   "id": "0fe3dd55-f818-429e-b983-54d2aaa976aa",
   "metadata": {},
   "outputs": [
    {
     "data": {
      "text/plain": [
       "((10000, 21), (10000, 20))"
      ]
     },
     "execution_count": 3,
     "metadata": {},
     "output_type": "execute_result"
    }
   ],
   "source": [
    "train.shape, test.shape"
   ]
  },
  {
   "cell_type": "code",
   "execution_count": 4,
   "id": "415bc9de-3db7-437b-8117-05ae109c115a",
   "metadata": {},
   "outputs": [
    {
     "data": {
      "text/plain": [
       "Credit_Score\n",
       "2               5237\n",
       "1               2978\n",
       "3               1785\n",
       "Name: count, dtype: int64"
      ]
     },
     "execution_count": 4,
     "metadata": {},
     "output_type": "execute_result"
    }
   ],
   "source": [
    "train[['Credit_Score']].value_counts()  #Y값 확인"
   ]
  },
  {
   "cell_type": "code",
   "execution_count": 14,
   "id": "8a0d18dc-ed23-4fe3-89f8-f104eb7b08de",
   "metadata": {},
   "outputs": [
    {
     "name": "stdout",
     "output_type": "stream",
     "text": [
      "<class 'pandas.core.frame.DataFrame'>\n",
      "RangeIndex: 10000 entries, 0 to 9999\n",
      "Data columns (total 21 columns):\n",
      " #   Column                    Non-Null Count  Dtype  \n",
      "---  ------                    --------------  -----  \n",
      " 0   Delay_from_due_date       10000 non-null  float64\n",
      " 1   Num_of_Delayed_Payment    10000 non-null  float64\n",
      " 2   Num_Credit_Inquiries      10000 non-null  float64\n",
      " 3   Credit_Utilization_Ratio  10000 non-null  float64\n",
      " 4   Credit_History_Age        10000 non-null  float64\n",
      " 5   Payment_of_Min_Amount     10000 non-null  object \n",
      " 6   Amount_invested_monthly   10000 non-null  float64\n",
      " 7   Monthly_Balance           10000 non-null  float64\n",
      " 8   Credit_Score              10000 non-null  int64  \n",
      " 9   Credit_Mix                10000 non-null  object \n",
      " 10  Payment_Behaviour         10000 non-null  object \n",
      " 11  Age                       10000 non-null  float64\n",
      " 12  Annual_Income             10000 non-null  float64\n",
      " 13  Num_Bank_Accounts         10000 non-null  float64\n",
      " 14  Num_Credit_Card           10000 non-null  float64\n",
      " 15  Interest_Rate             10000 non-null  float64\n",
      " 16  Num_of_Loan               10000 non-null  float64\n",
      " 17  Monthly_Inhand_Salary     10000 non-null  float64\n",
      " 18  Changed_Credit_Limit      10000 non-null  float64\n",
      " 19  Outstanding_Debt          10000 non-null  float64\n",
      " 20  Total_EMI_per_month       10000 non-null  float64\n",
      "dtypes: float64(17), int64(1), object(3)\n",
      "memory usage: 1.6+ MB\n"
     ]
    }
   ],
   "source": [
    "train.info()"
   ]
  },
  {
   "cell_type": "code",
   "execution_count": 18,
   "id": "2076476d-7907-45ca-a5be-1e5795291d88",
   "metadata": {},
   "outputs": [],
   "source": [
    "# test.info()"
   ]
  },
  {
   "cell_type": "code",
   "execution_count": 17,
   "id": "224388f3-1d84-4797-ad84-1cb2dee628c5",
   "metadata": {},
   "outputs": [
    {
     "data": {
      "text/html": [
       "<div>\n",
       "<style scoped>\n",
       "    .dataframe tbody tr th:only-of-type {\n",
       "        vertical-align: middle;\n",
       "    }\n",
       "\n",
       "    .dataframe tbody tr th {\n",
       "        vertical-align: top;\n",
       "    }\n",
       "\n",
       "    .dataframe thead th {\n",
       "        text-align: right;\n",
       "    }\n",
       "</style>\n",
       "<table border=\"1\" class=\"dataframe\">\n",
       "  <thead>\n",
       "    <tr style=\"text-align: right;\">\n",
       "      <th></th>\n",
       "      <th>Delay_from_due_date</th>\n",
       "      <th>Num_of_Delayed_Payment</th>\n",
       "      <th>Num_Credit_Inquiries</th>\n",
       "      <th>Credit_Utilization_Ratio</th>\n",
       "      <th>Credit_History_Age</th>\n",
       "      <th>Amount_invested_monthly</th>\n",
       "      <th>Monthly_Balance</th>\n",
       "      <th>Age</th>\n",
       "      <th>Annual_Income</th>\n",
       "      <th>Num_Bank_Accounts</th>\n",
       "      <th>Num_Credit_Card</th>\n",
       "      <th>Interest_Rate</th>\n",
       "      <th>Num_of_Loan</th>\n",
       "      <th>Monthly_Inhand_Salary</th>\n",
       "      <th>Changed_Credit_Limit</th>\n",
       "      <th>Outstanding_Debt</th>\n",
       "      <th>Total_EMI_per_month</th>\n",
       "    </tr>\n",
       "  </thead>\n",
       "  <tbody>\n",
       "    <tr>\n",
       "      <th>count</th>\n",
       "      <td>10000.000000</td>\n",
       "      <td>10000.000000</td>\n",
       "      <td>10000.000000</td>\n",
       "      <td>10000.000000</td>\n",
       "      <td>10000.000000</td>\n",
       "      <td>10000.000000</td>\n",
       "      <td>10000.000000</td>\n",
       "      <td>10000.000000</td>\n",
       "      <td>10000.000000</td>\n",
       "      <td>10000.000000</td>\n",
       "      <td>10000.000000</td>\n",
       "      <td>10000.000000</td>\n",
       "      <td>10000.000000</td>\n",
       "      <td>10000.000000</td>\n",
       "      <td>10000.000000</td>\n",
       "      <td>10000.000000</td>\n",
       "      <td>10000.000000</td>\n",
       "    </tr>\n",
       "    <tr>\n",
       "      <th>mean</th>\n",
       "      <td>21.097900</td>\n",
       "      <td>13.255200</td>\n",
       "      <td>5.752500</td>\n",
       "      <td>32.186729</td>\n",
       "      <td>221.825800</td>\n",
       "      <td>193.117531</td>\n",
       "      <td>400.580605</td>\n",
       "      <td>33.482000</td>\n",
       "      <td>50108.745203</td>\n",
       "      <td>5.340400</td>\n",
       "      <td>5.528100</td>\n",
       "      <td>14.472300</td>\n",
       "      <td>3.544600</td>\n",
       "      <td>4166.494700</td>\n",
       "      <td>10.416235</td>\n",
       "      <td>1416.394165</td>\n",
       "      <td>103.957612</td>\n",
       "    </tr>\n",
       "    <tr>\n",
       "      <th>std</th>\n",
       "      <td>14.797811</td>\n",
       "      <td>6.251238</td>\n",
       "      <td>3.865998</td>\n",
       "      <td>5.159005</td>\n",
       "      <td>99.213024</td>\n",
       "      <td>195.419810</td>\n",
       "      <td>212.389930</td>\n",
       "      <td>10.739097</td>\n",
       "      <td>38406.986599</td>\n",
       "      <td>2.586039</td>\n",
       "      <td>2.090609</td>\n",
       "      <td>8.773878</td>\n",
       "      <td>2.426891</td>\n",
       "      <td>3194.843717</td>\n",
       "      <td>6.521728</td>\n",
       "      <td>1148.313667</td>\n",
       "      <td>121.991063</td>\n",
       "    </tr>\n",
       "    <tr>\n",
       "      <th>min</th>\n",
       "      <td>0.000000</td>\n",
       "      <td>0.000000</td>\n",
       "      <td>0.000000</td>\n",
       "      <td>20.172942</td>\n",
       "      <td>2.000000</td>\n",
       "      <td>0.000000</td>\n",
       "      <td>1.222495</td>\n",
       "      <td>14.000000</td>\n",
       "      <td>7006.035000</td>\n",
       "      <td>0.000000</td>\n",
       "      <td>0.000000</td>\n",
       "      <td>1.000000</td>\n",
       "      <td>0.000000</td>\n",
       "      <td>303.645417</td>\n",
       "      <td>0.500000</td>\n",
       "      <td>0.340000</td>\n",
       "      <td>0.000000</td>\n",
       "    </tr>\n",
       "    <tr>\n",
       "      <th>25%</th>\n",
       "      <td>10.000000</td>\n",
       "      <td>9.000000</td>\n",
       "      <td>3.000000</td>\n",
       "      <td>27.894659</td>\n",
       "      <td>145.000000</td>\n",
       "      <td>72.723155</td>\n",
       "      <td>270.578579</td>\n",
       "      <td>25.000000</td>\n",
       "      <td>19214.681250</td>\n",
       "      <td>3.000000</td>\n",
       "      <td>4.000000</td>\n",
       "      <td>7.000000</td>\n",
       "      <td>2.000000</td>\n",
       "      <td>1616.490417</td>\n",
       "      <td>5.407500</td>\n",
       "      <td>560.410000</td>\n",
       "      <td>29.240525</td>\n",
       "    </tr>\n",
       "    <tr>\n",
       "      <th>50%</th>\n",
       "      <td>18.000000</td>\n",
       "      <td>14.000000</td>\n",
       "      <td>5.000000</td>\n",
       "      <td>32.166358</td>\n",
       "      <td>220.000000</td>\n",
       "      <td>128.333887</td>\n",
       "      <td>336.320248</td>\n",
       "      <td>33.000000</td>\n",
       "      <td>36475.525000</td>\n",
       "      <td>5.000000</td>\n",
       "      <td>5.000000</td>\n",
       "      <td>13.000000</td>\n",
       "      <td>3.000000</td>\n",
       "      <td>3052.810833</td>\n",
       "      <td>9.340000</td>\n",
       "      <td>1159.810000</td>\n",
       "      <td>65.377135</td>\n",
       "    </tr>\n",
       "    <tr>\n",
       "      <th>75%</th>\n",
       "      <td>28.000000</td>\n",
       "      <td>18.000000</td>\n",
       "      <td>8.000000</td>\n",
       "      <td>36.504712</td>\n",
       "      <td>304.000000</td>\n",
       "      <td>234.830616</td>\n",
       "      <td>465.525296</td>\n",
       "      <td>42.000000</td>\n",
       "      <td>71025.400000</td>\n",
       "      <td>7.000000</td>\n",
       "      <td>7.000000</td>\n",
       "      <td>20.000000</td>\n",
       "      <td>5.000000</td>\n",
       "      <td>5913.288333</td>\n",
       "      <td>14.832500</td>\n",
       "      <td>1941.615000</td>\n",
       "      <td>142.311157</td>\n",
       "    </tr>\n",
       "    <tr>\n",
       "      <th>max</th>\n",
       "      <td>67.000000</td>\n",
       "      <td>28.000000</td>\n",
       "      <td>29.000000</td>\n",
       "      <td>50.000000</td>\n",
       "      <td>404.000000</td>\n",
       "      <td>1804.355694</td>\n",
       "      <td>1533.102266</td>\n",
       "      <td>56.000000</td>\n",
       "      <td>179987.280000</td>\n",
       "      <td>10.000000</td>\n",
       "      <td>11.000000</td>\n",
       "      <td>34.000000</td>\n",
       "      <td>9.000000</td>\n",
       "      <td>15204.633333</td>\n",
       "      <td>29.970000</td>\n",
       "      <td>4997.050000</td>\n",
       "      <td>1701.955013</td>\n",
       "    </tr>\n",
       "  </tbody>\n",
       "</table>\n",
       "</div>"
      ],
      "text/plain": [
       "       Delay_from_due_date  Num_of_Delayed_Payment  Num_Credit_Inquiries  \\\n",
       "count         10000.000000            10000.000000          10000.000000   \n",
       "mean             21.097900               13.255200              5.752500   \n",
       "std              14.797811                6.251238              3.865998   \n",
       "min               0.000000                0.000000              0.000000   \n",
       "25%              10.000000                9.000000              3.000000   \n",
       "50%              18.000000               14.000000              5.000000   \n",
       "75%              28.000000               18.000000              8.000000   \n",
       "max              67.000000               28.000000             29.000000   \n",
       "\n",
       "       Credit_Utilization_Ratio  Credit_History_Age  Amount_invested_monthly  \\\n",
       "count              10000.000000        10000.000000             10000.000000   \n",
       "mean                  32.186729          221.825800               193.117531   \n",
       "std                    5.159005           99.213024               195.419810   \n",
       "min                   20.172942            2.000000                 0.000000   \n",
       "25%                   27.894659          145.000000                72.723155   \n",
       "50%                   32.166358          220.000000               128.333887   \n",
       "75%                   36.504712          304.000000               234.830616   \n",
       "max                   50.000000          404.000000              1804.355694   \n",
       "\n",
       "       Monthly_Balance           Age  Annual_Income  Num_Bank_Accounts  \\\n",
       "count     10000.000000  10000.000000   10000.000000       10000.000000   \n",
       "mean        400.580605     33.482000   50108.745203           5.340400   \n",
       "std         212.389930     10.739097   38406.986599           2.586039   \n",
       "min           1.222495     14.000000    7006.035000           0.000000   \n",
       "25%         270.578579     25.000000   19214.681250           3.000000   \n",
       "50%         336.320248     33.000000   36475.525000           5.000000   \n",
       "75%         465.525296     42.000000   71025.400000           7.000000   \n",
       "max        1533.102266     56.000000  179987.280000          10.000000   \n",
       "\n",
       "       Num_Credit_Card  Interest_Rate   Num_of_Loan  Monthly_Inhand_Salary  \\\n",
       "count     10000.000000   10000.000000  10000.000000           10000.000000   \n",
       "mean          5.528100      14.472300      3.544600            4166.494700   \n",
       "std           2.090609       8.773878      2.426891            3194.843717   \n",
       "min           0.000000       1.000000      0.000000             303.645417   \n",
       "25%           4.000000       7.000000      2.000000            1616.490417   \n",
       "50%           5.000000      13.000000      3.000000            3052.810833   \n",
       "75%           7.000000      20.000000      5.000000            5913.288333   \n",
       "max          11.000000      34.000000      9.000000           15204.633333   \n",
       "\n",
       "       Changed_Credit_Limit  Outstanding_Debt  Total_EMI_per_month  \n",
       "count          10000.000000      10000.000000         10000.000000  \n",
       "mean              10.416235       1416.394165           103.957612  \n",
       "std                6.521728       1148.313667           121.991063  \n",
       "min                0.500000          0.340000             0.000000  \n",
       "25%                5.407500        560.410000            29.240525  \n",
       "50%                9.340000       1159.810000            65.377135  \n",
       "75%               14.832500       1941.615000           142.311157  \n",
       "max               29.970000       4997.050000          1701.955013  "
      ]
     },
     "execution_count": 17,
     "metadata": {},
     "output_type": "execute_result"
    }
   ],
   "source": [
    "test.describe()"
   ]
  },
  {
   "cell_type": "markdown",
   "id": "e73e5bb0-7223-4fdd-97e4-41c78d5d8637",
   "metadata": {},
   "source": [
    "test.describe(include='O')"
   ]
  },
  {
   "cell_type": "code",
   "execution_count": 5,
   "id": "6a628ce6-7b91-4f91-8b3b-d54fdcbec3d3",
   "metadata": {},
   "outputs": [
    {
     "data": {
      "text/plain": [
       "0"
      ]
     },
     "execution_count": 5,
     "metadata": {},
     "output_type": "execute_result"
    }
   ],
   "source": [
    "train.isnull().sum().sum()"
   ]
  },
  {
   "cell_type": "code",
   "execution_count": 6,
   "id": "c7f60b04-ca63-4151-9ac5-dbfc9e198d7b",
   "metadata": {},
   "outputs": [
    {
     "data": {
      "text/plain": [
       "0"
      ]
     },
     "execution_count": 6,
     "metadata": {},
     "output_type": "execute_result"
    }
   ],
   "source": [
    "test.isnull().sum().sum()"
   ]
  },
  {
   "cell_type": "markdown",
   "id": "13deeba5-a765-4b54-9031-68e2e13e0fac",
   "metadata": {},
   "source": [
    "# 4. 전처리"
   ]
  },
  {
   "cell_type": "code",
   "execution_count": 4,
   "id": "c1678f45-463a-40cb-b2b2-1c42d0ac2dae",
   "metadata": {},
   "outputs": [],
   "source": [
    "#라벨(정답, y값 분리)\n",
    "y_train = train.pop(\"Credit_Score\")"
   ]
  },
  {
   "cell_type": "code",
   "execution_count": 5,
   "id": "89632916-f2d9-4c75-aa75-dbca89ad4792",
   "metadata": {},
   "outputs": [
    {
     "data": {
      "text/plain": [
       "Credit_Score\n",
       "2    5237\n",
       "1    2978\n",
       "3    1785\n",
       "Name: count, dtype: int64"
      ]
     },
     "execution_count": 5,
     "metadata": {},
     "output_type": "execute_result"
    }
   ],
   "source": [
    "y_train.value_counts()"
   ]
  },
  {
   "cell_type": "markdown",
   "id": "35bc9285-67dd-40af-ab7e-33ec72a8818c",
   "metadata": {},
   "source": [
    "##  레이블 인코딩"
   ]
  },
  {
   "cell_type": "code",
   "execution_count": 1,
   "id": "39ec323c-b58b-406e-a954-0e2b77d8035c",
   "metadata": {},
   "outputs": [],
   "source": [
    "# from sklearn.preprocessing import LabelEncoder\n",
    "# cols = train.columns[train.dtypes == object]\n",
    "# cols"
   ]
  },
  {
   "cell_type": "code",
   "execution_count": 2,
   "id": "d4997615-7851-4d87-9afd-b25c73c542d7",
   "metadata": {},
   "outputs": [],
   "source": [
    "# for col in cols:\n",
    "#     le = LabelEncoder()\n",
    "#     le.fit(pd.concat([train[col],test[col]],axis=0))# 행 합치기 train,test 행이 맞지 않음\n",
    "#     train[col] = le.fit_transform(train[col])\n",
    "#     test[col] = le.transform(test[col])"
   ]
  },
  {
   "cell_type": "markdown",
   "id": "94058886-0802-49b3-8b3f-0cc7486a6f7e",
   "metadata": {},
   "source": [
    "## 인코딩 대체 방법 (범주형 type -> category로 변경)\n",
    "다중분류 5번 \n",
    "인코딩 -> 랜덤 포레스트\n",
    "카테고리 -> LGM"
   ]
  },
  {
   "cell_type": "code",
   "execution_count": 11,
   "id": "0dbb573e-9968-4443-84c9-c2bd49d4f28e",
   "metadata": {},
   "outputs": [
    {
     "name": "stdout",
     "output_type": "stream",
     "text": [
      "<class 'pandas.core.frame.DataFrame'>\n",
      "RangeIndex: 10000 entries, 0 to 9999\n",
      "Data columns (total 20 columns):\n",
      " #   Column                    Non-Null Count  Dtype   \n",
      "---  ------                    --------------  -----   \n",
      " 0   Delay_from_due_date       10000 non-null  float64 \n",
      " 1   Num_of_Delayed_Payment    10000 non-null  float64 \n",
      " 2   Num_Credit_Inquiries      10000 non-null  float64 \n",
      " 3   Credit_Utilization_Ratio  10000 non-null  float64 \n",
      " 4   Credit_History_Age        10000 non-null  float64 \n",
      " 5   Payment_of_Min_Amount     10000 non-null  category\n",
      " 6   Amount_invested_monthly   10000 non-null  float64 \n",
      " 7   Monthly_Balance           10000 non-null  float64 \n",
      " 8   Credit_Mix                10000 non-null  object  \n",
      " 9   Payment_Behaviour         10000 non-null  object  \n",
      " 10  Age                       10000 non-null  float64 \n",
      " 11  Annual_Income             10000 non-null  float64 \n",
      " 12  Num_Bank_Accounts         10000 non-null  float64 \n",
      " 13  Num_Credit_Card           10000 non-null  float64 \n",
      " 14  Interest_Rate             10000 non-null  float64 \n",
      " 15  Num_of_Loan               10000 non-null  float64 \n",
      " 16  Monthly_Inhand_Salary     10000 non-null  float64 \n",
      " 17  Changed_Credit_Limit      10000 non-null  float64 \n",
      " 18  Outstanding_Debt          10000 non-null  float64 \n",
      " 19  Total_EMI_per_month       10000 non-null  float64 \n",
      "dtypes: category(1), float64(17), object(2)\n",
      "memory usage: 1.5+ MB\n"
     ]
    }
   ],
   "source": [
    "train.info()\n",
    "train['Payment_of_Min_Amount'] = train['Payment_of_Min_Amount'].astype('category')\n",
    "train['Credit_Mix'] = train['Credit_Mix'].astype('category')\n",
    "train['Payment_Behaviour'] = train['Payment_Behaviour'].astype('category')\n",
    "\n",
    "test['Payment_of_Min_Amount'] = test['Payment_of_Min_Amount'].astype('category')\n",
    "test['Credit_Mix'] = test['Credit_Mix'].astype('category')\n",
    "test['Payment_Behaviour'] = test['Payment_Behaviour'].astype('category')"
   ]
  },
  {
   "cell_type": "markdown",
   "id": "ecc321c5-1f86-4cc8-9159-20c5bf52eef2",
   "metadata": {},
   "source": [
    "# 5.검증데이터 분할"
   ]
  },
  {
   "cell_type": "code",
   "execution_count": 12,
   "id": "105e4b1c-2750-423e-81f7-0c042dbb3316",
   "metadata": {},
   "outputs": [],
   "source": [
    "from sklearn.model_selection import train_test_split\n",
    "X_train, X_val, y_train, y_val = train_test_split(\n",
    "    train,\n",
    "    y_train,\n",
    "    test_size=0.2,\n",
    "    random_state=0\n",
    ")"
   ]
  },
  {
   "cell_type": "code",
   "execution_count": 6,
   "id": "bda76bcb-bdaf-4061-86d7-cf90016f23f1",
   "metadata": {},
   "outputs": [
    {
     "data": {
      "text/plain": [
       "((8000, 20), (2000, 20), (8000,), (2000,))"
      ]
     },
     "execution_count": 6,
     "metadata": {},
     "output_type": "execute_result"
    }
   ],
   "source": [
    "X_train.shape, X_val.shape, y_train.shape, y_val.shape"
   ]
  },
  {
   "cell_type": "markdown",
   "id": "c27c0ab2-e18b-474a-b5ff-9a8928d15b4c",
   "metadata": {},
   "source": [
    "# 06머신러닝학습및 평가"
   ]
  },
  {
   "cell_type": "markdown",
   "id": "497ab914-67ba-4f9b-93ae-194f2b9da3b6",
   "metadata": {
    "jp-MarkdownHeadingCollapsed": true
   },
   "source": [
    "## 1.랜덤포레스트"
   ]
  },
  {
   "cell_type": "code",
   "execution_count": 13,
   "id": "ee9b2d9d-e715-4191-bf95-6e1f8f9698ce",
   "metadata": {},
   "outputs": [
    {
     "ename": "ValueError",
     "evalue": "could not convert string to float: 'Yes'",
     "output_type": "error",
     "traceback": [
      "\u001b[0;31m---------------------------------------------------------------------------\u001b[0m",
      "\u001b[0;31mValueError\u001b[0m                                Traceback (most recent call last)",
      "\u001b[0;32m/tmp/ipykernel_7981/760997903.py\u001b[0m in \u001b[0;36m?\u001b[0;34m()\u001b[0m\n\u001b[1;32m      1\u001b[0m \u001b[0;32mfrom\u001b[0m \u001b[0msklearn\u001b[0m\u001b[0;34m.\u001b[0m\u001b[0mensemble\u001b[0m \u001b[0;32mimport\u001b[0m \u001b[0mRandomForestClassifier\u001b[0m\u001b[0;34m\u001b[0m\u001b[0;34m\u001b[0m\u001b[0m\n\u001b[1;32m      2\u001b[0m \u001b[0mrf\u001b[0m \u001b[0;34m=\u001b[0m \u001b[0mRandomForestClassifier\u001b[0m\u001b[0;34m(\u001b[0m\u001b[0mrandom_state\u001b[0m\u001b[0;34m=\u001b[0m\u001b[0;36m0\u001b[0m\u001b[0;34m)\u001b[0m \u001b[0;31m# 난수값 고정 in-> out 고정값\u001b[0m\u001b[0;34m\u001b[0m\u001b[0;34m\u001b[0m\u001b[0m\n\u001b[0;32m----> 3\u001b[0;31m \u001b[0mrf\u001b[0m\u001b[0;34m.\u001b[0m\u001b[0mfit\u001b[0m\u001b[0;34m(\u001b[0m\u001b[0mX_train\u001b[0m\u001b[0;34m,\u001b[0m\u001b[0my_train\u001b[0m\u001b[0;34m)\u001b[0m \u001b[0;31m# 모델학습\u001b[0m\u001b[0;34m\u001b[0m\u001b[0;34m\u001b[0m\u001b[0m\n\u001b[0m\u001b[1;32m      4\u001b[0m \u001b[0mpred_rf\u001b[0m \u001b[0;34m=\u001b[0m \u001b[0mrf\u001b[0m\u001b[0;34m.\u001b[0m\u001b[0mpredict_proba\u001b[0m\u001b[0;34m(\u001b[0m\u001b[0mX_val\u001b[0m\u001b[0;34m)\u001b[0m\u001b[0;34m\u001b[0m\u001b[0;34m\u001b[0m\u001b[0m\n\u001b[1;32m      5\u001b[0m \u001b[0mpred_rf\u001b[0m\u001b[0;34m\u001b[0m\u001b[0;34m\u001b[0m\u001b[0m\n",
      "\u001b[0;32m/opt/conda/lib/python3.11/site-packages/sklearn/base.py\u001b[0m in \u001b[0;36m?\u001b[0;34m(estimator, *args, **kwargs)\u001b[0m\n\u001b[1;32m   1361\u001b[0m                 skip_parameter_validation=(\n\u001b[1;32m   1362\u001b[0m                     \u001b[0mprefer_skip_nested_validation\u001b[0m \u001b[0;32mor\u001b[0m \u001b[0mglobal_skip_validation\u001b[0m\u001b[0;34m\u001b[0m\u001b[0;34m\u001b[0m\u001b[0m\n\u001b[1;32m   1363\u001b[0m                 )\n\u001b[1;32m   1364\u001b[0m             ):\n\u001b[0;32m-> 1365\u001b[0;31m                 \u001b[0;32mreturn\u001b[0m \u001b[0mfit_method\u001b[0m\u001b[0;34m(\u001b[0m\u001b[0mestimator\u001b[0m\u001b[0;34m,\u001b[0m \u001b[0;34m*\u001b[0m\u001b[0margs\u001b[0m\u001b[0;34m,\u001b[0m \u001b[0;34m**\u001b[0m\u001b[0mkwargs\u001b[0m\u001b[0;34m)\u001b[0m\u001b[0;34m\u001b[0m\u001b[0;34m\u001b[0m\u001b[0m\n\u001b[0m",
      "\u001b[0;32m/opt/conda/lib/python3.11/site-packages/sklearn/ensemble/_forest.py\u001b[0m in \u001b[0;36m?\u001b[0;34m(self, X, y, sample_weight)\u001b[0m\n\u001b[1;32m    355\u001b[0m         \u001b[0;31m# Validate or convert input data\u001b[0m\u001b[0;34m\u001b[0m\u001b[0;34m\u001b[0m\u001b[0m\n\u001b[1;32m    356\u001b[0m         \u001b[0;32mif\u001b[0m \u001b[0missparse\u001b[0m\u001b[0;34m(\u001b[0m\u001b[0my\u001b[0m\u001b[0;34m)\u001b[0m\u001b[0;34m:\u001b[0m\u001b[0;34m\u001b[0m\u001b[0;34m\u001b[0m\u001b[0m\n\u001b[1;32m    357\u001b[0m             \u001b[0;32mraise\u001b[0m \u001b[0mValueError\u001b[0m\u001b[0;34m(\u001b[0m\u001b[0;34m\"sparse multilabel-indicator for y is not supported.\"\u001b[0m\u001b[0;34m)\u001b[0m\u001b[0;34m\u001b[0m\u001b[0;34m\u001b[0m\u001b[0m\n\u001b[1;32m    358\u001b[0m \u001b[0;34m\u001b[0m\u001b[0m\n\u001b[0;32m--> 359\u001b[0;31m         X, y = validate_data(\n\u001b[0m\u001b[1;32m    360\u001b[0m             \u001b[0mself\u001b[0m\u001b[0;34m,\u001b[0m\u001b[0;34m\u001b[0m\u001b[0;34m\u001b[0m\u001b[0m\n\u001b[1;32m    361\u001b[0m             \u001b[0mX\u001b[0m\u001b[0;34m,\u001b[0m\u001b[0;34m\u001b[0m\u001b[0;34m\u001b[0m\u001b[0m\n\u001b[1;32m    362\u001b[0m             \u001b[0my\u001b[0m\u001b[0;34m,\u001b[0m\u001b[0;34m\u001b[0m\u001b[0;34m\u001b[0m\u001b[0m\n",
      "\u001b[0;32m/opt/conda/lib/python3.11/site-packages/sklearn/utils/validation.py\u001b[0m in \u001b[0;36m?\u001b[0;34m(_estimator, X, y, reset, validate_separately, skip_check_array, **check_params)\u001b[0m\n\u001b[1;32m   2967\u001b[0m             \u001b[0;32mif\u001b[0m \u001b[0;34m\"estimator\"\u001b[0m \u001b[0;32mnot\u001b[0m \u001b[0;32min\u001b[0m \u001b[0mcheck_y_params\u001b[0m\u001b[0;34m:\u001b[0m\u001b[0;34m\u001b[0m\u001b[0;34m\u001b[0m\u001b[0m\n\u001b[1;32m   2968\u001b[0m                 \u001b[0mcheck_y_params\u001b[0m \u001b[0;34m=\u001b[0m \u001b[0;34m{\u001b[0m\u001b[0;34m**\u001b[0m\u001b[0mdefault_check_params\u001b[0m\u001b[0;34m,\u001b[0m \u001b[0;34m**\u001b[0m\u001b[0mcheck_y_params\u001b[0m\u001b[0;34m}\u001b[0m\u001b[0;34m\u001b[0m\u001b[0;34m\u001b[0m\u001b[0m\n\u001b[1;32m   2969\u001b[0m             \u001b[0my\u001b[0m \u001b[0;34m=\u001b[0m \u001b[0mcheck_array\u001b[0m\u001b[0;34m(\u001b[0m\u001b[0my\u001b[0m\u001b[0;34m,\u001b[0m \u001b[0minput_name\u001b[0m\u001b[0;34m=\u001b[0m\u001b[0;34m\"y\"\u001b[0m\u001b[0;34m,\u001b[0m \u001b[0;34m**\u001b[0m\u001b[0mcheck_y_params\u001b[0m\u001b[0;34m)\u001b[0m\u001b[0;34m\u001b[0m\u001b[0;34m\u001b[0m\u001b[0m\n\u001b[1;32m   2970\u001b[0m         \u001b[0;32melse\u001b[0m\u001b[0;34m:\u001b[0m\u001b[0;34m\u001b[0m\u001b[0;34m\u001b[0m\u001b[0m\n\u001b[0;32m-> 2971\u001b[0;31m             \u001b[0mX\u001b[0m\u001b[0;34m,\u001b[0m \u001b[0my\u001b[0m \u001b[0;34m=\u001b[0m \u001b[0mcheck_X_y\u001b[0m\u001b[0;34m(\u001b[0m\u001b[0mX\u001b[0m\u001b[0;34m,\u001b[0m \u001b[0my\u001b[0m\u001b[0;34m,\u001b[0m \u001b[0;34m**\u001b[0m\u001b[0mcheck_params\u001b[0m\u001b[0;34m)\u001b[0m\u001b[0;34m\u001b[0m\u001b[0;34m\u001b[0m\u001b[0m\n\u001b[0m\u001b[1;32m   2972\u001b[0m         \u001b[0mout\u001b[0m \u001b[0;34m=\u001b[0m \u001b[0mX\u001b[0m\u001b[0;34m,\u001b[0m \u001b[0my\u001b[0m\u001b[0;34m\u001b[0m\u001b[0;34m\u001b[0m\u001b[0m\n\u001b[1;32m   2973\u001b[0m \u001b[0;34m\u001b[0m\u001b[0m\n\u001b[1;32m   2974\u001b[0m     \u001b[0;32mif\u001b[0m \u001b[0;32mnot\u001b[0m \u001b[0mno_val_X\u001b[0m \u001b[0;32mand\u001b[0m \u001b[0mcheck_params\u001b[0m\u001b[0;34m.\u001b[0m\u001b[0mget\u001b[0m\u001b[0;34m(\u001b[0m\u001b[0;34m\"ensure_2d\"\u001b[0m\u001b[0;34m,\u001b[0m \u001b[0;32mTrue\u001b[0m\u001b[0;34m)\u001b[0m\u001b[0;34m:\u001b[0m\u001b[0;34m\u001b[0m\u001b[0;34m\u001b[0m\u001b[0m\n",
      "\u001b[0;32m/opt/conda/lib/python3.11/site-packages/sklearn/utils/validation.py\u001b[0m in \u001b[0;36m?\u001b[0;34m(X, y, accept_sparse, accept_large_sparse, dtype, order, copy, force_writeable, force_all_finite, ensure_all_finite, ensure_2d, allow_nd, multi_output, ensure_min_samples, ensure_min_features, y_numeric, estimator)\u001b[0m\n\u001b[1;32m   1364\u001b[0m         )\n\u001b[1;32m   1365\u001b[0m \u001b[0;34m\u001b[0m\u001b[0m\n\u001b[1;32m   1366\u001b[0m     \u001b[0mensure_all_finite\u001b[0m \u001b[0;34m=\u001b[0m \u001b[0m_deprecate_force_all_finite\u001b[0m\u001b[0;34m(\u001b[0m\u001b[0mforce_all_finite\u001b[0m\u001b[0;34m,\u001b[0m \u001b[0mensure_all_finite\u001b[0m\u001b[0;34m)\u001b[0m\u001b[0;34m\u001b[0m\u001b[0;34m\u001b[0m\u001b[0m\n\u001b[1;32m   1367\u001b[0m \u001b[0;34m\u001b[0m\u001b[0m\n\u001b[0;32m-> 1368\u001b[0;31m     X = check_array(\n\u001b[0m\u001b[1;32m   1369\u001b[0m         \u001b[0mX\u001b[0m\u001b[0;34m,\u001b[0m\u001b[0;34m\u001b[0m\u001b[0;34m\u001b[0m\u001b[0m\n\u001b[1;32m   1370\u001b[0m         \u001b[0maccept_sparse\u001b[0m\u001b[0;34m=\u001b[0m\u001b[0maccept_sparse\u001b[0m\u001b[0;34m,\u001b[0m\u001b[0;34m\u001b[0m\u001b[0;34m\u001b[0m\u001b[0m\n\u001b[1;32m   1371\u001b[0m         \u001b[0maccept_large_sparse\u001b[0m\u001b[0;34m=\u001b[0m\u001b[0maccept_large_sparse\u001b[0m\u001b[0;34m,\u001b[0m\u001b[0;34m\u001b[0m\u001b[0;34m\u001b[0m\u001b[0m\n",
      "\u001b[0;32m/opt/conda/lib/python3.11/site-packages/sklearn/utils/validation.py\u001b[0m in \u001b[0;36m?\u001b[0;34m(array, accept_sparse, accept_large_sparse, dtype, order, copy, force_writeable, force_all_finite, ensure_all_finite, ensure_non_negative, ensure_2d, allow_nd, ensure_min_samples, ensure_min_features, estimator, input_name)\u001b[0m\n\u001b[1;32m   1050\u001b[0m                         )\n\u001b[1;32m   1051\u001b[0m                     \u001b[0marray\u001b[0m \u001b[0;34m=\u001b[0m \u001b[0mxp\u001b[0m\u001b[0;34m.\u001b[0m\u001b[0mastype\u001b[0m\u001b[0;34m(\u001b[0m\u001b[0marray\u001b[0m\u001b[0;34m,\u001b[0m \u001b[0mdtype\u001b[0m\u001b[0;34m,\u001b[0m \u001b[0mcopy\u001b[0m\u001b[0;34m=\u001b[0m\u001b[0;32mFalse\u001b[0m\u001b[0;34m)\u001b[0m\u001b[0;34m\u001b[0m\u001b[0;34m\u001b[0m\u001b[0m\n\u001b[1;32m   1052\u001b[0m                 \u001b[0;32melse\u001b[0m\u001b[0;34m:\u001b[0m\u001b[0;34m\u001b[0m\u001b[0;34m\u001b[0m\u001b[0m\n\u001b[1;32m   1053\u001b[0m                     \u001b[0marray\u001b[0m \u001b[0;34m=\u001b[0m \u001b[0m_asarray_with_order\u001b[0m\u001b[0;34m(\u001b[0m\u001b[0marray\u001b[0m\u001b[0;34m,\u001b[0m \u001b[0morder\u001b[0m\u001b[0;34m=\u001b[0m\u001b[0morder\u001b[0m\u001b[0;34m,\u001b[0m \u001b[0mdtype\u001b[0m\u001b[0;34m=\u001b[0m\u001b[0mdtype\u001b[0m\u001b[0;34m,\u001b[0m \u001b[0mxp\u001b[0m\u001b[0;34m=\u001b[0m\u001b[0mxp\u001b[0m\u001b[0;34m)\u001b[0m\u001b[0;34m\u001b[0m\u001b[0;34m\u001b[0m\u001b[0m\n\u001b[0;32m-> 1054\u001b[0;31m             \u001b[0;32mexcept\u001b[0m \u001b[0mComplexWarning\u001b[0m \u001b[0;32mas\u001b[0m \u001b[0mcomplex_warning\u001b[0m\u001b[0;34m:\u001b[0m\u001b[0;34m\u001b[0m\u001b[0;34m\u001b[0m\u001b[0m\n\u001b[0m\u001b[1;32m   1055\u001b[0m                 raise ValueError(\n\u001b[1;32m   1056\u001b[0m                     \u001b[0;34m\"Complex data not supported\\n{}\\n\"\u001b[0m\u001b[0;34m.\u001b[0m\u001b[0mformat\u001b[0m\u001b[0;34m(\u001b[0m\u001b[0marray\u001b[0m\u001b[0;34m)\u001b[0m\u001b[0;34m\u001b[0m\u001b[0;34m\u001b[0m\u001b[0m\n\u001b[1;32m   1057\u001b[0m                 ) from complex_warning\n",
      "\u001b[0;32m/opt/conda/lib/python3.11/site-packages/sklearn/utils/_array_api.py\u001b[0m in \u001b[0;36m?\u001b[0;34m(array, dtype, order, copy, xp, device)\u001b[0m\n\u001b[1;32m    753\u001b[0m         \u001b[0;31m# Use NumPy API to support order\u001b[0m\u001b[0;34m\u001b[0m\u001b[0;34m\u001b[0m\u001b[0m\n\u001b[1;32m    754\u001b[0m         \u001b[0;32mif\u001b[0m \u001b[0mcopy\u001b[0m \u001b[0;32mis\u001b[0m \u001b[0;32mTrue\u001b[0m\u001b[0;34m:\u001b[0m\u001b[0;34m\u001b[0m\u001b[0;34m\u001b[0m\u001b[0m\n\u001b[1;32m    755\u001b[0m             \u001b[0marray\u001b[0m \u001b[0;34m=\u001b[0m \u001b[0mnumpy\u001b[0m\u001b[0;34m.\u001b[0m\u001b[0marray\u001b[0m\u001b[0;34m(\u001b[0m\u001b[0marray\u001b[0m\u001b[0;34m,\u001b[0m \u001b[0morder\u001b[0m\u001b[0;34m=\u001b[0m\u001b[0morder\u001b[0m\u001b[0;34m,\u001b[0m \u001b[0mdtype\u001b[0m\u001b[0;34m=\u001b[0m\u001b[0mdtype\u001b[0m\u001b[0;34m)\u001b[0m\u001b[0;34m\u001b[0m\u001b[0;34m\u001b[0m\u001b[0m\n\u001b[1;32m    756\u001b[0m         \u001b[0;32melse\u001b[0m\u001b[0;34m:\u001b[0m\u001b[0;34m\u001b[0m\u001b[0;34m\u001b[0m\u001b[0m\n\u001b[0;32m--> 757\u001b[0;31m             \u001b[0marray\u001b[0m \u001b[0;34m=\u001b[0m \u001b[0mnumpy\u001b[0m\u001b[0;34m.\u001b[0m\u001b[0masarray\u001b[0m\u001b[0;34m(\u001b[0m\u001b[0marray\u001b[0m\u001b[0;34m,\u001b[0m \u001b[0morder\u001b[0m\u001b[0;34m=\u001b[0m\u001b[0morder\u001b[0m\u001b[0;34m,\u001b[0m \u001b[0mdtype\u001b[0m\u001b[0;34m=\u001b[0m\u001b[0mdtype\u001b[0m\u001b[0;34m)\u001b[0m\u001b[0;34m\u001b[0m\u001b[0;34m\u001b[0m\u001b[0m\n\u001b[0m\u001b[1;32m    758\u001b[0m \u001b[0;34m\u001b[0m\u001b[0m\n\u001b[1;32m    759\u001b[0m         \u001b[0;31m# At this point array is a NumPy ndarray. We convert it to an array\u001b[0m\u001b[0;34m\u001b[0m\u001b[0;34m\u001b[0m\u001b[0m\n\u001b[1;32m    760\u001b[0m         \u001b[0;31m# container that is consistent with the input's namespace.\u001b[0m\u001b[0;34m\u001b[0m\u001b[0;34m\u001b[0m\u001b[0m\n",
      "\u001b[0;32m/opt/conda/lib/python3.11/site-packages/pandas/core/generic.py\u001b[0m in \u001b[0;36m?\u001b[0;34m(self, dtype)\u001b[0m\n\u001b[1;32m   2082\u001b[0m     \u001b[0;32mdef\u001b[0m \u001b[0m__array__\u001b[0m\u001b[0;34m(\u001b[0m\u001b[0mself\u001b[0m\u001b[0;34m,\u001b[0m \u001b[0mdtype\u001b[0m\u001b[0;34m:\u001b[0m \u001b[0mnpt\u001b[0m\u001b[0;34m.\u001b[0m\u001b[0mDTypeLike\u001b[0m \u001b[0;34m|\u001b[0m \u001b[0;32mNone\u001b[0m \u001b[0;34m=\u001b[0m \u001b[0;32mNone\u001b[0m\u001b[0;34m)\u001b[0m \u001b[0;34m->\u001b[0m \u001b[0mnp\u001b[0m\u001b[0;34m.\u001b[0m\u001b[0mndarray\u001b[0m\u001b[0;34m:\u001b[0m\u001b[0;34m\u001b[0m\u001b[0;34m\u001b[0m\u001b[0m\n\u001b[1;32m   2083\u001b[0m         \u001b[0mvalues\u001b[0m \u001b[0;34m=\u001b[0m \u001b[0mself\u001b[0m\u001b[0;34m.\u001b[0m\u001b[0m_values\u001b[0m\u001b[0;34m\u001b[0m\u001b[0;34m\u001b[0m\u001b[0m\n\u001b[0;32m-> 2084\u001b[0;31m         \u001b[0marr\u001b[0m \u001b[0;34m=\u001b[0m \u001b[0mnp\u001b[0m\u001b[0;34m.\u001b[0m\u001b[0masarray\u001b[0m\u001b[0;34m(\u001b[0m\u001b[0mvalues\u001b[0m\u001b[0;34m,\u001b[0m \u001b[0mdtype\u001b[0m\u001b[0;34m=\u001b[0m\u001b[0mdtype\u001b[0m\u001b[0;34m)\u001b[0m\u001b[0;34m\u001b[0m\u001b[0;34m\u001b[0m\u001b[0m\n\u001b[0m\u001b[1;32m   2085\u001b[0m         if (\n\u001b[1;32m   2086\u001b[0m             \u001b[0mastype_is_view\u001b[0m\u001b[0;34m(\u001b[0m\u001b[0mvalues\u001b[0m\u001b[0;34m.\u001b[0m\u001b[0mdtype\u001b[0m\u001b[0;34m,\u001b[0m \u001b[0marr\u001b[0m\u001b[0;34m.\u001b[0m\u001b[0mdtype\u001b[0m\u001b[0;34m)\u001b[0m\u001b[0;34m\u001b[0m\u001b[0;34m\u001b[0m\u001b[0m\n\u001b[1;32m   2087\u001b[0m             \u001b[0;32mand\u001b[0m \u001b[0musing_copy_on_write\u001b[0m\u001b[0;34m(\u001b[0m\u001b[0;34m)\u001b[0m\u001b[0;34m\u001b[0m\u001b[0;34m\u001b[0m\u001b[0m\n",
      "\u001b[0;31mValueError\u001b[0m: could not convert string to float: 'Yes'"
     ]
    }
   ],
   "source": [
    "from sklearn.ensemble import RandomForestClassifier\n",
    "rf = RandomForestClassifier(random_state=0) # 난수값 고정 in-> out 고정값\n",
    "rf.fit(X_train,y_train) # 모델학습\n",
    "pred_rf = rf.predict_proba(X_val)\n",
    "pred_rf"
   ]
  },
  {
   "cell_type": "markdown",
   "id": "d2ae499e-58d2-46d4-ae8a-3f552e21a645",
   "metadata": {},
   "source": [
    "## LIGHTGBM 학습"
   ]
  },
  {
   "cell_type": "code",
   "execution_count": 14,
   "id": "9992e302-38b5-42b2-a895-89d2d9908a2e",
   "metadata": {},
   "outputs": [],
   "source": [
    "import lightgbm  as lgb\n",
    "lgbmc = lgb.LGBMClassifier(ranbom_state=0, verbose=-1)\n",
    "lgbmc.fit(X_train,y_train)\n",
    "pred = lgbmc.predict(X_val) #예측 y값\n",
    "pred_proba = lgbmc.predict_proba(X_val) #예측 확률값"
   ]
  },
  {
   "cell_type": "markdown",
   "id": "d1d6b978-e971-405b-a73f-07d926ffd976",
   "metadata": {},
   "source": [
    "# 평가"
   ]
  },
  {
   "cell_type": "code",
   "execution_count": 20,
   "id": "20e333ed-d4aa-433c-97af-645266a865f0",
   "metadata": {},
   "outputs": [
    {
     "name": "stdout",
     "output_type": "stream",
     "text": [
      "roc_auc_ovr :  0.8507625027884959\n",
      "roc_auc_ovo :  0.8575703288828868\n",
      "accuracy :  0.6985\n",
      "f1 :  0.6777379561595467\n"
     ]
    }
   ],
   "source": [
    "from sklearn.metrics import accuracy_score\n",
    "from sklearn.metrics import f1_score\n",
    "from sklearn.metrics import roc_auc_score\n",
    "\n",
    "roc_auc_ovr = roc_auc_score(y_val,pred_proba,multi_class='ovr') # 예측 확률값[오답예측확률, 정답예측확률]\n",
    "roc_auc_ovo = roc_auc_score(y_val,pred_proba,multi_class='ovo')\n",
    "accuracy = accuracy_score(y_val,pred)    # pred 예측 y값\n",
    "f1= f1_score(y_val,pred,average='macro') # pred 예측 y값\n",
    "\n",
    "print('roc_auc_ovr : ',roc_auc_ovr)\n",
    "print('roc_auc_ovo : ',roc_auc_ovo)\n",
    "print('accuracy : ',accuracy)\n",
    "print('f1 : ',f1)\n",
    "\n",
    "#OvR(One-vs-Rest : 각클래스 vs 나머지->평균)\n",
    "#OvO(One-vs-One) : 클래스 쌍별 AUC 평균\n",
    "\n",
    "# 다중불류는 이진분류와 다르게 어떻게 출력할지 결정"
   ]
  },
  {
   "cell_type": "markdown",
   "id": "14b7dbf6-e595-4d3b-9112-610ce1b4f664",
   "metadata": {},
   "source": [
    "# 07예측파일만들기\n",
    "csv제출"
   ]
  },
  {
   "cell_type": "code",
   "execution_count": 12,
   "id": "c43c452f-7c82-4118-acda-a4d2aa7dad87",
   "metadata": {},
   "outputs": [
    {
     "data": {
      "text/plain": [
       "array([3, 1, 1, ..., 1, 1, 2])"
      ]
     },
     "execution_count": 12,
     "metadata": {},
     "output_type": "execute_result"
    }
   ],
   "source": [
    "pred_submit=lgbmc.predict(test)\n",
    "pred_submit"
   ]
  },
  {
   "cell_type": "code",
   "execution_count": 13,
   "id": "7ecd98e2-9235-4e65-bb1e-67c321a3cd86",
   "metadata": {},
   "outputs": [],
   "source": [
    "submit_csv=pd.DataFrame({'pred' : pred_submit})\n",
    "submit_csv.to_csv(\"reuslt.csv\",index=False)"
   ]
  }
 ],
 "metadata": {
  "kernelspec": {
   "display_name": "Python 3 (ipykernel)",
   "language": "python",
   "name": "python3"
  },
  "language_info": {
   "codemirror_mode": {
    "name": "ipython",
    "version": 3
   },
   "file_extension": ".py",
   "mimetype": "text/x-python",
   "name": "python",
   "nbconvert_exporter": "python",
   "pygments_lexer": "ipython3",
   "version": "3.11.6"
  }
 },
 "nbformat": 4,
 "nbformat_minor": 5
}
