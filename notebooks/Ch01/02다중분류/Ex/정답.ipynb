{
 "cells": [
  {
   "cell_type": "code",
   "execution_count": null,
   "id": "316c6fe2-71be-4cd0-a373-326bc608f3c8",
   "metadata": {},
   "outputs": [],
   "source": [
    "# 문제 정의"
   ]
  },
  {
   "cell_type": "code",
   "execution_count": 1,
   "id": "e7b0b7c6-59eb-4397-8fea-56df129529c0",
   "metadata": {},
   "outputs": [],
   "source": [
    "# 라이브러리 불러오기\n",
    "import pandas as pd\n",
    "\n",
    "train = pd.read_csv(\"./train.csv\")\n",
    "test = pd.read_csv(\"./test.csv\")\n"
   ]
  },
  {
   "cell_type": "code",
   "execution_count": 2,
   "id": "cbc3a8ed-f83d-4967-a368-d206af157fec",
   "metadata": {},
   "outputs": [
    {
     "data": {
      "text/plain": [
       "((20758, 18), (13840, 17))"
      ]
     },
     "execution_count": 2,
     "metadata": {},
     "output_type": "execute_result"
    }
   ],
   "source": [
    "# EDA\n",
    "train.shape , test.shape # 1"
   ]
  },
  {
   "cell_type": "code",
   "execution_count": 18,
   "id": "e5c2056f-3f0f-47e5-8f71-6d861ca171f2",
   "metadata": {},
   "outputs": [
    {
     "name": "stdout",
     "output_type": "stream",
     "text": [
      "<class 'pandas.core.frame.DataFrame'>\n",
      "RangeIndex: 20758 entries, 0 to 20757\n",
      "Data columns (total 18 columns):\n",
      " #   Column                          Non-Null Count  Dtype  \n",
      "---  ------                          --------------  -----  \n",
      " 0   id                              20758 non-null  int64  \n",
      " 1   Gender                          20758 non-null  object \n",
      " 2   Age                             20758 non-null  float64\n",
      " 3   Height                          20758 non-null  float64\n",
      " 4   Weight                          20758 non-null  float64\n",
      " 5   family_history_with_overweight  20758 non-null  object \n",
      " 6   FAVC                            20758 non-null  object \n",
      " 7   FCVC                            20758 non-null  float64\n",
      " 8   NCP                             20758 non-null  float64\n",
      " 9   CAEC                            20758 non-null  object \n",
      " 10  SMOKE                           20758 non-null  object \n",
      " 11  CH2O                            20758 non-null  float64\n",
      " 12  SCC                             20758 non-null  object \n",
      " 13  FAF                             20758 non-null  float64\n",
      " 14  TUE                             20758 non-null  float64\n",
      " 15  CALC                            20758 non-null  object \n",
      " 16  MTRANS                          20758 non-null  object \n",
      " 17  NObeyesdad                      20758 non-null  object \n",
      "dtypes: float64(8), int64(1), object(9)\n",
      "memory usage: 2.9+ MB\n"
     ]
    }
   ],
   "source": [
    "train.info()"
   ]
  },
  {
   "cell_type": "code",
   "execution_count": 10,
   "id": "b8d1ed0d-b34a-44c8-bcb9-0455e7611683",
   "metadata": {},
   "outputs": [],
   "source": [
    "# train.describe()\n",
    "# test.isnull().sum().sum()"
   ]
  },
  {
   "cell_type": "code",
   "execution_count": 17,
   "id": "9ef089cb-5e5d-4716-8fc0-acd8f449a73d",
   "metadata": {},
   "outputs": [
    {
     "data": {
      "text/plain": [
       "NObeyesdad\n",
       "Obesity_Type_III       4046\n",
       "Obesity_Type_II        3248\n",
       "Normal_Weight          3082\n",
       "Obesity_Type_I         2910\n",
       "Insufficient_Weight    2523\n",
       "Overweight_Level_II    2522\n",
       "Overweight_Level_I     2427\n",
       "Name: count, dtype: int64"
      ]
     },
     "execution_count": 17,
     "metadata": {},
     "output_type": "execute_result"
    }
   ],
   "source": [
    "# train.describe()\n",
    "# train.describe(include='O')\n",
    "# test.describe()\n",
    "# train.info()\n",
    "train['NObeyesdad'].value_counts()"
   ]
  },
  {
   "cell_type": "markdown",
   "id": "7352e121-9fe2-4902-b2b2-7edddb0e270c",
   "metadata": {},
   "source": [
    "### id 제외\n",
    "id 학습에서 제외"
   ]
  },
  {
   "cell_type": "code",
   "execution_count": 2,
   "id": "61138af2-b9c2-494e-a8dd-62894f676320",
   "metadata": {},
   "outputs": [],
   "source": [
    "# id칼럼 제외\n",
    "train = train.drop(columns=['id'])\n",
    "test = test.drop(columns=['id'])"
   ]
  },
  {
   "cell_type": "markdown",
   "id": "bdceb7e2-371f-4cb0-97a4-bf8ae7999c35",
   "metadata": {},
   "source": [
    "### 여기서 틀림"
   ]
  },
  {
   "cell_type": "code",
   "execution_count": 5,
   "id": "69c78995-cb42-421a-bc11-d031cc27787a",
   "metadata": {},
   "outputs": [
    {
     "name": "stdout",
     "output_type": "stream",
     "text": [
      "<class 'pandas.core.series.Series'>\n",
      "RangeIndex: 20758 entries, 0 to 20757\n",
      "Series name: NObeyesdad\n",
      "Non-Null Count  Dtype   \n",
      "--------------  -----   \n",
      "20758 non-null  category\n",
      "dtypes: category(1)\n",
      "memory usage: 20.7 KB\n"
     ]
    }
   ],
   "source": [
    "#y값 분리\n",
    "# target = train.pop(\"NObeyesdad\")\n",
    "# dtype -> category\n",
    "target = target.astype('category')\n",
    "target.info()"
   ]
  },
  {
   "cell_type": "code",
   "execution_count": null,
   "id": "e0e1e109-388f-47ae-bdd6-54d65134ed1f",
   "metadata": {},
   "outputs": [],
   "source": [
    "# train/test object -> category"
   ]
  },
  {
   "cell_type": "code",
   "execution_count": 6,
   "id": "d9f3592b-71cd-4a23-9a6d-3c2ed080b78b",
   "metadata": {},
   "outputs": [],
   "source": [
    "train['Gender'] = train['Gender'].astype('category')\n",
    "train['family_history_with_overweight'] = train['family_history_with_overweight'].astype('category')\n",
    "train['FAVC'] = train['FAVC'].astype('category')\n",
    "train['CAEC'] = train['CAEC'].astype('category')\n",
    "train['SMOKE'] = train['SMOKE'].astype('category')\n",
    "train['SCC'] = train['SCC'].astype('category')\n",
    "train['CALC'] = train['CALC'].astype('category')\n",
    "train['MTRANS'] = train['MTRANS'].astype('category')\n",
    "\n",
    "test['Gender'] = test['Gender'].astype('category')\n",
    "test['family_history_with_overweight'] = test['family_history_with_overweight'].astype('category')\n",
    "test['FAVC'] = test['FAVC'].astype('category')\n",
    "test['CAEC'] = test['CAEC'].astype('category')\n",
    "test['SMOKE'] = test['SMOKE'].astype('category')\n",
    "test['SCC'] = test['SCC'].astype('category')\n",
    "test['CALC'] = test['CALC'].astype('category')\n",
    "test['MTRANS'] = test['MTRANS'].astype('category')"
   ]
  },
  {
   "cell_type": "code",
   "execution_count": 10,
   "id": "8f8fe979-cf5f-435b-95cf-63072c7ff954",
   "metadata": {},
   "outputs": [
    {
     "name": "stdout",
     "output_type": "stream",
     "text": [
      "<class 'pandas.core.frame.DataFrame'>\n",
      "RangeIndex: 20758 entries, 0 to 20757\n",
      "Data columns (total 16 columns):\n",
      " #   Column                          Non-Null Count  Dtype   \n",
      "---  ------                          --------------  -----   \n",
      " 0   Gender                          20758 non-null  category\n",
      " 1   Age                             20758 non-null  float64 \n",
      " 2   Height                          20758 non-null  float64 \n",
      " 3   Weight                          20758 non-null  float64 \n",
      " 4   family_history_with_overweight  20758 non-null  category\n",
      " 5   FAVC                            20758 non-null  category\n",
      " 6   FCVC                            20758 non-null  float64 \n",
      " 7   NCP                             20758 non-null  float64 \n",
      " 8   CAEC                            20758 non-null  category\n",
      " 9   SMOKE                           20758 non-null  category\n",
      " 10  CH2O                            20758 non-null  float64 \n",
      " 11  SCC                             20758 non-null  category\n",
      " 12  FAF                             20758 non-null  float64 \n",
      " 13  TUE                             20758 non-null  float64 \n",
      " 14  CALC                            20758 non-null  category\n",
      " 15  MTRANS                          20758 non-null  category\n",
      "dtypes: category(8), float64(8)\n",
      "memory usage: 1.4 MB\n",
      "<class 'pandas.core.frame.DataFrame'>\n",
      "RangeIndex: 13840 entries, 0 to 13839\n",
      "Data columns (total 16 columns):\n",
      " #   Column                          Non-Null Count  Dtype   \n",
      "---  ------                          --------------  -----   \n",
      " 0   Gender                          13840 non-null  category\n",
      " 1   Age                             13840 non-null  float64 \n",
      " 2   Height                          13840 non-null  float64 \n",
      " 3   Weight                          13840 non-null  float64 \n",
      " 4   family_history_with_overweight  13840 non-null  category\n",
      " 5   FAVC                            13840 non-null  category\n",
      " 6   FCVC                            13840 non-null  float64 \n",
      " 7   NCP                             13840 non-null  float64 \n",
      " 8   CAEC                            13840 non-null  category\n",
      " 9   SMOKE                           13840 non-null  category\n",
      " 10  CH2O                            13840 non-null  float64 \n",
      " 11  SCC                             13840 non-null  category\n",
      " 12  FAF                             13840 non-null  float64 \n",
      " 13  TUE                             13840 non-null  float64 \n",
      " 14  CALC                            13840 non-null  category\n",
      " 15  MTRANS                          13840 non-null  category\n",
      "dtypes: category(8), float64(8)\n",
      "memory usage: 974.5 KB\n"
     ]
    }
   ],
   "source": [
    "train.info()\n",
    "test.info()"
   ]
  },
  {
   "cell_type": "markdown",
   "id": "ffbebcfb-5046-4d5d-911f-0e4ec2c0ef6d",
   "metadata": {},
   "source": [
    "## ''"
   ]
  },
  {
   "cell_type": "code",
   "execution_count": null,
   "id": "54393cfc-48e7-443f-9e34-00a5448efb12",
   "metadata": {},
   "outputs": [],
   "source": [
    "## 검증데이터 분할"
   ]
  },
  {
   "cell_type": "code",
   "execution_count": 8,
   "id": "040cb2e1-f308-491a-908b-640192ac68bf",
   "metadata": {},
   "outputs": [],
   "source": [
    "from sklearn.model_selection import train_test_split"
   ]
  },
  {
   "cell_type": "code",
   "execution_count": 9,
   "id": "02f1e8a6-b98e-4cc1-8104-f9c84794927e",
   "metadata": {},
   "outputs": [
    {
     "data": {
      "text/plain": [
       "((16606, 16), (4152, 16), (16606,), (4152,))"
      ]
     },
     "execution_count": 9,
     "metadata": {},
     "output_type": "execute_result"
    }
   ],
   "source": [
    "X_train, X_val, y_train, y_val = train_test_split(\n",
    "    train,\n",
    "    target,\n",
    "    test_size=0.2,\n",
    "    random_state=0\n",
    ")\n",
    "X_train.shape, X_val.shape, y_train.shape, y_val.shape"
   ]
  },
  {
   "cell_type": "code",
   "execution_count": null,
   "id": "7cda760a-3df2-4d31-b875-db35f6c02f68",
   "metadata": {},
   "outputs": [],
   "source": [
    "## 모델 학습 및 평가"
   ]
  },
  {
   "cell_type": "code",
   "execution_count": 12,
   "id": "979d4ee7-b1a3-4323-aa34-028db9e104e5",
   "metadata": {},
   "outputs": [],
   "source": [
    "import lightgbm as lgb\n",
    "# 학습\n",
    "lgbmc = lgb.LGBMClassifier(ramdom_state=0 , verbose=-1)\n",
    "lgbmc.fit(X_train,y_train)\n",
    "#검증\n",
    "pred = lgbmc.predict(X_val) #예측 y값 라벨만\n",
    "pred_proba = lgbmc.predict_proba(X_val) #예측 확률값"
   ]
  },
  {
   "cell_type": "code",
   "execution_count": null,
   "id": "80000ca9-1391-4257-a52c-dae144b842cc",
   "metadata": {},
   "outputs": [],
   "source": [
    "# verbose : 학습과정 출력여부 (-1 : 출력안함)\n",
    "# 0: 경고 수준 출력 , 1: 인반정보 출력 , >1 : 자세한 정보 출력"
   ]
  },
  {
   "cell_type": "code",
   "execution_count": 16,
   "id": "f4406cfb-4be0-4945-9dde-7e0b2ab73620",
   "metadata": {},
   "outputs": [
    {
     "name": "stdout",
     "output_type": "stream",
     "text": [
      "roc_auc_ovr :  0.9888169248146651\n",
      "roc_auc_ovo :  0.9874571729788963\n",
      "accuracy :  0.9051059730250481\n",
      "f1 :  0.8949765427420396\n"
     ]
    }
   ],
   "source": [
    "# 평가(roc_auc ,accuracy , f1 )\n",
    "from sklearn.metrics import roc_auc_score, f1_score , accuracy_score\n",
    "roc_auc_ovr = roc_auc_score(y_val,pred_proba,multi_class='ovr') # 예측 확률값[오답예측확률, 정답예측확률]\n",
    "roc_auc_ovo = roc_auc_score(y_val,pred_proba,multi_class='ovo')\n",
    "accuracy = accuracy_score(y_val,pred)    # pred 예측 y값\n",
    "f1= f1_score(y_val,pred,average='macro') # pred 예측 y값\n",
    "\n",
    "print('roc_auc_ovr : ',  roc_auc_ovr)\n",
    "print('roc_auc_ovo : ',  roc_auc_ovo)\n",
    "print('accuracy : ',accuracy)\n",
    "print('f1 : ', f1)\n"
   ]
  },
  {
   "cell_type": "code",
   "execution_count": 24,
   "id": "cf0daa90-8ead-40c7-a8ea-9216509dc39c",
   "metadata": {},
   "outputs": [],
   "source": [
    "# 예측 팡리 제출\n",
    "pred_submit = lgbmc.predict(test)\n",
    "pred_submit\n",
    "\n",
    "submit_csv = pd.DataFrame({'pred' : pred_submit})\n",
    "submit_csv.to_csv(\"reusjasdhf.csv\",index=False)"
   ]
  }
 ],
 "metadata": {
  "kernelspec": {
   "display_name": "Python 3 (ipykernel)",
   "language": "python",
   "name": "python3"
  },
  "language_info": {
   "codemirror_mode": {
    "name": "ipython",
    "version": 3
   },
   "file_extension": ".py",
   "mimetype": "text/x-python",
   "name": "python",
   "nbconvert_exporter": "python",
   "pygments_lexer": "ipython3",
   "version": "3.11.6"
  }
 },
 "nbformat": 4,
 "nbformat_minor": 5
}
