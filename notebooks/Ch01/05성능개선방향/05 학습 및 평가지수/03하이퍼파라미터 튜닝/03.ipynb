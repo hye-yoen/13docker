{
 "cells": [
  {
   "cell_type": "code",
   "execution_count": null,
   "id": "97ab14f9-4d65-4ed1-bd28-4d6b1a54ff43",
   "metadata": {},
   "outputs": [],
   "source": [
    "# ----------------------------------------------------------------------\n",
    "# Optuna (베이지안 최적화 기반) 정의 및 원리\n",
    "# ----------------------------------------------------------------------\n",
    "\n",
    "# 1. 정의:\n",
    "# - 이전 시도의 평가 결과를 바탕으로 다음 시도에 가장 성능이 좋을 것으로 '예측'되는 조합을 '지능적으로' 선택하여 탐색하는 베이지안 최적화 기반 프레임워크.\n",
    "# - Random Search보다 훨씬 적은 반복만으로 최적의 하이퍼파라미터를 찾을 수 있어 가장 효율적임.\n",
    "\n",
    "# 2. 핵심 원리:\n",
    "# - Define-by-Run: 탐색 공간을 미리 고정하지 않고, 튜닝 과정(Run-time) 중에 동적으로(조건에 따라) 정의할 수 있음.\n",
    "# - 베이지안 최적화: 확률 모델(대리 모델)을 사용하여 탐색할 다음 위치를 결정.\n",
    "#   - 탐험 (Exploration): 아직 시도해보지 않은 새로운 영역을 탐색.\n",
    "#   - 활용 (Exploitation): 이전에 성능이 좋았던 영역 주변을 집중적으로 탐색.\n",
    "#   - Optuna는 이 두 가지를 균형 있게 수행하여 효율을 극대화함.\n",
    "\n",
    "# 3. 주요 요소:\n",
    "# - Study (스터디): 전체 최적화 세션을 관리하는 객체. 최적화 방향(maximize/minimize)을 정의함.\n",
    "# - Trial (시행): 한 번의 하이퍼파라미터 조합을 시도하고 평가하는 과정.\n",
    "# - Objective Function (목적 함수): Optuna로부터 제안받은 조합으로 모델을 학습시키고, 최적화할 점수(Scalar Value)를 반환하는 함수. (Optuna가 이 값을 최대화 또는 최소화하려고 시도함)\n",
    "\n",
    "# 4. 장점:\n",
    "# - 높은 효율성: 비효율적인 영역 탐색을 피하여 시간과 자원을 크게 절약.\n",
    "# - 유연성: 조건부 파라미터나 복잡한 탐색 공간을 동적으로 처리 가능.\n",
    "# - 강력한 시각화: 탐색 과정을 시각적으로 분석할 수 있는 다양한 도구 제공."
   ]
  },
  {
   "cell_type": "code",
   "execution_count": 1,
   "id": "65b4baae-0c3e-40d7-887b-ae869a5a4dcc",
   "metadata": {},
   "outputs": [
    {
     "name": "stdout",
     "output_type": "stream",
     "text": [
      "--- 데이터 준비 완료 ---\n"
     ]
    }
   ],
   "source": [
    "# --------------------\n",
    "#  라이브러리 및 데이터 준비\n",
    "# --------------------\n",
    "# pip install optuna scikit-learn\n",
    "import optuna\n",
    "from sklearn.ensemble import RandomForestClassifier\n",
    "from sklearn.datasets import load_iris\n",
    "from sklearn.model_selection import cross_val_score, train_test_split\n",
    "\n",
    "# Iris 데이터셋 로드\n",
    "iris = load_iris()\n",
    "X, y = iris.data, iris.target\n",
    "\n",
    "# 데이터 분할\n",
    "X_train, X_test, y_train, y_test = train_test_split(X, y, test_size=0.3, random_state=42)\n",
    "\n",
    "print(\"--- 데이터 준비 완료 ---\")"
   ]
  },
  {
   "cell_type": "code",
   "execution_count": 2,
   "id": "ff3c22c1-70d1-44fc-8068-b09fc6c7592b",
   "metadata": {},
   "outputs": [
    {
     "name": "stdout",
     "output_type": "stream",
     "text": [
      "\n",
      "--- 2단계: 목적 함수 정의 완료 ---\n"
     ]
    }
   ],
   "source": [
    "# --------------------\n",
    "# 2단계: 목적 함수 (Objective Function) 정의\n",
    "# --------------------\n",
    "def objective(trial):\n",
    "    \"\"\"\n",
    "    Optuna로부터 하이퍼파라미터를 제안받아 모델을 평가하고 점수를 반환하는 함수.\n",
    "    \"\"\"\n",
    "    \n",
    "    # 1. 하이퍼파라미터 탐색 공간 정의 (trial.suggest_*)\n",
    "    # Optuna는 이전에 평가된 결과를 바탕으로 다음에 시도할 최적의 값을 지능적으로 제안합니다.\n",
    "    n_estimators = trial.suggest_int('n_estimators', 100, 500)  # 정수형 범위 탐색\n",
    "    max_depth = trial.suggest_int('max_depth', 3, 10)           # 정수형 범위 탐색\n",
    "    min_samples_split = trial.suggest_float('min_samples_split', 0.01, 0.1) # 실수형 범위 탐색\n",
    "    \n",
    "    # 2. 모델 생성 및 교차 검증 평가\n",
    "    model = RandomForestClassifier(\n",
    "        n_estimators=n_estimators,\n",
    "        max_depth=max_depth,\n",
    "        min_samples_split=min_samples_split,\n",
    "        random_state=42\n",
    "    )\n",
    "    \n",
    "    # 5-Fold 교차 검증을 사용하여 정확도(Accuracy)를 평가\n",
    "    score = cross_val_score(model, X_train, y_train, cv=5, scoring='accuracy')\n",
    "    \n",
    "    # 교차 검증 점수의 평균을 반환 (Optuna는 이 값을 최대화하려고 시도함)\n",
    "    return score.mean()\n",
    "\n",
    "print(\"\\n--- 2단계: 목적 함수 정의 완료 ---\")"
   ]
  },
  {
   "cell_type": "code",
   "execution_count": null,
   "id": "5fdb82dd-b274-43ae-b67b-6d0bda452fd3",
   "metadata": {},
   "outputs": [],
   "source": []
  },
  {
   "cell_type": "code",
   "execution_count": 3,
   "id": "99f5f5df-4908-4b71-a0f5-2cf2df37734a",
   "metadata": {},
   "outputs": [
    {
     "name": "stderr",
     "output_type": "stream",
     "text": [
      "[I 2025-10-17 01:52:30,428] A new study created in memory with name: no-name-ad2db1f2-cae2-4d3d-bb08-22db837ca8bb\n"
     ]
    },
    {
     "data": {
      "application/vnd.jupyter.widget-view+json": {
       "model_id": "f9559d13c71d4c1db1c6d061bd62fe3a",
       "version_major": 2,
       "version_minor": 0
      },
      "text/plain": [
       "  0%|          | 0/50 [00:00<?, ?it/s]"
      ]
     },
     "metadata": {},
     "output_type": "display_data"
    },
    {
     "name": "stdout",
     "output_type": "stream",
     "text": [
      "[I 2025-10-17 01:52:33,705] Trial 0 finished with value: 0.9428571428571428 and parameters: {'n_estimators': 190, 'max_depth': 3, 'min_samples_split': 0.08690077875407516}. Best is trial 0 with value: 0.9428571428571428.\n",
      "[I 2025-10-17 01:52:38,964] Trial 1 finished with value: 0.9428571428571428 and parameters: {'n_estimators': 319, 'max_depth': 8, 'min_samples_split': 0.012968108543957113}. Best is trial 0 with value: 0.9428571428571428.\n",
      "[I 2025-10-17 01:52:42,234] Trial 2 finished with value: 0.9428571428571428 and parameters: {'n_estimators': 135, 'max_depth': 7, 'min_samples_split': 0.09884559905823312}. Best is trial 0 with value: 0.9428571428571428.\n",
      "[I 2025-10-17 01:52:50,177] Trial 3 finished with value: 0.9428571428571428 and parameters: {'n_estimators': 358, 'max_depth': 8, 'min_samples_split': 0.07711712947697456}. Best is trial 0 with value: 0.9428571428571428.\n",
      "[I 2025-10-17 01:53:00,914] Trial 4 finished with value: 0.9428571428571428 and parameters: {'n_estimators': 420, 'max_depth': 6, 'min_samples_split': 0.01618845609166149}. Best is trial 0 with value: 0.9428571428571428.\n",
      "[I 2025-10-17 01:53:03,672] Trial 5 finished with value: 0.9333333333333333 and parameters: {'n_estimators': 117, 'max_depth': 3, 'min_samples_split': 0.07505621925995849}. Best is trial 0 with value: 0.9428571428571428.\n",
      "[I 2025-10-17 01:53:10,058] Trial 6 finished with value: 0.9428571428571428 and parameters: {'n_estimators': 225, 'max_depth': 7, 'min_samples_split': 0.03793776957786022}. Best is trial 0 with value: 0.9428571428571428.\n",
      "[I 2025-10-17 01:53:22,601] Trial 7 finished with value: 0.9428571428571428 and parameters: {'n_estimators': 449, 'max_depth': 5, 'min_samples_split': 0.03638849833642643}. Best is trial 0 with value: 0.9428571428571428.\n",
      "[I 2025-10-17 01:53:30,442] Trial 8 finished with value: 0.9428571428571428 and parameters: {'n_estimators': 448, 'max_depth': 4, 'min_samples_split': 0.03293128528864188}. Best is trial 0 with value: 0.9428571428571428.\n",
      "[I 2025-10-17 01:53:33,278] Trial 9 finished with value: 0.9428571428571428 and parameters: {'n_estimators': 114, 'max_depth': 8, 'min_samples_split': 0.08909150277215223}. Best is trial 0 with value: 0.9428571428571428.\n",
      "[I 2025-10-17 01:53:38,196] Trial 10 finished with value: 0.9428571428571428 and parameters: {'n_estimators': 226, 'max_depth': 10, 'min_samples_split': 0.06090576822346025}. Best is trial 0 with value: 0.9428571428571428.\n",
      "[I 2025-10-17 01:53:45,909] Trial 11 finished with value: 0.9428571428571428 and parameters: {'n_estimators': 292, 'max_depth': 10, 'min_samples_split': 0.012281691296052279}. Best is trial 0 with value: 0.9428571428571428.\n",
      "[I 2025-10-17 01:53:53,762] Trial 12 finished with value: 0.9428571428571428 and parameters: {'n_estimators': 276, 'max_depth': 3, 'min_samples_split': 0.05779418501336263}. Best is trial 0 with value: 0.9428571428571428.\n",
      "[I 2025-10-17 01:54:01,475] Trial 13 finished with value: 0.9428571428571428 and parameters: {'n_estimators': 361, 'max_depth': 9, 'min_samples_split': 0.07483901114418876}. Best is trial 0 with value: 0.9428571428571428.\n",
      "[I 2025-10-17 01:54:06,304] Trial 14 finished with value: 0.9428571428571428 and parameters: {'n_estimators': 192, 'max_depth': 5, 'min_samples_split': 0.02280355821607529}. Best is trial 0 with value: 0.9428571428571428.\n",
      "[I 2025-10-17 01:54:15,020] Trial 15 finished with value: 0.9428571428571428 and parameters: {'n_estimators': 324, 'max_depth': 6, 'min_samples_split': 0.04915150915507455}. Best is trial 0 with value: 0.9428571428571428.\n",
      "[I 2025-10-17 01:54:19,633] Trial 16 finished with value: 0.9428571428571428 and parameters: {'n_estimators': 180, 'max_depth': 8, 'min_samples_split': 0.05015427764153877}. Best is trial 0 with value: 0.9428571428571428.\n",
      "[I 2025-10-17 01:54:26,162] Trial 17 finished with value: 0.9428571428571428 and parameters: {'n_estimators': 256, 'max_depth': 4, 'min_samples_split': 0.06759477437262885}. Best is trial 0 with value: 0.9428571428571428.\n",
      "[I 2025-10-17 01:54:32,385] Trial 18 finished with value: 0.9428571428571428 and parameters: {'n_estimators': 393, 'max_depth': 9, 'min_samples_split': 0.09045529484618753}. Best is trial 0 with value: 0.9428571428571428.\n",
      "[I 2025-10-17 01:54:44,637] Trial 19 finished with value: 0.9428571428571428 and parameters: {'n_estimators': 497, 'max_depth': 5, 'min_samples_split': 0.02475818871733189}. Best is trial 0 with value: 0.9428571428571428.\n",
      "[I 2025-10-17 01:54:53,702] Trial 20 finished with value: 0.9428571428571428 and parameters: {'n_estimators': 319, 'max_depth': 7, 'min_samples_split': 0.04658908247025314}. Best is trial 0 with value: 0.9428571428571428.\n",
      "[I 2025-10-17 01:54:57,181] Trial 21 finished with value: 0.9428571428571428 and parameters: {'n_estimators': 153, 'max_depth': 7, 'min_samples_split': 0.09732328182187705}. Best is trial 0 with value: 0.9428571428571428.\n",
      "[I 2025-10-17 01:55:02,433] Trial 22 finished with value: 0.9428571428571428 and parameters: {'n_estimators': 158, 'max_depth': 9, 'min_samples_split': 0.0861627842371083}. Best is trial 0 with value: 0.9428571428571428.\n",
      "[I 2025-10-17 01:55:08,112] Trial 23 finished with value: 0.9428571428571428 and parameters: {'n_estimators': 230, 'max_depth': 6, 'min_samples_split': 0.09954490506251537}. Best is trial 0 with value: 0.9428571428571428.\n",
      "[I 2025-10-17 01:55:11,829] Trial 24 finished with value: 0.9428571428571428 and parameters: {'n_estimators': 129, 'max_depth': 8, 'min_samples_split': 0.08172769806566435}. Best is trial 0 with value: 0.9428571428571428.\n",
      "[I 2025-10-17 01:55:15,778] Trial 25 finished with value: 0.9428571428571428 and parameters: {'n_estimators': 189, 'max_depth': 7, 'min_samples_split': 0.06661763444181076}. Best is trial 0 with value: 0.9428571428571428.\n",
      "[I 2025-10-17 01:55:18,199] Trial 26 finished with value: 0.9428571428571428 and parameters: {'n_estimators': 102, 'max_depth': 4, 'min_samples_split': 0.09402980296234519}. Best is trial 0 with value: 0.9428571428571428.\n",
      "[I 2025-10-17 01:55:21,124] Trial 27 finished with value: 0.9428571428571428 and parameters: {'n_estimators': 147, 'max_depth': 6, 'min_samples_split': 0.08481401969344277}. Best is trial 0 with value: 0.9428571428571428.\n",
      "[I 2025-10-17 01:55:25,842] Trial 28 finished with value: 0.9428571428571428 and parameters: {'n_estimators': 257, 'max_depth': 9, 'min_samples_split': 0.06505929956460826}. Best is trial 0 with value: 0.9428571428571428.\n",
      "[I 2025-10-17 01:55:32,211] Trial 29 finished with value: 0.9428571428571428 and parameters: {'n_estimators': 357, 'max_depth': 8, 'min_samples_split': 0.08060421648687499}. Best is trial 0 with value: 0.9428571428571428.\n",
      "[I 2025-10-17 01:55:34,689] Trial 30 finished with value: 0.9428571428571428 and parameters: {'n_estimators': 202, 'max_depth': 8, 'min_samples_split': 0.0714700284095166}. Best is trial 0 with value: 0.9428571428571428.\n",
      "[I 2025-10-17 01:55:41,039] Trial 31 finished with value: 0.9428571428571428 and parameters: {'n_estimators': 358, 'max_depth': 7, 'min_samples_split': 0.09329005004348807}. Best is trial 0 with value: 0.9428571428571428.\n",
      "[I 2025-10-17 01:55:50,437] Trial 32 finished with value: 0.9428571428571428 and parameters: {'n_estimators': 394, 'max_depth': 8, 'min_samples_split': 0.07774484026157741}. Best is trial 0 with value: 0.9428571428571428.\n",
      "[I 2025-10-17 01:55:57,000] Trial 33 finished with value: 0.9428571428571428 and parameters: {'n_estimators': 331, 'max_depth': 7, 'min_samples_split': 0.08741351676701523}. Best is trial 0 with value: 0.9428571428571428.\n",
      "[I 2025-10-17 01:56:02,826] Trial 34 finished with value: 0.9428571428571428 and parameters: {'n_estimators': 389, 'max_depth': 3, 'min_samples_split': 0.09991605639662973}. Best is trial 0 with value: 0.9428571428571428.\n",
      "[I 2025-10-17 01:56:08,624] Trial 35 finished with value: 0.9428571428571428 and parameters: {'n_estimators': 297, 'max_depth': 6, 'min_samples_split': 0.04249227494177845}. Best is trial 0 with value: 0.9428571428571428.\n",
      "[I 2025-10-17 01:56:13,807] Trial 36 finished with value: 0.9428571428571428 and parameters: {'n_estimators': 266, 'max_depth': 9, 'min_samples_split': 0.02566926516879822}. Best is trial 0 with value: 0.9428571428571428.\n",
      "[I 2025-10-17 01:56:16,301] Trial 37 finished with value: 0.9428571428571428 and parameters: {'n_estimators': 128, 'max_depth': 5, 'min_samples_split': 0.0745304760972173}. Best is trial 0 with value: 0.9428571428571428.\n",
      "[I 2025-10-17 01:56:23,583] Trial 38 finished with value: 0.9428571428571428 and parameters: {'n_estimators': 422, 'max_depth': 8, 'min_samples_split': 0.09262042854005541}. Best is trial 0 with value: 0.9428571428571428.\n",
      "[I 2025-10-17 01:56:27,579] Trial 39 finished with value: 0.9428571428571428 and parameters: {'n_estimators': 234, 'max_depth': 7, 'min_samples_split': 0.03150296234971854}. Best is trial 0 with value: 0.9428571428571428.\n",
      "[I 2025-10-17 01:56:34,259] Trial 40 finished with value: 0.9428571428571428 and parameters: {'n_estimators': 337, 'max_depth': 10, 'min_samples_split': 0.016091061891220386}. Best is trial 0 with value: 0.9428571428571428.\n",
      "[I 2025-10-17 01:56:41,239] Trial 41 finished with value: 0.9428571428571428 and parameters: {'n_estimators': 455, 'max_depth': 3, 'min_samples_split': 0.016073700246195408}. Best is trial 0 with value: 0.9428571428571428.\n",
      "[I 2025-10-17 01:56:51,012] Trial 42 finished with value: 0.9428571428571428 and parameters: {'n_estimators': 428, 'max_depth': 5, 'min_samples_split': 0.011600743971884844}. Best is trial 0 with value: 0.9428571428571428.\n",
      "[I 2025-10-17 01:56:58,653] Trial 43 finished with value: 0.9428571428571428 and parameters: {'n_estimators': 376, 'max_depth': 4, 'min_samples_split': 0.019774829354979505}. Best is trial 0 with value: 0.9428571428571428.\n",
      "[I 2025-10-17 01:57:07,875] Trial 44 finished with value: 0.9428571428571428 and parameters: {'n_estimators': 466, 'max_depth': 6, 'min_samples_split': 0.03667321245519856}. Best is trial 0 with value: 0.9428571428571428.\n",
      "[I 2025-10-17 01:57:16,425] Trial 45 finished with value: 0.9428571428571428 and parameters: {'n_estimators': 412, 'max_depth': 9, 'min_samples_split': 0.03260093739680191}. Best is trial 0 with value: 0.9428571428571428.\n",
      "[I 2025-10-17 01:57:21,824] Trial 46 finished with value: 0.9428571428571428 and parameters: {'n_estimators': 289, 'max_depth': 7, 'min_samples_split': 0.056404192026416874}. Best is trial 0 with value: 0.9428571428571428.\n",
      "[I 2025-10-17 01:57:27,221] Trial 47 finished with value: 0.9428571428571428 and parameters: {'n_estimators': 315, 'max_depth': 8, 'min_samples_split': 0.027573137922629654}. Best is trial 0 with value: 0.9428571428571428.\n",
      "[I 2025-10-17 01:57:35,758] Trial 48 finished with value: 0.9428571428571428 and parameters: {'n_estimators': 482, 'max_depth': 8, 'min_samples_split': 0.010276296774167498}. Best is trial 0 with value: 0.9428571428571428.\n",
      "[I 2025-10-17 01:57:41,711] Trial 49 finished with value: 0.9428571428571428 and parameters: {'n_estimators': 352, 'max_depth': 3, 'min_samples_split': 0.06079106964591277}. Best is trial 0 with value: 0.9428571428571428.\n"
     ]
    }
   ],
   "source": [
    "# --------------------\n",
    "# 3단계: Optuna Study 실행 및 최적화\n",
    "# --------------------\n",
    "# direction=\"maximize\": 목적 함수의 반환값(정확도)을 최대화하도록 설정\n",
    "study = optuna.create_study(direction=\"maximize\") \n",
    "\n",
    "# optimize 실행: 목적 함수를 호출하여 50번의 반복(trial) 동안 최적의 조합을 탐색\n",
    "# n_trials=50: 총 50가지 조합만 시도 (Grid Search 대비 매우 효율적)\n",
    "study.optimize(objective, n_trials=50, show_progress_bar=True) "
   ]
  },
  {
   "cell_type": "code",
   "execution_count": 4,
   "id": "65957096-67bc-46c7-9425-777d50907851",
   "metadata": {},
   "outputs": [
    {
     "name": "stdout",
     "output_type": "stream",
     "text": [
      "\n",
      "--- 4단계: 최적화 결과 확인 ---\n",
      "Best Parameters: {'n_estimators': 190, 'max_depth': 3, 'min_samples_split': 0.08690077875407516}\n",
      "Best CV Score (Accuracy): 0.9429\n",
      "Final Test Score: 1.0000\n"
     ]
    }
   ],
   "source": [
    "# --------------------\n",
    "# 4단계: 결과 확인\n",
    "# --------------------\n",
    "print(\"\\n--- 4단계: 최적화 결과 확인 ---\")\n",
    "# 최적의 하이퍼파라미터 조합 (Best Parameters)\n",
    "print(\"Best Parameters:\", study.best_params)\n",
    "\n",
    "# 해당 조합으로 얻은 최고 점수 (Best Value)\n",
    "print(f\"Best CV Score (Accuracy): {study.best_value:.4f}\")\n",
    "\n",
    "# 최종 모델 학습 (최적 파라미터를 사용하여 최종 모델 재학습)\n",
    "best_params = study.best_params\n",
    "final_model = RandomForestClassifier(**best_params, random_state=42)\n",
    "final_model.fit(X_train, y_train)\n",
    "\n",
    "final_test_score = final_model.score(X_test, y_test)\n",
    "print(f\"Final Test Score: {final_test_score:.4f}\")"
   ]
  }
 ],
 "metadata": {
  "kernelspec": {
   "display_name": "Python 3 (ipykernel)",
   "language": "python",
   "name": "python3"
  },
  "language_info": {
   "codemirror_mode": {
    "name": "ipython",
    "version": 3
   },
   "file_extension": ".py",
   "mimetype": "text/x-python",
   "name": "python",
   "nbconvert_exporter": "python",
   "pygments_lexer": "ipython3",
   "version": "3.11.6"
  }
 },
 "nbformat": 4,
 "nbformat_minor": 5
}
