{
 "cells": [
  {
   "cell_type": "code",
   "execution_count": 1,
   "id": "03b9f598-7539-4cea-a939-4bfcfcda24d4",
   "metadata": {},
   "outputs": [
    {
     "name": "stdout",
     "output_type": "stream",
     "text": [
      "   매출액  광고비  직원수\n",
      "0  300   70   15\n",
      "1  320   75   16\n",
      "2  250   30   14\n"
     ]
    }
   ],
   "source": [
    "import pandas as pd\n",
    "data = {\n",
    "    '매출액': [300, 320, 250, 360, 315, 328, 310, 335, 326, 280,\n",
    "            290, 300, 315, 328, 310, 335, 300, 400, 500, 600],\n",
    "    '광고비': [70, 75, 30, 80, 72, 77, 70, 82, 70, 80,\n",
    "            68, 90, 72, 77, 70, 82, 40, 20, 75, 80],\n",
    "    '직원수': [15, 16, 14, 20, 19, 17, 16, 19, 15, 20,\n",
    "            14, 5, 16, 17, 16, 14, 30, 40, 10, 50]\n",
    "    }\n",
    "df = pd.DataFrame(data)\n",
    "print(df.head(3))"
   ]
  },
  {
   "cell_type": "code",
   "execution_count": 2,
   "id": "f6cd4a00-3cd9-485c-b267-e48ec46f9338",
   "metadata": {},
   "outputs": [
    {
     "name": "stdout",
     "output_type": "stream",
     "text": [
      "                            OLS Regression Results                            \n",
      "==============================================================================\n",
      "Dep. Variable:                    매출액   R-squared:                       0.512\n",
      "Model:                            OLS   Adj. R-squared:                  0.454\n",
      "Method:                 Least Squares   F-statistic:                     8.907\n",
      "Date:                Fri, 17 Oct 2025   Prob (F-statistic):            0.00226\n",
      "Time:                        01:23:45   Log-Likelihood:                -108.22\n",
      "No. Observations:                  20   AIC:                             222.4\n",
      "Df Residuals:                      17   BIC:                             225.4\n",
      "Df Model:                           2                                         \n",
      "Covariance Type:            nonrobust                                         \n",
      "==============================================================================\n",
      "                 coef    std err          t      P>|t|      [0.025      0.975]\n",
      "------------------------------------------------------------------------------\n",
      "Intercept    101.0239     71.716      1.409      0.177     -50.284     252.331\n",
      "광고비            1.8194      0.807      2.255      0.038       0.117       3.522\n",
      "직원수            5.9288      1.430      4.147      0.001       2.912       8.945\n",
      "==============================================================================\n",
      "Omnibus:                       30.534   Durbin-Watson:                   1.354\n",
      "Prob(Omnibus):                  0.000   Jarque-Bera (JB):               64.655\n",
      "Skew:                           2.444   Prob(JB):                     9.13e-15\n",
      "Kurtosis:                      10.327   Cond. No.                         401.\n",
      "==============================================================================\n",
      "\n",
      "Notes:\n",
      "[1] Standard Errors assume that the covariance matrix of the errors is correctly specified.\n"
     ]
    }
   ],
   "source": [
    "from statsmodels.formula.api import ols\n",
    "model = ols('매출액 ~ 광고비 + 직원수', data=df).fit()\n",
    "print(model.summary())"
   ]
  },
  {
   "cell_type": "code",
   "execution_count": null,
   "id": "ca3ed6a4-5997-4369-a75f-cc5d2cb62529",
   "metadata": {},
   "outputs": [],
   "source": []
  },
  {
   "cell_type": "code",
   "execution_count": 3,
   "id": "7c61c57d-0440-49af-b571-4eb6ddd11dba",
   "metadata": {},
   "outputs": [
    {
     "data": {
      "text/html": [
       "<div>\n",
       "<style scoped>\n",
       "    .dataframe tbody tr th:only-of-type {\n",
       "        vertical-align: middle;\n",
       "    }\n",
       "\n",
       "    .dataframe tbody tr th {\n",
       "        vertical-align: top;\n",
       "    }\n",
       "\n",
       "    .dataframe thead th {\n",
       "        text-align: right;\n",
       "    }\n",
       "</style>\n",
       "<table border=\"1\" class=\"dataframe\">\n",
       "  <thead>\n",
       "    <tr style=\"text-align: right;\">\n",
       "      <th></th>\n",
       "      <th>study_hours</th>\n",
       "      <th>material_type</th>\n",
       "      <th>score</th>\n",
       "    </tr>\n",
       "  </thead>\n",
       "  <tbody>\n",
       "    <tr>\n",
       "      <th>0</th>\n",
       "      <td>71</td>\n",
       "      <td>강의</td>\n",
       "      <td>95</td>\n",
       "    </tr>\n",
       "    <tr>\n",
       "      <th>1</th>\n",
       "      <td>34</td>\n",
       "      <td>독학</td>\n",
       "      <td>63</td>\n",
       "    </tr>\n",
       "    <tr>\n",
       "      <th>2</th>\n",
       "      <td>91</td>\n",
       "      <td>도서</td>\n",
       "      <td>95</td>\n",
       "    </tr>\n",
       "    <tr>\n",
       "      <th>3</th>\n",
       "      <td>80</td>\n",
       "      <td>독학</td>\n",
       "      <td>80</td>\n",
       "    </tr>\n",
       "    <tr>\n",
       "      <th>4</th>\n",
       "      <td>40</td>\n",
       "      <td>강의</td>\n",
       "      <td>79</td>\n",
       "    </tr>\n",
       "  </tbody>\n",
       "</table>\n",
       "</div>"
      ],
      "text/plain": [
       "   study_hours material_type  score\n",
       "0           71            강의     95\n",
       "1           34            독학     63\n",
       "2           91            도서     95\n",
       "3           80            독학     80\n",
       "4           40            강의     79"
      ]
     },
     "execution_count": 3,
     "metadata": {},
     "output_type": "execute_result"
    }
   ],
   "source": [
    "import pandas as pd\n",
    "import statsmodels.api as sm\n",
    "# df = pd.read_csv(\"study.csv\")\n",
    "df = pd.read_csv(\"https://raw.githubusercontent.com/lovedlim/bigdata_analyst_cert/main/part3/ch4/study.csv\")\n",
    "df.head()"
   ]
  },
  {
   "cell_type": "code",
   "execution_count": 4,
   "id": "37b1abb5-5a3d-4dc7-8b2c-f76dfcee3f07",
   "metadata": {},
   "outputs": [
    {
     "name": "stdout",
     "output_type": "stream",
     "text": [
      "                            OLS Regression Results                            \n",
      "==============================================================================\n",
      "Dep. Variable:                  score   R-squared:                       0.969\n",
      "Model:                            OLS   Adj. R-squared:                  0.968\n",
      "Method:                 Least Squares   F-statistic:                     991.9\n",
      "Date:                Fri, 17 Oct 2025   Prob (F-statistic):           4.42e-72\n",
      "Time:                        01:25:07   Log-Likelihood:                -238.89\n",
      "No. Observations:                 100   AIC:                             485.8\n",
      "Df Residuals:                      96   BIC:                             496.2\n",
      "Df Model:                           3                                         \n",
      "Covariance Type:            nonrobust                                         \n",
      "==========================================================================================\n",
      "                             coef    std err          t      P>|t|      [0.025      0.975]\n",
      "------------------------------------------------------------------------------------------\n",
      "Intercept                 59.2111      0.799     74.147      0.000      57.626      60.796\n",
      "C(material_type)[T.도서]    -8.6696      0.678    -12.778      0.000     -10.016      -7.323\n",
      "C(material_type)[T.독학]   -17.6129      0.634    -27.790      0.000     -18.871     -16.355\n",
      "study_hours                0.4839      0.011     43.810      0.000       0.462       0.506\n",
      "==============================================================================\n",
      "Omnibus:                        1.754   Durbin-Watson:                   2.173\n",
      "Prob(Omnibus):                  0.416   Jarque-Bera (JB):                1.216\n",
      "Skew:                           0.231   Prob(JB):                        0.544\n",
      "Kurtosis:                       3.280   Cond. No.                         228.\n",
      "==============================================================================\n",
      "\n",
      "Notes:\n",
      "[1] Standard Errors assume that the covariance matrix of the errors is correctly specified.\n"
     ]
    }
   ],
   "source": [
    "# 회귀 모델 생성\n",
    "from statsmodels.formula.api import ols\n",
    "model = ols('score ~ study_hours + C(material_type)', data=df).fit()\n",
    "print(model.summary())"
   ]
  }
 ],
 "metadata": {
  "kernelspec": {
   "display_name": "Python 3 (ipykernel)",
   "language": "python",
   "name": "python3"
  },
  "language_info": {
   "codemirror_mode": {
    "name": "ipython",
    "version": 3
   },
   "file_extension": ".py",
   "mimetype": "text/x-python",
   "name": "python",
   "nbconvert_exporter": "python",
   "pygments_lexer": "ipython3",
   "version": "3.11.6"
  }
 },
 "nbformat": 4,
 "nbformat_minor": 5
}
