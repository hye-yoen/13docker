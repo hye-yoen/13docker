{
 "cells": [
  {
   "cell_type": "code",
   "execution_count": null,
   "id": "afca2177-7c4f-4397-ae2c-1cd43a3f0664",
   "metadata": {},
   "outputs": [],
   "source": [
    "#단순 선형 회귀 분석"
   ]
  },
  {
   "cell_type": "code",
   "execution_count": 1,
   "id": "c8a1c9d6-aa2e-48f5-bb4e-33d39de4a8b4",
   "metadata": {},
   "outputs": [],
   "source": [
    "import pandas as pd\n",
    "\n",
    "data = {\n",
    "    '키': [150, 160, 170, 175, 165, 155, 172, 168, 174, 158,\n",
    "          162, 173, 156, 159, 167, 163, 171, 169, 176, 161],\n",
    "    '몸무게': [42, 50, 70, 64, 56, 48, 68, 60, 65, 52,\n",
    "            54, 67, 49, 51, 58, 55, 69, 61, 66, 53]\n",
    "}\n",
    "df = pd.DataFrame(data)"
   ]
  },
  {
   "cell_type": "code",
   "execution_count": 2,
   "id": "245f73fe-a2d3-41bb-ab9f-ffa6cd0bf920",
   "metadata": {},
   "outputs": [
    {
     "name": "stdout",
     "output_type": "stream",
     "text": [
      "                            OLS Regression Results                            \n",
      "==============================================================================\n",
      "Dep. Variable:                      키   R-squared:                       0.892\n",
      "Model:                            OLS   Adj. R-squared:                  0.886\n",
      "Method:                 Least Squares   F-statistic:                     148.0\n",
      "Date:                Fri, 17 Oct 2025   Prob (F-statistic):           4.04e-10\n",
      "Time:                        01:20:55   Log-Likelihood:                -45.761\n",
      "No. Observations:                  20   AIC:                             95.52\n",
      "Df Residuals:                      18   BIC:                             97.51\n",
      "Df Model:                           1                                         \n",
      "Covariance Type:            nonrobust                                         \n",
      "==============================================================================\n",
      "                 coef    std err          t      P>|t|      [0.025      0.975]\n",
      "------------------------------------------------------------------------------\n",
      "Intercept    115.0676      4.158     27.671      0.000     106.331     123.804\n",
      "몸무게            0.8658      0.071     12.167      0.000       0.716       1.015\n",
      "==============================================================================\n",
      "Omnibus:                        0.985   Durbin-Watson:                   2.609\n",
      "Prob(Omnibus):                  0.611   Jarque-Bera (JB):                0.336\n",
      "Skew:                          -0.315   Prob(JB):                        0.845\n",
      "Kurtosis:                       3.082   Cond. No.                         432.\n",
      "==============================================================================\n",
      "\n",
      "Notes:\n",
      "[1] Standard Errors assume that the covariance matrix of the errors is correctly specified.\n"
     ]
    }
   ],
   "source": [
    "from statsmodels.formula.api import ols\n",
    "model = ols('키 ~ 몸무게', data=df).fit() # '키'를 '몸무게'로부터 예측하겠다\n",
    "print(model.summary())\n",
    "\n",
    "## 1. OLS란?\n",
    "# OLS는 **최소제곱법(Ordinary Least Squares)** 으로,  \n",
    "# **데이터의 실제값과 예측값의 차이(잔차)** 의 제곱합이 최소가 되도록  \n",
    "# **회귀선(선형식)** 을 찾는 통계적 방법이다.\n",
    "    "
   ]
  },
  {
   "cell_type": "code",
   "execution_count": null,
   "id": "ad95b9e3-a9bb-45f7-aa71-d564d75c58c0",
   "metadata": {},
   "outputs": [],
   "source": [
    "# ======================= 회귀분석 주요 지표 해석 예시 =======================\n",
    "\n",
    "# ① coef (회귀계수)\n",
    "# 의미: 독립변수가 1단위 증가할 때 종속변수가 얼마나 변하는가 (기울기)\n",
    "# ▶ 값이 클수록 → 영향력이 큼\n",
    "# ▶ 값이 양수(+)면 → 정(+)의 상관관계 (같이 증가)\n",
    "# ▶ 값이 음수(-)면 → 음(-)의 상관관계 (한쪽이 오를 때 다른 쪽은 감소)\n",
    "# 예시:\n",
    "#  - coef = 0.8 → 공부시간 1시간 늘면 점수 0.8점 오른다.\n",
    "#  - coef = -5.2 → 가격 1단위 오르면 판매량이 5.2개 줄어든다.\n",
    "\n",
    "# ② std err (표준오차)\n",
    "# 의미: 계수(coef)가 얼마나 정확하게 추정되었는지 (불확실성)\n",
    "# ▶ 값이 작을수록 → 신뢰할 수 있는 계수 (안정적 추정)\n",
    "# ▶ 값이 크면 → 데이터의 변동이 크거나 표본이 적음 (추정 불안정)\n",
    "# 예시:\n",
    "#  - std err = 0.05 → 매우 안정적, 오차 적음\n",
    "#  - std err = 2.0 → 계수의 신뢰성 낮음, 표본 부족 가능성\n",
    "\n",
    "# ③ t (t-통계량)\n",
    "# 의미: 계수가 ‘0이 아니다’라고 말할 근거의 강도 (통계적 유의성)\n",
    "# ▶ |t|가 클수록 → 영향이 강하고 확실함\n",
    "# ▶ 일반적으로 |t| > 2 → 유의하다고 판단\n",
    "# 예시:\n",
    "#  - t = 12.1 → 매우 큰 값, 해당 변수는 종속변수에 강한 영향\n",
    "#  - t = 0.8 → 영향이 거의 없음 (유의하지 않음)\n",
    "\n",
    "# ④ P>|t| (p값, 유의확률)\n",
    "# 의미: “이 변수가 실제로 영향이 없을 확률”\n",
    "# ▶ p < 0.05 → 통계적으로 유의 (영향 있음)\n",
    "# ▶ p ≥ 0.05 → 통계적으로 유의하지 않음 (영향 약함)\n",
    "# 예시:\n",
    "#  - p = 0.000 → 매우 유의함, 영향 확실\n",
    "#  - p = 0.08 → 0.05보다 크므로 유의하지 않음\n",
    "\n",
    "# ⑤ [0.025  0.975] (95% 신뢰구간)\n",
    "# 의미: 회귀계수가 이 구간 안에 있을 확률이 95%\n",
    "# ▶ 구간이 좁을수록 → 계수가 안정적임\n",
    "# ▶ 구간이 0을 포함하지 않으면 → 통계적으로 유의함\n",
    "# 예시:\n",
    "#  - [0.7, 1.0] → 0을 포함하지 않음 → 유의함\n",
    "#  - [-0.3, 0.4] → 0 포함됨 → 영향이 없을 수도 있음\n",
    "\n",
    "# ======================= 해석 예시 종합 =======================\n",
    "# 예시 \n",
    "# 공부시간: coef=0.48, std err=0.01, t=43.8, p=0.000, [0.46~0.51]\n",
    "# → 공부시간이 늘수록 점수가 유의하게 상승 (매우 강한 영향)\n",
    "\n",
    "# 예시 \n",
    "# 도서자료: coef=-8.6, std err=0.68, t=-12.8, p=0.000, [-10.0~-7.3]\n",
    "# → 도서로 공부한 경우, 강의 대비 평균 8.6점 낮음 (강한 음의 영향)\n",
    "\n",
    "# 예시 \n",
    "# 광고비: coef=1.8, std err=0.8, t=2.25, p=0.038, [0.12~3.52]\n",
    "# → 광고비가 1 증가하면 매출 1.8 증가 (유의함, 다만 불확실성 약간 있음)\n"
   ]
  },
  {
   "cell_type": "code",
   "execution_count": null,
   "id": "a8e1592d-31f0-4dc7-8dbc-bc4e3c63bc9c",
   "metadata": {},
   "outputs": [],
   "source": []
  }
 ],
 "metadata": {
  "kernelspec": {
   "display_name": "Python 3 (ipykernel)",
   "language": "python",
   "name": "python3"
  },
  "language_info": {
   "codemirror_mode": {
    "name": "ipython",
    "version": 3
   },
   "file_extension": ".py",
   "mimetype": "text/x-python",
   "name": "python",
   "nbconvert_exporter": "python",
   "pygments_lexer": "ipython3",
   "version": "3.11.6"
  }
 },
 "nbformat": 4,
 "nbformat_minor": 5
}
