{
 "cells": [
  {
   "cell_type": "code",
   "execution_count": null,
   "id": "d2bb072f-a3fd-4f48-9e12-28fc8ba4d574",
   "metadata": {},
   "outputs": [],
   "source": []
  },
  {
   "cell_type": "code",
   "execution_count": 1,
   "id": "2d3efae9-a366-4fc5-a8a9-a7668657c9a9",
   "metadata": {},
   "outputs": [
    {
     "name": "stdout",
     "output_type": "stream",
     "text": [
      "    나무  비료        성장률\n",
      "61   C   1  58.143410\n",
      "119  D   3  78.519330\n",
      "91   D   1  74.686450\n",
      "96   D   1  67.961203\n",
      "52   B   3  54.230780\n",
      "4    A   1  47.658466\n",
      "116  D   3  70.652882\n",
      "80   C   3  63.803281\n",
      "30   B   1  48.982934\n",
      "20   A   3  70.656488\n"
     ]
    }
   ],
   "source": [
    "import pandas as pd\n",
    "# df = pd.read_csv(\"tree.csv\")\n",
    "df = pd.read_csv(\"https://raw.githubusercontent.com/lovedlim/bigdata_analyst_cert/main/part3/ch2/tree.csv\")\n",
    "print(df.sample(10))\n"
   ]
  },
  {
   "cell_type": "code",
   "execution_count": 2,
   "id": "81f13401-2068-4834-930c-5fe479583900",
   "metadata": {},
   "outputs": [
    {
     "name": "stdout",
     "output_type": "stream",
     "text": [
      "             df       sum_sq      mean_sq          F        PR(>F)\n",
      "나무          3.0  4783.353938  1594.451313  18.391274  9.016693e-10\n",
      "비료          1.0   873.322002   873.322002  10.073374  1.942421e-03\n",
      "나무:비료       3.0   394.801585   131.600528   1.517952  2.137666e-01\n",
      "Residual  112.0  9709.960792    86.696078        NaN           NaN\n"
     ]
    }
   ],
   "source": [
    "import statsmodels.api as sm\n",
    "from statsmodels.formula.api import ols\n",
    "\n",
    "model = ols('성장률 ~ 나무 + 비료 + 나무:비료', data=df).fit()\n",
    "anova_table = sm.stats.anova_lm(model)\n",
    "print(anova_table)\n"
   ]
  },
  {
   "cell_type": "code",
   "execution_count": null,
   "id": "ce487d32-e459-4451-8367-3ffd8ab0e833",
   "metadata": {},
   "outputs": [],
   "source": [
    "# '성장률 ~ 나무 + 비료 + 나무:비료'\n",
    "# 전체 구조: Y ~ X1 + X2 + X1:X2\n",
    "# | 구문      | 의미                                       |\n",
    "# | ------- | ---------------------------------------- |\n",
    "# | **`Y`** | 종속변수 (결과변수) — 여기서는 `성장률`                 |\n",
    "# | **`~`** | “~ 오른쪽에 있는 변수들이 왼쪽의 Y를 설명한다”는 의미         |\n",
    "# | **`+`** | 여러 독립변수를 함께 포함한다는 뜻                      |\n",
    "# | **`:`** | 두 변수 간의 **상호작용(Interaction)** 항을 포함한다는 뜻 |\n",
    "\n",
    "# | 항목        | 의미               | 설명                          |\n",
    "# | -------    | ------------       | --------------------------- |\n",
    "# | `성장률`    | 종속변수 (Y)        | 나무 종류, 비료 종류에 따라 달라지는 결과 변수 |\n",
    "# | `나무`      | 독립변수1 (요인 A)  | 예: 나무 종류 (소나무, 참나무 등)       |\n",
    "# | `비료`      | 독립변수2 (요인 B)  | 예: 비료 종류 (A, B, C 등)        |\n",
    "# | `나무:비료` | 상호작용항 (A×B)    | “나무 종류별로 비료 효과가 다르다”는 관계 포함 |"
   ]
  },
  {
   "cell_type": "code",
   "execution_count": 6,
   "id": "3e187328-e103-40da-bbfd-83d592543568",
   "metadata": {},
   "outputs": [
    {
     "name": "stdout",
     "output_type": "stream",
     "text": [
      "                df       sum_sq      mean_sq          F        PR(>F)\n",
      "C(나무)          3.0  4783.353938  1594.451313  18.855528  6.600012e-10\n",
      "C(비료)          2.0  1127.924259   563.962129   6.669256  1.857612e-03\n",
      "C(나무):C(비료)    6.0   717.520672   119.586779   1.414199  2.157357e-01\n",
      "Residual     108.0  9132.639448    84.561476        NaN           NaN\n"
     ]
    }
   ],
   "source": [
    "import statsmodels.api as sm\n",
    "from statsmodels.formula.api import ols\n",
    "\n",
    "model = ols('성장률 ~ C(나무) + C(비료) + C(나무):C(비료)', data=df).fit() #범주형\n",
    "anova_table = sm.stats.anova_lm(model)\n",
    "print(anova_table)\n"
   ]
  },
  {
   "cell_type": "code",
   "execution_count": 4,
   "id": "df8e533c-f4b7-4144-9641-b84d7781b5e8",
   "metadata": {},
   "outputs": [
    {
     "name": "stdout",
     "output_type": "stream",
     "text": [
      "0.00000000066\n",
      "0.00185761200\n",
      "0.21573570000\n"
     ]
    }
   ],
   "source": [
    "print(format(6.600012e-10, '.11f'))\n",
    "print(format(1.857612e-03, '.11f'))\n",
    "print(format(2.157357e-01, '.11f'))\n"
   ]
  },
  {
   "cell_type": "code",
   "execution_count": 5,
   "id": "fe0c46f0-28da-4f78-b833-331daafb7993",
   "metadata": {},
   "outputs": [
    {
     "name": "stdout",
     "output_type": "stream",
     "text": [
      "                df       sum_sq      mean_sq          F        PR(>F)\n",
      "C(나무)          3.0  4783.353938  1594.451313  18.855528  6.600012e-10\n",
      "C(비료)          2.0  1127.924259   563.962129   6.669256  1.857612e-03\n",
      "C(나무):C(비료)    6.0   717.520672   119.586779   1.414199  2.157357e-01\n",
      "Residual     108.0  9132.639448    84.561476        NaN           NaN\n"
     ]
    }
   ],
   "source": [
    "model = ols('성장률 ~ C(나무) * C(비료)', data=df).fit()\n",
    "anova_table = sm.stats.anova_lm(model)\n",
    "print(anova_table)\n"
   ]
  },
  {
   "cell_type": "code",
   "execution_count": null,
   "id": "99f8d6bb-ab8d-448e-ad83-c3015a27b19b",
   "metadata": {},
   "outputs": [],
   "source": [
    "# ------------------------------"
   ]
  },
  {
   "cell_type": "code",
   "execution_count": 7,
   "id": "b0e13c77-4f2d-4d19-a813-7a39acba841f",
   "metadata": {},
   "outputs": [],
   "source": [
    "import pandas as pd\n",
    "df_3 = pd.read_csv(\"train.csv\")"
   ]
  },
  {
   "cell_type": "code",
   "execution_count": 8,
   "id": "c3ce36c7-a2fb-41ee-94f2-15283f65eca7",
   "metadata": {},
   "outputs": [],
   "source": [
    "# 결측치 이상치 제거\n",
    "m = df_3['workclass'].mode()[0]\n",
    "df_3['workclass'] = df_3['workclass'].fillna(m)"
   ]
  },
  {
   "cell_type": "code",
   "execution_count": 9,
   "id": "1e31d642-efc7-40fa-962c-ea6c1e340b64",
   "metadata": {},
   "outputs": [],
   "source": [
    "df_3[\"income_code\"] = df_3[\"income\"].map({'<=50K':0, '>50K':1})"
   ]
  },
  {
   "cell_type": "code",
   "execution_count": 10,
   "id": "a6b6e22a-cbf0-43ca-886e-39c8237c90cf",
   "metadata": {},
   "outputs": [
    {
     "name": "stdout",
     "output_type": "stream",
     "text": [
      "                                df       sum_sq    mean_sq           F  \\\n",
      "C(workclass)                   7.0   149.623342  21.374763  137.962636   \n",
      "C(education)                  15.0   648.602960  43.240197  279.092291   \n",
      "C(workclass):C(education)    105.0    28.462431   0.271071    1.749617   \n",
      "Residual                   29204.0  4524.620575   0.154932         NaN   \n",
      "\n",
      "                                  PR(>F)  \n",
      "C(workclass)               6.924630e-201  \n",
      "C(education)                0.000000e+00  \n",
      "C(workclass):C(education)   3.386903e-06  \n",
      "Residual                             NaN  \n"
     ]
    }
   ],
   "source": [
    "from statsmodels.formula.api import ols\n",
    "from statsmodels.stats.anova import anova_lm\n",
    "model = ols('income_code ~ C(workclass) * C(education)', df_3).fit()\n",
    "print(anova_lm(model))"
   ]
  },
  {
   "cell_type": "code",
   "execution_count": null,
   "id": "0ecaa4c0-ebdf-4f8f-b75d-249e7510f2cc",
   "metadata": {},
   "outputs": [],
   "source": []
  }
 ],
 "metadata": {
  "kernelspec": {
   "display_name": "Python 3 (ipykernel)",
   "language": "python",
   "name": "python3"
  },
  "language_info": {
   "codemirror_mode": {
    "name": "ipython",
    "version": 3
   },
   "file_extension": ".py",
   "mimetype": "text/x-python",
   "name": "python",
   "nbconvert_exporter": "python",
   "pygments_lexer": "ipython3",
   "version": "3.11.6"
  }
 },
 "nbformat": 4,
 "nbformat_minor": 5
}
