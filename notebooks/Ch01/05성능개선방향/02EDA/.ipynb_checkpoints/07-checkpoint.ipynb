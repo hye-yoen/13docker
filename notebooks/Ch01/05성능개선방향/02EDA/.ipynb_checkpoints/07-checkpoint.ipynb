{
 "cells": [
  {
   "cell_type": "code",
   "execution_count": null,
   "id": "43259a85-8bff-45bc-9119-1f57711a1a0d",
   "metadata": {},
   "outputs": [],
   "source": [
    "# -----------------------------------------------------------------------------\n",
    "# 독립 표본검정\n",
    "# -----------------------------------------------------------------------------\n",
    "독립표본검정은 **두 개의 독립된 집단 간 평균의 차이**가 통계적으로 유의한지를 검정하는 통계 방법"
   ]
  },
  {
   "cell_type": "code",
   "execution_count": 1,
   "id": "2e2aa480-8fe0-4bcf-bf53-6abe1aa7955b",
   "metadata": {},
   "outputs": [],
   "source": [
    "import pandas as pd\n",
    "class1 = [85, 90, 92, 88, 86, 89, 83, 87]\n",
    "class2 = [80, 82, 88, 85, 84]"
   ]
  },
  {
   "cell_type": "code",
   "execution_count": 2,
   "id": "923b894d-4b4a-4cb6-8958-f818871792a1",
   "metadata": {},
   "outputs": [
    {
     "name": "stdout",
     "output_type": "stream",
     "text": [
      "TtestResult(statistic=2.2108140580092237, pvalue=0.04914857789252186, df=11.0)\n"
     ]
    }
   ],
   "source": [
    "from scipy import stats\n",
    "print(stats.ttest_ind(class1, class2))"
   ]
  },
  {
   "cell_type": "code",
   "execution_count": 3,
   "id": "fec1897f-ce67-4e6e-83db-54047beb4a9c",
   "metadata": {},
   "outputs": [
    {
     "name": "stdout",
     "output_type": "stream",
     "text": [
      "TtestResult(statistic=2.1818699281825236, pvalue=0.059589330071355334, df=8.272682358753572)\n"
     ]
    }
   ],
   "source": [
    "print(stats.ttest_ind(class1, class2, equal_var=False))"
   ]
  },
  {
   "cell_type": "code",
   "execution_count": 4,
   "id": "512ba63e-c554-403e-aaa9-958eb8ad6aa6",
   "metadata": {},
   "outputs": [
    {
     "name": "stdout",
     "output_type": "stream",
     "text": [
      "TtestResult(statistic=2.2108140580092237, pvalue=0.9754257110537391, df=11.0)\n"
     ]
    }
   ],
   "source": [
    "print(stats.ttest_ind(class1, class2, equal_var=True, alternative='less'))"
   ]
  },
  {
   "cell_type": "code",
   "execution_count": 5,
   "id": "0aebd8b4-e50d-499a-a517-c2ccb118d4e3",
   "metadata": {},
   "outputs": [
    {
     "name": "stdout",
     "output_type": "stream",
     "text": [
      "TtestResult(statistic=2.2108140580092237, pvalue=0.02457428894626093, df=11.0)\n"
     ]
    }
   ],
   "source": [
    "print(stats.ttest_ind(class1, class2, equal_var=True, alternative='greater'))"
   ]
  },
  {
   "cell_type": "code",
   "execution_count": null,
   "id": "e952f7a1-71f6-4445-9796-b992d613f902",
   "metadata": {},
   "outputs": [],
   "source": [
    "# -----------------------------------------\n",
    "# StudentsPerformance\n",
    "# -----------------------------------------"
   ]
  },
  {
   "cell_type": "code",
   "execution_count": 8,
   "id": "2d3d77e5-eab1-4434-8bac-fb697b92af4a",
   "metadata": {},
   "outputs": [
    {
     "name": "stdout",
     "output_type": "stream",
     "text": [
      "등분산 가정 t-검정 결과: TtestResult(statistic=-5.383245869828983, pvalue=9.120185549328822e-08, df=998.0)\n",
      "Welch t-검정 결과: TtestResult(statistic=-5.398000564160736, pvalue=8.420838109090415e-08, df=997.9840751727494)\n",
      "여학생 < 남학생 : TtestResult(statistic=-5.383245869828983, pvalue=4.560092774664411e-08, df=998.0)\n",
      "여학생 > 남학생 : TtestResult(statistic=-5.383245869828983, pvalue=0.9999999543990722, df=998.0)\n"
     ]
    }
   ],
   "source": [
    "# StudentsPerformance.csv - 간단한 독립표본 t-검정\n",
    "\n",
    "# 남녀의 수학 점수 비교\n",
    "import pandas as pd\n",
    "from scipy import stats\n",
    "\n",
    "# 1) CSV 불러오기\n",
    "df = pd.read_csv(\"StudentsPerformance.csv\")\n",
    "\n",
    "# 2) 남학생과 여학생 데이터 분리\n",
    "female = df[df['gender'] == 'female']['math score']\n",
    "male   = df[df['gender'] == 'male']['math score']\n",
    "\n",
    "# 3) 독립표본 t-검정 (등분산 가정)\n",
    "result_equal = stats.ttest_ind(female, male, equal_var=True)\n",
    "print(\"등분산 가정 t-검정 결과:\", result_equal)\n",
    "\n",
    "# 4) Welch t-검정 (등분산 가정하지 않음)\n",
    "result_welch = stats.ttest_ind(female, male, equal_var=False)\n",
    "print(\"Welch t-검정 결과:\", result_welch)\n",
    "\n",
    "# 5) 방향성 검정 (여학생 점수가 남학생보다 낮은지 / 높은지)\n",
    "print(\"여학생 < 남학생 :\", stats.ttest_ind(female, male, alternative='less'))\n",
    "print(\"여학생 > 남학생 :\", stats.ttest_ind(female, male, alternative='greater'))\n"
   ]
  },
  {
   "cell_type": "code",
   "execution_count": null,
   "id": "b0d20215-aa1b-45e7-ab8b-343a970c49e9",
   "metadata": {},
   "outputs": [],
   "source": []
  },
  {
   "cell_type": "code",
   "execution_count": null,
   "id": "310ec8c7-914f-4d60-adde-c1f9729a29e9",
   "metadata": {},
   "outputs": [],
   "source": []
  },
  {
   "cell_type": "code",
   "execution_count": null,
   "id": "84a25671-7bed-4c5a-9c98-72503867dc5c",
   "metadata": {},
   "outputs": [],
   "source": []
  },
  {
   "cell_type": "code",
   "execution_count": null,
   "id": "7f72885e-1943-41a1-b58c-39f8471ff181",
   "metadata": {},
   "outputs": [],
   "source": []
  }
 ],
 "metadata": {
  "kernelspec": {
   "display_name": "Python 3 (ipykernel)",
   "language": "python",
   "name": "python3"
  },
  "language_info": {
   "codemirror_mode": {
    "name": "ipython",
    "version": 3
   },
   "file_extension": ".py",
   "mimetype": "text/x-python",
   "name": "python",
   "nbconvert_exporter": "python",
   "pygments_lexer": "ipython3",
   "version": "3.11.6"
  }
 },
 "nbformat": 4,
 "nbformat_minor": 5
}
