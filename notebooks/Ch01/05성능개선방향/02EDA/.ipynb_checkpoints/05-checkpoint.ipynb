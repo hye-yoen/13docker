{
 "cells": [
  {
   "cell_type": "code",
   "execution_count": null,
   "id": "f4483840-cdd7-4d2a-b989-26153eeb990a",
   "metadata": {},
   "outputs": [],
   "source": [
    "# 1. 개념 요약\n",
    "# | 구분           | 설명                                |\n",
    "# | ------------ | --------------------------------- |\n",
    "# | **목적**       | 모집단의 평균이 특정한 값과 같은지 검정            |\n",
    "# | **표본**       | 단 하나의 표본만 사용                      |\n",
    "# | **사용 예시**    | 한 반 학생들의 평균 키가 170cm와 다른지 알고 싶을 때 |\n",
    "# | **귀무가설(H₀)** | 모집단 평균 μ = 기준값 μ₀                 |\n",
    "# | **대립가설(H₁)** | 모집단 평균 μ ≠ μ₀ (또는 >, <)           |\n",
    "\n",
    "# 주제 : 우리 반 학생들의 평균 키(표본집단) 가 전국 평균(모집단) (170cm,평균)과 다른가?\n",
    "# | 학생 번호 | 키(cm) |\n",
    "# | ----- | ----- |\n",
    "# | 1     | 172   |\n",
    "# | 2     | 168   |\n",
    "# | 3     | 171   |\n",
    "# | 4     | 169   |\n",
    "# | 5     | 170   |\n",
    "# | 6     | 174   |\n",
    "# | 7     | 173   |\n",
    "# | 8     | 175   |\n",
    "# | 9     | 169   |\n",
    "# | 10    | 171   |\n",
    "\n",
    "\n",
    "# 2. 검정 종류\n",
    "# | 데이터 조건                | 검정 방법                   | 예시                       |\n",
    "# | -----------------         | ----------------------- | ------------------------ |\n",
    "# | 모집단 분산(σ²)을 알고 있음 | Z검정 (One-sample Z-test) | 표본이 30개 이상, 분산을 알고 있는 경우 |\n",
    "# | 모집단 분산을 모름          | t검정 (One-sample t-test) | 표본이 적거나 분산을 모를 때         |\n",
    "\n"
   ]
  },
  {
   "cell_type": "code",
   "execution_count": 1,
   "id": "af472e6b-36f5-4492-aefa-9415a546a2b8",
   "metadata": {},
   "outputs": [],
   "source": [
    "import pandas as pd\n",
    "df = pd.DataFrame({\n",
    "    'weights':[122, 121, 120, 119, 125, 115, 121, 118, 117, 127,\n",
    "           123, 129, 119, 124, 114, 126, 122, 124, 121, 116,\n",
    "           120, 123, 127, 118, 122, 117, 124, 125, 123, 121],\n",
    "})\n"
   ]
  },
  {
   "cell_type": "code",
   "execution_count": 2,
   "id": "f4968acb-0bf9-4426-b540-0c2923d9dc19",
   "metadata": {},
   "outputs": [
    {
     "name": "stdout",
     "output_type": "stream",
     "text": [
      "t-statistic: 2.1155384372682344\n",
      "p-value: 0.043092957066609296\n"
     ]
    }
   ],
   "source": [
    "# 키 검정\n",
    "from scipy import stats # 통계 분석용 라이브러리 SciPy에서 stats 모듈 불러오기\n",
    "\n",
    "# 귀무가설 표본평균 == 120\n",
    "# 대립가설 표본평균 != 120\n",
    "# p-value :  귀무가설이 맞을 확률 ( p < 0.05  - 귀무가설 기각  , p >=0.05 - 귀무가설 통과)  \n",
    "\n",
    "# t검정\n",
    "t_statistic, p_value = stats.ttest_1samp(df['weights'], 120) # 단일표본 t검정 수행 (표본평균이 120과 다른지 검정)\n",
    "# df['weights']: 표본 데이터\n",
    "# 120: 가설로 설정한 모집단 평균(μ₀ = 120)\n",
    "# 결과로 t-통계량(t_statistic)과 유의확률(p_value) 반환\n",
    "\n",
    "print(\"t-statistic:\", t_statistic) # 계산된 t값(검정 통계량)을 출력\n",
    "print(\"p-value:\", p_value) # 계산된 p-값(유의확률)을 출력\n",
    "\n"
   ]
  },
  {
   "cell_type": "code",
   "execution_count": 3,
   "id": "c30b90ae-d2f1-4e0f-856a-b095f932ef79",
   "metadata": {},
   "outputs": [
    {
     "name": "stdout",
     "output_type": "stream",
     "text": [
      "TtestResult(statistic=2.1155384372682344, pvalue=0.043092957066609296, df=29)\n"
     ]
    }
   ],
   "source": [
    "# t검정 결과 전체를 한 번에 출력\n",
    "print(stats.ttest_1samp(df['weights'], 120))\n"
   ]
  },
  {
   "cell_type": "code",
   "execution_count": null,
   "id": "ff8c1714-6f33-417a-a08f-a6b409db8fe8",
   "metadata": {},
   "outputs": [],
   "source": [
    "print(stats.ttest_1samp(df['weights'], 120, alternative='two-sided')) # 양측검정 (평균이 120과 '다른지' 검정 — 크거나 작을 수 있음)\n"
   ]
  },
  {
   "cell_type": "code",
   "execution_count": null,
   "id": "74db4b90-8841-4ee2-a600-e07dd4e9e87c",
   "metadata": {},
   "outputs": [],
   "source": []
  },
  {
   "cell_type": "code",
   "execution_count": null,
   "id": "44552814-f84a-4983-905d-ecee95159977",
   "metadata": {},
   "outputs": [],
   "source": [
    "print(stats.ttest_1samp(df['weights'], 120, alternative='greater')) # 오른쪽검정 (평균이 120보다 '큰지' 검정)\n"
   ]
  },
  {
   "cell_type": "code",
   "execution_count": null,
   "id": "c256247b-6250-4824-b612-8bc48eb61884",
   "metadata": {},
   "outputs": [],
   "source": []
  },
  {
   "cell_type": "code",
   "execution_count": null,
   "id": "aede3737-4aaa-48eb-b3f8-bf4c80c57fdf",
   "metadata": {},
   "outputs": [],
   "source": [
    "print(stats.ttest_1samp(df['weights'], 120, alternative='less')) # 왼쪽검정 (평균이 120보다 '작은지' 검정)\n"
   ]
  }
 ],
 "metadata": {
  "kernelspec": {
   "display_name": "Python 3 (ipykernel)",
   "language": "python",
   "name": "python3"
  },
  "language_info": {
   "codemirror_mode": {
    "name": "ipython",
    "version": 3
   },
   "file_extension": ".py",
   "mimetype": "text/x-python",
   "name": "python",
   "nbconvert_exporter": "python",
   "pygments_lexer": "ipython3",
   "version": "3.11.6"
  }
 },
 "nbformat": 4,
 "nbformat_minor": 5
}
