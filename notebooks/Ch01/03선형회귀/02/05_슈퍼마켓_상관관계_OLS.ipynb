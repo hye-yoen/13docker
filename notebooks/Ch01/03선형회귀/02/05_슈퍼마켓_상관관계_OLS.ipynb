{
 "cells": [
  {
   "cell_type": "markdown",
   "id": "7bc3a0cf-9fbc-473d-9590-02d03cc14d32",
   "metadata": {},
   "source": [
    "## 문제 정의"
   ]
  },
  {
   "cell_type": "markdown",
   "id": "9bfbe1b0-1e82-4840-abdd-5f106518b859",
   "metadata": {},
   "source": [
    "주어진 제품 및 매장 특성들을(X값, 컬럼) 기반으로 판매금액(Item_Outlet_Sales)을 예측하기"
   ]
  },
  {
   "cell_type": "markdown",
   "id": "e6b3b5a9-4239-4a53-b7a4-467e1cd24fed",
   "metadata": {},
   "source": [
    "## 라이브러리 데이터 불러오기"
   ]
  },
  {
   "cell_type": "code",
   "execution_count": 1,
   "id": "9684a8c8-db59-4df7-8e57-18ea75578c98",
   "metadata": {},
   "outputs": [
    {
     "data": {
      "text/html": [
       "<div>\n",
       "<style scoped>\n",
       "    .dataframe tbody tr th:only-of-type {\n",
       "        vertical-align: middle;\n",
       "    }\n",
       "\n",
       "    .dataframe tbody tr th {\n",
       "        vertical-align: top;\n",
       "    }\n",
       "\n",
       "    .dataframe thead th {\n",
       "        text-align: right;\n",
       "    }\n",
       "</style>\n",
       "<table border=\"1\" class=\"dataframe\">\n",
       "  <thead>\n",
       "    <tr style=\"text-align: right;\">\n",
       "      <th></th>\n",
       "      <th>Item_Identifier</th>\n",
       "      <th>Item_Weight</th>\n",
       "      <th>Item_Fat_Content</th>\n",
       "      <th>Item_Visibility</th>\n",
       "      <th>Item_Type</th>\n",
       "      <th>Item_MRP</th>\n",
       "      <th>Outlet_Identifier</th>\n",
       "      <th>Outlet_Establishment_Year</th>\n",
       "      <th>Outlet_Size</th>\n",
       "      <th>Outlet_Location_Type</th>\n",
       "      <th>Outlet_Type</th>\n",
       "      <th>Item_Outlet_Sales</th>\n",
       "    </tr>\n",
       "  </thead>\n",
       "  <tbody>\n",
       "    <tr>\n",
       "      <th>0</th>\n",
       "      <td>NCR06</td>\n",
       "      <td>12.500</td>\n",
       "      <td>Low Fat</td>\n",
       "      <td>0.006760</td>\n",
       "      <td>Household</td>\n",
       "      <td>42.8112</td>\n",
       "      <td>OUT013</td>\n",
       "      <td>1987</td>\n",
       "      <td>High</td>\n",
       "      <td>Tier 3</td>\n",
       "      <td>Supermarket Type1</td>\n",
       "      <td>639.1680</td>\n",
       "    </tr>\n",
       "    <tr>\n",
       "      <th>1</th>\n",
       "      <td>FDW11</td>\n",
       "      <td>12.600</td>\n",
       "      <td>Low Fat</td>\n",
       "      <td>0.048741</td>\n",
       "      <td>Breads</td>\n",
       "      <td>60.4194</td>\n",
       "      <td>OUT013</td>\n",
       "      <td>1987</td>\n",
       "      <td>High</td>\n",
       "      <td>Tier 3</td>\n",
       "      <td>Supermarket Type1</td>\n",
       "      <td>990.7104</td>\n",
       "    </tr>\n",
       "    <tr>\n",
       "      <th>2</th>\n",
       "      <td>FDH32</td>\n",
       "      <td>12.800</td>\n",
       "      <td>Low Fat</td>\n",
       "      <td>0.075997</td>\n",
       "      <td>Fruits and Vegetables</td>\n",
       "      <td>97.1410</td>\n",
       "      <td>OUT013</td>\n",
       "      <td>1987</td>\n",
       "      <td>High</td>\n",
       "      <td>Tier 3</td>\n",
       "      <td>Supermarket Type1</td>\n",
       "      <td>2799.6890</td>\n",
       "    </tr>\n",
       "    <tr>\n",
       "      <th>3</th>\n",
       "      <td>FDL52</td>\n",
       "      <td>6.635</td>\n",
       "      <td>Regular</td>\n",
       "      <td>0.046351</td>\n",
       "      <td>Frozen Foods</td>\n",
       "      <td>37.4506</td>\n",
       "      <td>OUT017</td>\n",
       "      <td>2007</td>\n",
       "      <td>NaN</td>\n",
       "      <td>Tier 2</td>\n",
       "      <td>Supermarket Type1</td>\n",
       "      <td>1176.4686</td>\n",
       "    </tr>\n",
       "    <tr>\n",
       "      <th>4</th>\n",
       "      <td>FDO09</td>\n",
       "      <td>13.500</td>\n",
       "      <td>Regular</td>\n",
       "      <td>0.125170</td>\n",
       "      <td>Snack Foods</td>\n",
       "      <td>261.4910</td>\n",
       "      <td>OUT013</td>\n",
       "      <td>1987</td>\n",
       "      <td>High</td>\n",
       "      <td>Tier 3</td>\n",
       "      <td>Supermarket Type1</td>\n",
       "      <td>3418.8830</td>\n",
       "    </tr>\n",
       "    <tr>\n",
       "      <th>...</th>\n",
       "      <td>...</td>\n",
       "      <td>...</td>\n",
       "      <td>...</td>\n",
       "      <td>...</td>\n",
       "      <td>...</td>\n",
       "      <td>...</td>\n",
       "      <td>...</td>\n",
       "      <td>...</td>\n",
       "      <td>...</td>\n",
       "      <td>...</td>\n",
       "      <td>...</td>\n",
       "      <td>...</td>\n",
       "    </tr>\n",
       "    <tr>\n",
       "      <th>6813</th>\n",
       "      <td>NCC54</td>\n",
       "      <td>17.750</td>\n",
       "      <td>Low Fat</td>\n",
       "      <td>0.097863</td>\n",
       "      <td>Health and Hygiene</td>\n",
       "      <td>239.3196</td>\n",
       "      <td>OUT049</td>\n",
       "      <td>1999</td>\n",
       "      <td>Medium</td>\n",
       "      <td>Tier 1</td>\n",
       "      <td>Supermarket Type1</td>\n",
       "      <td>3615.2940</td>\n",
       "    </tr>\n",
       "    <tr>\n",
       "      <th>6814</th>\n",
       "      <td>NCF19</td>\n",
       "      <td>13.000</td>\n",
       "      <td>Low Fat</td>\n",
       "      <td>0.035252</td>\n",
       "      <td>Household</td>\n",
       "      <td>48.0034</td>\n",
       "      <td>OUT018</td>\n",
       "      <td>2009</td>\n",
       "      <td>Medium</td>\n",
       "      <td>Tier 3</td>\n",
       "      <td>Supermarket Type2</td>\n",
       "      <td>923.4646</td>\n",
       "    </tr>\n",
       "    <tr>\n",
       "      <th>6815</th>\n",
       "      <td>FDU11</td>\n",
       "      <td>4.785</td>\n",
       "      <td>Low Fat</td>\n",
       "      <td>0.092576</td>\n",
       "      <td>Breads</td>\n",
       "      <td>121.0098</td>\n",
       "      <td>OUT035</td>\n",
       "      <td>2004</td>\n",
       "      <td>Small</td>\n",
       "      <td>Tier 2</td>\n",
       "      <td>Supermarket Type1</td>\n",
       "      <td>2530.7058</td>\n",
       "    </tr>\n",
       "    <tr>\n",
       "      <th>6816</th>\n",
       "      <td>FDK14</td>\n",
       "      <td>6.980</td>\n",
       "      <td>Low Fat</td>\n",
       "      <td>0.041189</td>\n",
       "      <td>Canned</td>\n",
       "      <td>82.8934</td>\n",
       "      <td>OUT045</td>\n",
       "      <td>2002</td>\n",
       "      <td>NaN</td>\n",
       "      <td>Tier 2</td>\n",
       "      <td>Supermarket Type1</td>\n",
       "      <td>818.9340</td>\n",
       "    </tr>\n",
       "    <tr>\n",
       "      <th>6817</th>\n",
       "      <td>NCD31</td>\n",
       "      <td>NaN</td>\n",
       "      <td>Low Fat</td>\n",
       "      <td>0.015360</td>\n",
       "      <td>Household</td>\n",
       "      <td>163.7526</td>\n",
       "      <td>OUT027</td>\n",
       "      <td>1985</td>\n",
       "      <td>Medium</td>\n",
       "      <td>Tier 3</td>\n",
       "      <td>Supermarket Type3</td>\n",
       "      <td>1973.4312</td>\n",
       "    </tr>\n",
       "  </tbody>\n",
       "</table>\n",
       "<p>6818 rows × 12 columns</p>\n",
       "</div>"
      ],
      "text/plain": [
       "     Item_Identifier  Item_Weight Item_Fat_Content  Item_Visibility  \\\n",
       "0              NCR06       12.500          Low Fat         0.006760   \n",
       "1              FDW11       12.600          Low Fat         0.048741   \n",
       "2              FDH32       12.800          Low Fat         0.075997   \n",
       "3              FDL52        6.635          Regular         0.046351   \n",
       "4              FDO09       13.500          Regular         0.125170   \n",
       "...              ...          ...              ...              ...   \n",
       "6813           NCC54       17.750          Low Fat         0.097863   \n",
       "6814           NCF19       13.000          Low Fat         0.035252   \n",
       "6815           FDU11        4.785          Low Fat         0.092576   \n",
       "6816           FDK14        6.980          Low Fat         0.041189   \n",
       "6817           NCD31          NaN          Low Fat         0.015360   \n",
       "\n",
       "                  Item_Type  Item_MRP Outlet_Identifier  \\\n",
       "0                 Household   42.8112            OUT013   \n",
       "1                    Breads   60.4194            OUT013   \n",
       "2     Fruits and Vegetables   97.1410            OUT013   \n",
       "3              Frozen Foods   37.4506            OUT017   \n",
       "4               Snack Foods  261.4910            OUT013   \n",
       "...                     ...       ...               ...   \n",
       "6813     Health and Hygiene  239.3196            OUT049   \n",
       "6814              Household   48.0034            OUT018   \n",
       "6815                 Breads  121.0098            OUT035   \n",
       "6816                 Canned   82.8934            OUT045   \n",
       "6817              Household  163.7526            OUT027   \n",
       "\n",
       "      Outlet_Establishment_Year Outlet_Size Outlet_Location_Type  \\\n",
       "0                          1987        High               Tier 3   \n",
       "1                          1987        High               Tier 3   \n",
       "2                          1987        High               Tier 3   \n",
       "3                          2007         NaN               Tier 2   \n",
       "4                          1987        High               Tier 3   \n",
       "...                         ...         ...                  ...   \n",
       "6813                       1999      Medium               Tier 1   \n",
       "6814                       2009      Medium               Tier 3   \n",
       "6815                       2004       Small               Tier 2   \n",
       "6816                       2002         NaN               Tier 2   \n",
       "6817                       1985      Medium               Tier 3   \n",
       "\n",
       "            Outlet_Type  Item_Outlet_Sales  \n",
       "0     Supermarket Type1           639.1680  \n",
       "1     Supermarket Type1           990.7104  \n",
       "2     Supermarket Type1          2799.6890  \n",
       "3     Supermarket Type1          1176.4686  \n",
       "4     Supermarket Type1          3418.8830  \n",
       "...                 ...                ...  \n",
       "6813  Supermarket Type1          3615.2940  \n",
       "6814  Supermarket Type2           923.4646  \n",
       "6815  Supermarket Type1          2530.7058  \n",
       "6816  Supermarket Type1           818.9340  \n",
       "6817  Supermarket Type3          1973.4312  \n",
       "\n",
       "[6818 rows x 12 columns]"
      ]
     },
     "execution_count": 1,
     "metadata": {},
     "output_type": "execute_result"
    }
   ],
   "source": [
    "import pandas as pd\n",
    "train = pd.read_csv(\"train.csv\")\n",
    "test = pd.read_csv(\"test.csv\")\n",
    "# train = pd.read_csv(\"https://raw.githubusercontent.com/lovedlim/bigdata_analyst_cert/main/part2/ch4/train.csv\")\n",
    "# test = pd.read_csv(\"https://raw.githubusercontent.com/lovedlim/bigdata_analyst_cert/main/part2/ch4/test.csv\")\n",
    "train"
   ]
  },
  {
   "cell_type": "markdown",
   "id": "db7f49b4-62fd-4030-9d31-cc7051b11afa",
   "metadata": {
    "jp-MarkdownHeadingCollapsed": true
   },
   "source": [
    "## 탐색적 데이터 분석(EDA)"
   ]
  },
  {
   "cell_type": "code",
   "execution_count": 17,
   "id": "fc90b5cf-a723-4664-bcbd-0b025c77f9cc",
   "metadata": {},
   "outputs": [],
   "source": [
    "# train.head()\n",
    "# train.tail()\n",
    "# train.sample(5)"
   ]
  },
  {
   "cell_type": "code",
   "execution_count": 18,
   "id": "087ce7bb-9f2e-4f63-b838-bbc954580c5f",
   "metadata": {},
   "outputs": [
    {
     "data": {
      "text/plain": [
       "((6818, 12), (1705, 11))"
      ]
     },
     "execution_count": 18,
     "metadata": {},
     "output_type": "execute_result"
    }
   ],
   "source": [
    "train.shape , test.shape\n",
    "# 8:1 , 9:1 정도 비율이 좋음"
   ]
  },
  {
   "cell_type": "code",
   "execution_count": 19,
   "id": "46ab310c-9686-4999-969f-3f5b94fbdc71",
   "metadata": {},
   "outputs": [
    {
     "name": "stdout",
     "output_type": "stream",
     "text": [
      "<class 'pandas.core.frame.DataFrame'>\n",
      "RangeIndex: 6818 entries, 0 to 6817\n",
      "Data columns (total 12 columns):\n",
      " #   Column                     Non-Null Count  Dtype  \n",
      "---  ------                     --------------  -----  \n",
      " 0   Item_Identifier            6818 non-null   object \n",
      " 1   Item_Weight                5656 non-null   float64\n",
      " 2   Item_Fat_Content           6818 non-null   object \n",
      " 3   Item_Visibility            6818 non-null   float64\n",
      " 4   Item_Type                  6818 non-null   object \n",
      " 5   Item_MRP                   6818 non-null   float64\n",
      " 6   Outlet_Identifier          6818 non-null   object \n",
      " 7   Outlet_Establishment_Year  6818 non-null   int64  \n",
      " 8   Outlet_Size                4878 non-null   object \n",
      " 9   Outlet_Location_Type       6818 non-null   object \n",
      " 10  Outlet_Type                6818 non-null   object \n",
      " 11  Item_Outlet_Sales          6818 non-null   float64\n",
      "dtypes: float64(4), int64(1), object(7)\n",
      "memory usage: 639.3+ KB\n"
     ]
    }
   ],
   "source": [
    "train.info()"
   ]
  },
  {
   "cell_type": "code",
   "execution_count": 20,
   "id": "5a9d436c-1785-4b56-9d47-00c2c847e9c5",
   "metadata": {},
   "outputs": [
    {
     "name": "stdout",
     "output_type": "stream",
     "text": [
      "<class 'pandas.core.frame.DataFrame'>\n",
      "RangeIndex: 1705 entries, 0 to 1704\n",
      "Data columns (total 11 columns):\n",
      " #   Column                     Non-Null Count  Dtype  \n",
      "---  ------                     --------------  -----  \n",
      " 0   Item_Identifier            1705 non-null   object \n",
      " 1   Item_Weight                1404 non-null   float64\n",
      " 2   Item_Fat_Content           1705 non-null   object \n",
      " 3   Item_Visibility            1705 non-null   float64\n",
      " 4   Item_Type                  1705 non-null   object \n",
      " 5   Item_MRP                   1705 non-null   float64\n",
      " 6   Outlet_Identifier          1705 non-null   object \n",
      " 7   Outlet_Establishment_Year  1705 non-null   int64  \n",
      " 8   Outlet_Size                1235 non-null   object \n",
      " 9   Outlet_Location_Type       1705 non-null   object \n",
      " 10  Outlet_Type                1705 non-null   object \n",
      "dtypes: float64(3), int64(1), object(7)\n",
      "memory usage: 146.7+ KB\n"
     ]
    }
   ],
   "source": [
    "test.info()"
   ]
  },
  {
   "cell_type": "code",
   "execution_count": 21,
   "id": "11ea883c-b5cc-4828-bb7a-e6f6bb8d8b58",
   "metadata": {},
   "outputs": [
    {
     "data": {
      "text/html": [
       "<div>\n",
       "<style scoped>\n",
       "    .dataframe tbody tr th:only-of-type {\n",
       "        vertical-align: middle;\n",
       "    }\n",
       "\n",
       "    .dataframe tbody tr th {\n",
       "        vertical-align: top;\n",
       "    }\n",
       "\n",
       "    .dataframe thead th {\n",
       "        text-align: right;\n",
       "    }\n",
       "</style>\n",
       "<table border=\"1\" class=\"dataframe\">\n",
       "  <thead>\n",
       "    <tr style=\"text-align: right;\">\n",
       "      <th></th>\n",
       "      <th>Item_Weight</th>\n",
       "      <th>Item_Visibility</th>\n",
       "      <th>Item_MRP</th>\n",
       "      <th>Outlet_Establishment_Year</th>\n",
       "      <th>Item_Outlet_Sales</th>\n",
       "    </tr>\n",
       "  </thead>\n",
       "  <tbody>\n",
       "    <tr>\n",
       "      <th>count</th>\n",
       "      <td>5656.000000</td>\n",
       "      <td>6818.000000</td>\n",
       "      <td>6818.000000</td>\n",
       "      <td>6818.000000</td>\n",
       "      <td>6818.000000</td>\n",
       "    </tr>\n",
       "    <tr>\n",
       "      <th>mean</th>\n",
       "      <td>12.872703</td>\n",
       "      <td>0.066121</td>\n",
       "      <td>140.419533</td>\n",
       "      <td>1997.885890</td>\n",
       "      <td>2190.941459</td>\n",
       "    </tr>\n",
       "    <tr>\n",
       "      <th>std</th>\n",
       "      <td>4.651034</td>\n",
       "      <td>0.051383</td>\n",
       "      <td>62.067861</td>\n",
       "      <td>8.339795</td>\n",
       "      <td>1706.131256</td>\n",
       "    </tr>\n",
       "    <tr>\n",
       "      <th>min</th>\n",
       "      <td>4.555000</td>\n",
       "      <td>0.000000</td>\n",
       "      <td>31.290000</td>\n",
       "      <td>1985.000000</td>\n",
       "      <td>33.290000</td>\n",
       "    </tr>\n",
       "    <tr>\n",
       "      <th>25%</th>\n",
       "      <td>8.785000</td>\n",
       "      <td>0.026914</td>\n",
       "      <td>93.610050</td>\n",
       "      <td>1987.000000</td>\n",
       "      <td>836.577700</td>\n",
       "    </tr>\n",
       "    <tr>\n",
       "      <th>50%</th>\n",
       "      <td>12.600000</td>\n",
       "      <td>0.053799</td>\n",
       "      <td>142.448300</td>\n",
       "      <td>1999.000000</td>\n",
       "      <td>1806.648300</td>\n",
       "    </tr>\n",
       "    <tr>\n",
       "      <th>75%</th>\n",
       "      <td>17.000000</td>\n",
       "      <td>0.095273</td>\n",
       "      <td>185.060150</td>\n",
       "      <td>2004.000000</td>\n",
       "      <td>3115.944000</td>\n",
       "    </tr>\n",
       "    <tr>\n",
       "      <th>max</th>\n",
       "      <td>21.350000</td>\n",
       "      <td>0.328391</td>\n",
       "      <td>266.888400</td>\n",
       "      <td>2009.000000</td>\n",
       "      <td>13086.964800</td>\n",
       "    </tr>\n",
       "  </tbody>\n",
       "</table>\n",
       "</div>"
      ],
      "text/plain": [
       "       Item_Weight  Item_Visibility     Item_MRP  Outlet_Establishment_Year  \\\n",
       "count  5656.000000      6818.000000  6818.000000                6818.000000   \n",
       "mean     12.872703         0.066121   140.419533                1997.885890   \n",
       "std       4.651034         0.051383    62.067861                   8.339795   \n",
       "min       4.555000         0.000000    31.290000                1985.000000   \n",
       "25%       8.785000         0.026914    93.610050                1987.000000   \n",
       "50%      12.600000         0.053799   142.448300                1999.000000   \n",
       "75%      17.000000         0.095273   185.060150                2004.000000   \n",
       "max      21.350000         0.328391   266.888400                2009.000000   \n",
       "\n",
       "       Item_Outlet_Sales  \n",
       "count        6818.000000  \n",
       "mean         2190.941459  \n",
       "std          1706.131256  \n",
       "min            33.290000  \n",
       "25%           836.577700  \n",
       "50%          1806.648300  \n",
       "75%          3115.944000  \n",
       "max         13086.964800  "
      ]
     },
     "execution_count": 21,
     "metadata": {},
     "output_type": "execute_result"
    }
   ],
   "source": [
    "train.describe()"
   ]
  },
  {
   "cell_type": "code",
   "execution_count": 22,
   "id": "98b815ec-da32-4627-817d-386cfcd94e0a",
   "metadata": {},
   "outputs": [
    {
     "data": {
      "text/html": [
       "<div>\n",
       "<style scoped>\n",
       "    .dataframe tbody tr th:only-of-type {\n",
       "        vertical-align: middle;\n",
       "    }\n",
       "\n",
       "    .dataframe tbody tr th {\n",
       "        vertical-align: top;\n",
       "    }\n",
       "\n",
       "    .dataframe thead th {\n",
       "        text-align: right;\n",
       "    }\n",
       "</style>\n",
       "<table border=\"1\" class=\"dataframe\">\n",
       "  <thead>\n",
       "    <tr style=\"text-align: right;\">\n",
       "      <th></th>\n",
       "      <th>Item_Weight</th>\n",
       "      <th>Item_Visibility</th>\n",
       "      <th>Item_MRP</th>\n",
       "      <th>Outlet_Establishment_Year</th>\n",
       "    </tr>\n",
       "  </thead>\n",
       "  <tbody>\n",
       "    <tr>\n",
       "      <th>count</th>\n",
       "      <td>1404.000000</td>\n",
       "      <td>1705.000000</td>\n",
       "      <td>1705.000000</td>\n",
       "      <td>1705.000000</td>\n",
       "    </tr>\n",
       "    <tr>\n",
       "      <th>mean</th>\n",
       "      <td>12.796984</td>\n",
       "      <td>0.066174</td>\n",
       "      <td>143.285107</td>\n",
       "      <td>1997.615836</td>\n",
       "    </tr>\n",
       "    <tr>\n",
       "      <th>std</th>\n",
       "      <td>4.613957</td>\n",
       "      <td>0.052465</td>\n",
       "      <td>63.063146</td>\n",
       "      <td>8.497423</td>\n",
       "    </tr>\n",
       "    <tr>\n",
       "      <th>min</th>\n",
       "      <td>4.555000</td>\n",
       "      <td>0.000000</td>\n",
       "      <td>31.955800</td>\n",
       "      <td>1985.000000</td>\n",
       "    </tr>\n",
       "    <tr>\n",
       "      <th>25%</th>\n",
       "      <td>8.710000</td>\n",
       "      <td>0.027571</td>\n",
       "      <td>94.743600</td>\n",
       "      <td>1987.000000</td>\n",
       "    </tr>\n",
       "    <tr>\n",
       "      <th>50%</th>\n",
       "      <td>12.600000</td>\n",
       "      <td>0.054234</td>\n",
       "      <td>144.512800</td>\n",
       "      <td>1999.000000</td>\n",
       "    </tr>\n",
       "    <tr>\n",
       "      <th>75%</th>\n",
       "      <td>16.700000</td>\n",
       "      <td>0.092927</td>\n",
       "      <td>187.755600</td>\n",
       "      <td>2004.000000</td>\n",
       "    </tr>\n",
       "    <tr>\n",
       "      <th>max</th>\n",
       "      <td>21.350000</td>\n",
       "      <td>0.311090</td>\n",
       "      <td>266.888400</td>\n",
       "      <td>2009.000000</td>\n",
       "    </tr>\n",
       "  </tbody>\n",
       "</table>\n",
       "</div>"
      ],
      "text/plain": [
       "       Item_Weight  Item_Visibility     Item_MRP  Outlet_Establishment_Year\n",
       "count  1404.000000      1705.000000  1705.000000                1705.000000\n",
       "mean     12.796984         0.066174   143.285107                1997.615836\n",
       "std       4.613957         0.052465    63.063146                   8.497423\n",
       "min       4.555000         0.000000    31.955800                1985.000000\n",
       "25%       8.710000         0.027571    94.743600                1987.000000\n",
       "50%      12.600000         0.054234   144.512800                1999.000000\n",
       "75%      16.700000         0.092927   187.755600                2004.000000\n",
       "max      21.350000         0.311090   266.888400                2009.000000"
      ]
     },
     "execution_count": 22,
     "metadata": {},
     "output_type": "execute_result"
    }
   ],
   "source": [
    "test.describe()"
   ]
  },
  {
   "cell_type": "code",
   "execution_count": null,
   "id": "f4f1333f-fe98-4f43-a5a3-64c40c5b0477",
   "metadata": {},
   "outputs": [],
   "source": [
    "# 결측치 존재 확인 , 50% or mean(평균값)으로 채우기"
   ]
  },
  {
   "cell_type": "code",
   "execution_count": 23,
   "id": "a8dbbec5-2c4b-4eaa-8a41-edf86603edac",
   "metadata": {},
   "outputs": [
    {
     "data": {
      "text/html": [
       "<div>\n",
       "<style scoped>\n",
       "    .dataframe tbody tr th:only-of-type {\n",
       "        vertical-align: middle;\n",
       "    }\n",
       "\n",
       "    .dataframe tbody tr th {\n",
       "        vertical-align: top;\n",
       "    }\n",
       "\n",
       "    .dataframe thead th {\n",
       "        text-align: right;\n",
       "    }\n",
       "</style>\n",
       "<table border=\"1\" class=\"dataframe\">\n",
       "  <thead>\n",
       "    <tr style=\"text-align: right;\">\n",
       "      <th></th>\n",
       "      <th>Item_Identifier</th>\n",
       "      <th>Item_Fat_Content</th>\n",
       "      <th>Item_Type</th>\n",
       "      <th>Outlet_Identifier</th>\n",
       "      <th>Outlet_Size</th>\n",
       "      <th>Outlet_Location_Type</th>\n",
       "      <th>Outlet_Type</th>\n",
       "    </tr>\n",
       "  </thead>\n",
       "  <tbody>\n",
       "    <tr>\n",
       "      <th>count</th>\n",
       "      <td>6818</td>\n",
       "      <td>6818</td>\n",
       "      <td>6818</td>\n",
       "      <td>6818</td>\n",
       "      <td>4878</td>\n",
       "      <td>6818</td>\n",
       "      <td>6818</td>\n",
       "    </tr>\n",
       "    <tr>\n",
       "      <th>unique</th>\n",
       "      <td>1554</td>\n",
       "      <td>5</td>\n",
       "      <td>16</td>\n",
       "      <td>10</td>\n",
       "      <td>3</td>\n",
       "      <td>3</td>\n",
       "      <td>4</td>\n",
       "    </tr>\n",
       "    <tr>\n",
       "      <th>top</th>\n",
       "      <td>FDW26</td>\n",
       "      <td>Low Fat</td>\n",
       "      <td>Snack Foods</td>\n",
       "      <td>OUT046</td>\n",
       "      <td>Medium</td>\n",
       "      <td>Tier 3</td>\n",
       "      <td>Supermarket Type1</td>\n",
       "    </tr>\n",
       "    <tr>\n",
       "      <th>freq</th>\n",
       "      <td>9</td>\n",
       "      <td>4092</td>\n",
       "      <td>963</td>\n",
       "      <td>763</td>\n",
       "      <td>2228</td>\n",
       "      <td>2664</td>\n",
       "      <td>4474</td>\n",
       "    </tr>\n",
       "  </tbody>\n",
       "</table>\n",
       "</div>"
      ],
      "text/plain": [
       "       Item_Identifier Item_Fat_Content    Item_Type Outlet_Identifier  \\\n",
       "count             6818             6818         6818              6818   \n",
       "unique            1554                5           16                10   \n",
       "top              FDW26          Low Fat  Snack Foods            OUT046   \n",
       "freq                 9             4092          963               763   \n",
       "\n",
       "       Outlet_Size Outlet_Location_Type        Outlet_Type  \n",
       "count         4878                 6818               6818  \n",
       "unique           3                    3                  4  \n",
       "top         Medium               Tier 3  Supermarket Type1  \n",
       "freq          2228                 2664               4474  "
      ]
     },
     "execution_count": 23,
     "metadata": {},
     "output_type": "execute_result"
    }
   ],
   "source": [
    "# 최빈값 확인 \n",
    "train.describe(include='O')"
   ]
  },
  {
   "cell_type": "code",
   "execution_count": 26,
   "id": "97cced19-b79c-4a1c-b128-ac51fdf3414f",
   "metadata": {},
   "outputs": [
    {
     "data": {
      "text/plain": [
       "Item_Identifier                 0\n",
       "Item_Weight                  1162\n",
       "Item_Fat_Content                0\n",
       "Item_Visibility                 0\n",
       "Item_Type                       0\n",
       "Item_MRP                        0\n",
       "Outlet_Identifier               0\n",
       "Outlet_Establishment_Year       0\n",
       "Outlet_Size                  1940\n",
       "Outlet_Location_Type            0\n",
       "Outlet_Type                     0\n",
       "Item_Outlet_Sales               0\n",
       "dtype: int64"
      ]
     },
     "execution_count": 26,
     "metadata": {},
     "output_type": "execute_result"
    }
   ],
   "source": [
    "train.isnull().sum()"
   ]
  },
  {
   "cell_type": "code",
   "execution_count": 27,
   "id": "a8bf9db2-e948-4d0e-99a4-b145ef242289",
   "metadata": {},
   "outputs": [
    {
     "data": {
      "text/plain": [
       "Item_Identifier                0\n",
       "Item_Weight                  301\n",
       "Item_Fat_Content               0\n",
       "Item_Visibility                0\n",
       "Item_Type                      0\n",
       "Item_MRP                       0\n",
       "Outlet_Identifier              0\n",
       "Outlet_Establishment_Year      0\n",
       "Outlet_Size                  470\n",
       "Outlet_Location_Type           0\n",
       "Outlet_Type                    0\n",
       "dtype: int64"
      ]
     },
     "execution_count": 27,
     "metadata": {},
     "output_type": "execute_result"
    }
   ],
   "source": [
    "test.isnull().sum()"
   ]
  },
  {
   "cell_type": "code",
   "execution_count": 29,
   "id": "0a13b73d-90e0-4368-aa6c-fdd147de2fee",
   "metadata": {},
   "outputs": [
    {
     "data": {
      "text/plain": [
       "771"
      ]
     },
     "execution_count": 29,
     "metadata": {},
     "output_type": "execute_result"
    }
   ],
   "source": [
    "train.isnull().sum().sum()\n",
    "test.isnull().sum().sum()"
   ]
  },
  {
   "cell_type": "markdown",
   "id": "20aaff2c-ff46-403b-aac3-55d744a47b7a",
   "metadata": {},
   "source": [
    "## 데이터 전처리"
   ]
  },
  {
   "cell_type": "code",
   "execution_count": 2,
   "id": "6cdf0e83-bb4e-4ed0-8989-a7d7943596bd",
   "metadata": {},
   "outputs": [
    {
     "name": "stdout",
     "output_type": "stream",
     "text": [
      "<class 'pandas.core.frame.DataFrame'>\n",
      "RangeIndex: 1705 entries, 0 to 1704\n",
      "Data columns (total 11 columns):\n",
      " #   Column                     Non-Null Count  Dtype  \n",
      "---  ------                     --------------  -----  \n",
      " 0   Item_Identifier            1705 non-null   object \n",
      " 1   Item_Weight                1705 non-null   float64\n",
      " 2   Item_Fat_Content           1705 non-null   object \n",
      " 3   Item_Visibility            1705 non-null   float64\n",
      " 4   Item_Type                  1705 non-null   object \n",
      " 5   Item_MRP                   1705 non-null   float64\n",
      " 6   Outlet_Identifier          1705 non-null   object \n",
      " 7   Outlet_Establishment_Year  1705 non-null   int64  \n",
      " 8   Outlet_Size                1705 non-null   object \n",
      " 9   Outlet_Location_Type       1705 non-null   object \n",
      " 10  Outlet_Type                1705 non-null   object \n",
      "dtypes: float64(3), int64(1), object(7)\n",
      "memory usage: 146.7+ KB\n"
     ]
    }
   ],
   "source": [
    "# 결측값 채우기(무게 : 최소값, 사이즈 : 최빈값)\n",
    "train['Item_Weight'] = train['Item_Weight'].fillna(train['Item_Weight'].min())\n",
    "train['Outlet_Size'] = train['Outlet_Size'].fillna(train['Outlet_Size'].mode()[0])\n",
    "# train.describe(include='O')\n",
    "test['Item_Weight'] = test['Item_Weight'].fillna(test['Item_Weight'].min())\n",
    "test['Outlet_Size'] = test['Outlet_Size'].fillna(test['Outlet_Size'].mode()[0])\n",
    "test.info()"
   ]
  },
  {
   "cell_type": "code",
   "execution_count": null,
   "id": "5e65237b-97f5-4a54-b514-64396260c3f2",
   "metadata": {},
   "outputs": [],
   "source": [
    "# id칼럼제거"
   ]
  },
  {
   "cell_type": "code",
   "execution_count": 3,
   "id": "20f521b1-b23f-4c93-87e1-6eed757bff51",
   "metadata": {},
   "outputs": [],
   "source": [
    "#컬럼제거\n",
    "train.drop('Item_Identifier',axis=1,inplace=True)\n",
    "test.drop('Item_Identifier',axis=1,inplace=True)"
   ]
  },
  {
   "cell_type": "markdown",
   "id": "b21ff4fc-6baa-4d73-ab27-c788b8831827",
   "metadata": {},
   "source": [
    "### 스케일링?"
   ]
  },
  {
   "cell_type": "code",
   "execution_count": 11,
   "id": "b42b5aa7-1aa0-43eb-bc69-d884f73f53db",
   "metadata": {},
   "outputs": [
    {
     "name": "stdout",
     "output_type": "stream",
     "text": [
      "                            OLS Regression Results                            \n",
      "==============================================================================\n",
      "Dep. Variable:      Item_Outlet_Sales   R-squared:                       0.564\n",
      "Model:                            OLS   Adj. R-squared:                  0.564\n",
      "Method:                 Least Squares   F-statistic:                     882.2\n",
      "Date:                Mon, 13 Oct 2025   Prob (F-statistic):               0.00\n",
      "Time:                        02:11:26   Log-Likelihood:                -6840.8\n",
      "No. Observations:                6818   AIC:                         1.370e+04\n",
      "Df Residuals:                    6807   BIC:                         1.378e+04\n",
      "Df Model:                          10                                         \n",
      "Covariance Type:            nonrobust                                         \n",
      "====================================================================================================\n",
      "                                       coef    std err          t      P>|t|      [0.025      0.975]\n",
      "----------------------------------------------------------------------------------------------------\n",
      "Intercept                           -1.1245      0.090    -12.466      0.000      -1.301      -0.948\n",
      "Outlet_Size[T.Medium]                0.0361      0.057      0.628      0.530      -0.077       0.149\n",
      "Outlet_Size[T.Small]                 0.0556      0.065      0.848      0.396      -0.073       0.184\n",
      "Outlet_Location_Type[T.Tier 2]       0.0138      0.022      0.619      0.536      -0.030       0.058\n",
      "Outlet_Location_Type[T.Tier 3]       0.0062      0.053      0.117      0.907      -0.097       0.110\n",
      "Outlet_Type[T.Supermarket Type1]     1.1533      0.042     27.265      0.000       1.070       1.236\n",
      "Outlet_Type[T.Supermarket Type2]     0.9483      0.040     23.614      0.000       0.870       1.027\n",
      "Outlet_Type[T.Supermarket Type3]     1.9896      0.043     46.341      0.000       1.905       2.074\n",
      "Item_Weight                          0.0040      0.010      0.405      0.685      -0.015       0.024\n",
      "Item_Visibility                     -0.0072      0.008     -0.866      0.386      -0.024       0.009\n",
      "Item_MRP                             0.5676      0.008     70.943      0.000       0.552       0.583\n",
      "==============================================================================\n",
      "Omnibus:                      779.202   Durbin-Watson:                   1.997\n",
      "Prob(Omnibus):                  0.000   Jarque-Bera (JB):             1916.165\n",
      "Skew:                           0.665   Prob(JB):                         0.00\n",
      "Kurtosis:                       5.231   Cond. No.                         25.9\n",
      "==============================================================================\n",
      "\n",
      "Notes:\n",
      "[1] Standard Errors assume that the covariance matrix of the errors is correctly specified.\n"
     ]
    }
   ],
   "source": [
    "#----------------------------------------------\n",
    "# ★ OLS - 선형회귀에서만 사용할 것(분류는 x)\n",
    "#----------------------------------------------\n",
    "from statsmodels.formula.api import ols \n",
    "\n",
    "# 항목컬럼명 저장\n",
    "y_col = 'Item_Outlet_Sales'\n",
    "\n",
    "# y를 뺀 x값 후보들(수치형,범주형 다 포함됨)\n",
    "X_cols = [c for c in train.columns if c != y_col]\n",
    "X_cols\n",
    "\n",
    "# formula 생성\n",
    "formula = f\"{y_col} ~ \" + \" + \".join(X_cols) # ols안에 들어갈 문자열 패턴\n",
    "formula\n",
    "\n",
    "# OLS모델 적용\n",
    "model = ols(formula,data=train).fit()\n",
    "\n",
    "# 확인\n",
    "print(model.summary())"
   ]
  },
  {
   "cell_type": "code",
   "execution_count": 5,
   "id": "aad86d57-e900-4234-9e93-144b11f6304b",
   "metadata": {},
   "outputs": [],
   "source": [
    "#----------------------------------------------\n",
    "# [★] OLS - Pvalue 값 높은값(0.05이상) 만 제거 (이상이면 y값과 상관관계가 낮음)\n",
    "#----------------------------------------------\n",
    "list = model.pvalues[model.pvalues > 0.05]\n",
    "list\n",
    "\n",
    "# 컬럼삭제\n",
    "train = train.drop('Item_Fat_Content',axis=1)\n",
    "train = train.drop('Item_Type',axis=1)\n",
    "train = train.drop('Outlet_Identifier',axis=1)\n",
    "\n",
    "test = test.drop('Item_Fat_Content',axis=1)\n",
    "test = test.drop('Item_Type',axis=1)\n",
    "t = test.drop('Outlet_Identifier',axis=1)"
   ]
  },
  {
   "cell_type": "code",
   "execution_count": 7,
   "id": "745fa22d-a33c-4499-ab22-0bd68336e939",
   "metadata": {},
   "outputs": [
    {
     "data": {
      "text/html": [
       "<div>\n",
       "<style scoped>\n",
       "    .dataframe tbody tr th:only-of-type {\n",
       "        vertical-align: middle;\n",
       "    }\n",
       "\n",
       "    .dataframe tbody tr th {\n",
       "        vertical-align: top;\n",
       "    }\n",
       "\n",
       "    .dataframe thead th {\n",
       "        text-align: right;\n",
       "    }\n",
       "</style>\n",
       "<table border=\"1\" class=\"dataframe\">\n",
       "  <thead>\n",
       "    <tr style=\"text-align: right;\">\n",
       "      <th></th>\n",
       "      <th>Feature</th>\n",
       "      <th>VIF</th>\n",
       "    </tr>\n",
       "  </thead>\n",
       "  <tbody>\n",
       "    <tr>\n",
       "      <th>0</th>\n",
       "      <td>Item_Weight</td>\n",
       "      <td>5.802119</td>\n",
       "    </tr>\n",
       "    <tr>\n",
       "      <th>1</th>\n",
       "      <td>Item_Visibility</td>\n",
       "      <td>2.665509</td>\n",
       "    </tr>\n",
       "    <tr>\n",
       "      <th>2</th>\n",
       "      <td>Item_MRP</td>\n",
       "      <td>6.121111</td>\n",
       "    </tr>\n",
       "    <tr>\n",
       "      <th>3</th>\n",
       "      <td>Outlet_Establishment_Year</td>\n",
       "      <td>12.748339</td>\n",
       "    </tr>\n",
       "  </tbody>\n",
       "</table>\n",
       "</div>"
      ],
      "text/plain": [
       "                     Feature        VIF\n",
       "0                Item_Weight   5.802119\n",
       "1            Item_Visibility   2.665509\n",
       "2                   Item_MRP   6.121111\n",
       "3  Outlet_Establishment_Year  12.748339"
      ]
     },
     "execution_count": 7,
     "metadata": {},
     "output_type": "execute_result"
    }
   ],
   "source": [
    "#----------------------------------------------\n",
    "# OLS 다중공선성 의심(다중공선성 : 설명 변수들(독립변수,X1,X2..) 사이에 서로 강한 상관관계존재) \n",
    "#----------------------------------------------\n",
    "# Cond. No.                     2.42e+17 \n",
    "\n",
    "# 발생 원인\n",
    "# 범주형 변수 간(X1,X2)의 중복된 의미가 있을 때 -> 범주형 - 수치형 검정(카이제곱)\n",
    "# 연속된 수치값(ex 날짜정보) 가 포함되어있을때 -> 컬럼 삭제\n",
    "# 수치형 변수들간(X1,X2)의 변수 범위 차이가 클때 -> 스케일링\n",
    "\n",
    "\n",
    "# Cond. No.\n",
    "# >30 문제없음\n",
    "# 30~100 약한 다중공선성 가능성\n",
    "# 100 ~ 1,000 다중공선성 의심\n",
    "# > 1,000  심각한 다중공선성\n",
    "# > 10*(100,000) 수치적으로 매우불안정 ~ 경고수준\n",
    "\n",
    "\n",
    "\n",
    "# 다중곤선성 원인 변수(VIF) - 다중공선성의 정도를 추시로 측정한 지표\n",
    "from statsmodels.stats.outliers_influence import variance_inflation_factor\n",
    "import pandas as pd\n",
    "\n",
    "X_cols = [c for c in train.columns if c != y_col]\n",
    "\n",
    "X = train[X_cols].select_dtypes(include=['float','int'])\n",
    "vif = pd.DataFrame()\n",
    "vif[\"Feature\"] = X.columns\n",
    "vif\n",
    "X.shape[1]\n",
    "vif[\"VIF\"] = [variance_inflation_factor(X.values,i)for i in range(X.shape[1])]\n",
    "vif\n",
    "\n",
    "# VIF > 10 → 다중공선성 심함\n",
    "# VIF > 5 → 주의 필요\n",
    "# → Outlet_Establishment_Year\n",
    "\n",
    "# 해결책\n",
    "# 수치형 변수 스케일링 - StandardScaler 또는 MinMaxScaler\n",
    "# 다중공선성 높은 변수 제거  -  VIF 10 이상인 변수 제거\n",
    "# Ridge/Lasso 회귀로 대체  - 정규화로 공선성 완화"
   ]
  },
  {
   "cell_type": "code",
   "execution_count": 8,
   "id": "664d0c8c-5bb0-4681-9427-47ba7573736a",
   "metadata": {},
   "outputs": [],
   "source": [
    "#----------------------------------------------\n",
    "# [★] vif > 10 컬럼삭제\n",
    "#----------------------------------------------\n",
    "train = train.drop('Outlet_Establishment_Year',axis=1)\n",
    "\n",
    "test = test.drop('Outlet_Establishment_Year',axis=1)"
   ]
  },
  {
   "cell_type": "code",
   "execution_count": 10,
   "id": "59152c09-19eb-498d-8de8-11dace482ae5",
   "metadata": {},
   "outputs": [
    {
     "name": "stdout",
     "output_type": "stream",
     "text": [
      "스케일링 완료된 수치형 컬럼들: \n",
      "['Item_Weight', 'Item_Visibility', 'Item_MRP', 'Item_Outlet_Sales']\n",
      "   Item_Weight  Item_Visibility  Item_MRP Outlet_Size Outlet_Location_Type  \\\n",
      "0     0.198448        -1.155377 -1.572722        High               Tier 3   \n",
      "1     0.217440        -0.338271 -1.289008        High               Tier 3   \n",
      "2     0.255424         0.192206 -0.697329        High               Tier 3   \n",
      "3    -0.915442        -0.384799 -1.659095      Medium               Tier 2   \n",
      "4     0.388369         1.149287  1.950774        High               Tier 3   \n",
      "\n",
      "         Outlet_Type  Item_Outlet_Sales  \n",
      "0  Supermarket Type1          -0.909594  \n",
      "1  Supermarket Type1          -0.703533  \n",
      "2  Supermarket Type1           0.356826  \n",
      "3  Supermarket Type1          -0.594648  \n",
      "4  Supermarket Type1           0.719776  \n"
     ]
    }
   ],
   "source": [
    "# ---------------------------------------------------------\n",
    "# [★] OLS 수치형 변수 스케일링  (StandardScaler : -1 ~ 1 )\n",
    "# ---------------------------------------------------------\n",
    "\n",
    "from sklearn.preprocessing import StandardScaler\n",
    "\n",
    "# 1. 수치형 컬럼 자동 선택 (object 제외)\n",
    "num_cols = train.select_dtypes(exclude=['object']).columns\n",
    "\n",
    "# 2. 스케일러 선언\n",
    "scaler = StandardScaler()\n",
    "\n",
    "# 3. 수치형 컬럼만 스케일링\n",
    "train[num_cols] = scaler.fit_transform(train[num_cols])\n",
    "\n",
    "# 4. 결과확인\n",
    "print(\"스케일링 완료된 수치형 컬럼들: \")\n",
    "print(num_cols.tolist())\n",
    "print(train.head())"
   ]
  },
  {
   "cell_type": "markdown",
   "id": "b744e5df-509c-49aa-b7e4-c72c65c08f55",
   "metadata": {},
   "source": [
    "## y값 분할 + 레이블 인코딩"
   ]
  },
  {
   "cell_type": "code",
   "execution_count": null,
   "id": "28fb0816-ce74-416a-8ffe-5149fe04fb2f",
   "metadata": {},
   "outputs": [],
   "source": [
    "# 이상치 생략"
   ]
  },
  {
   "cell_type": "code",
   "execution_count": 8,
   "id": "9ddf7578-ca91-4dd0-b2a6-3bae5f405186",
   "metadata": {},
   "outputs": [
    {
     "data": {
      "text/plain": [
       "0        639.1680\n",
       "1        990.7104\n",
       "2       2799.6890\n",
       "3       1176.4686\n",
       "4       3418.8830\n",
       "          ...    \n",
       "6813    3615.2940\n",
       "6814     923.4646\n",
       "6815    2530.7058\n",
       "6816     818.9340\n",
       "6817    1973.4312\n",
       "Name: Item_Outlet_Sales, Length: 6818, dtype: float64"
      ]
     },
     "execution_count": 8,
     "metadata": {},
     "output_type": "execute_result"
    }
   ],
   "source": [
    "# y값 분할\n",
    "target = train.pop('Item_Outlet_Sales')\n",
    "target"
   ]
  },
  {
   "cell_type": "code",
   "execution_count": null,
   "id": "ea933e67-9698-4b13-8896-26e8119df5e4",
   "metadata": {},
   "outputs": [],
   "source": [
    "# 레이블 인코딩"
   ]
  },
  {
   "cell_type": "code",
   "execution_count": 9,
   "id": "8206ee04-b8d8-4725-b476-a2aac77b48c7",
   "metadata": {},
   "outputs": [
    {
     "data": {
      "text/html": [
       "<div>\n",
       "<style scoped>\n",
       "    .dataframe tbody tr th:only-of-type {\n",
       "        vertical-align: middle;\n",
       "    }\n",
       "\n",
       "    .dataframe tbody tr th {\n",
       "        vertical-align: top;\n",
       "    }\n",
       "\n",
       "    .dataframe thead th {\n",
       "        text-align: right;\n",
       "    }\n",
       "</style>\n",
       "<table border=\"1\" class=\"dataframe\">\n",
       "  <thead>\n",
       "    <tr style=\"text-align: right;\">\n",
       "      <th></th>\n",
       "      <th>Item_Weight</th>\n",
       "      <th>Item_Visibility</th>\n",
       "      <th>Item_MRP</th>\n",
       "      <th>Outlet_Identifier</th>\n",
       "      <th>Outlet_Size</th>\n",
       "      <th>Outlet_Location_Type</th>\n",
       "      <th>Outlet_Type</th>\n",
       "    </tr>\n",
       "  </thead>\n",
       "  <tbody>\n",
       "    <tr>\n",
       "      <th>0</th>\n",
       "      <td>17.250</td>\n",
       "      <td>0.073251</td>\n",
       "      <td>76.4986</td>\n",
       "      <td>2</td>\n",
       "      <td>1</td>\n",
       "      <td>1</td>\n",
       "      <td>1</td>\n",
       "    </tr>\n",
       "    <tr>\n",
       "      <th>1</th>\n",
       "      <td>6.360</td>\n",
       "      <td>0.120544</td>\n",
       "      <td>45.8060</td>\n",
       "      <td>8</td>\n",
       "      <td>2</td>\n",
       "      <td>0</td>\n",
       "      <td>1</td>\n",
       "    </tr>\n",
       "    <tr>\n",
       "      <th>2</th>\n",
       "      <td>10.695</td>\n",
       "      <td>0.128247</td>\n",
       "      <td>121.8440</td>\n",
       "      <td>3</td>\n",
       "      <td>1</td>\n",
       "      <td>2</td>\n",
       "      <td>2</td>\n",
       "    </tr>\n",
       "    <tr>\n",
       "      <th>3</th>\n",
       "      <td>7.405</td>\n",
       "      <td>0.015296</td>\n",
       "      <td>89.7146</td>\n",
       "      <td>9</td>\n",
       "      <td>1</td>\n",
       "      <td>0</td>\n",
       "      <td>1</td>\n",
       "    </tr>\n",
       "    <tr>\n",
       "      <th>4</th>\n",
       "      <td>10.500</td>\n",
       "      <td>0.142760</td>\n",
       "      <td>159.3578</td>\n",
       "      <td>9</td>\n",
       "      <td>1</td>\n",
       "      <td>0</td>\n",
       "      <td>1</td>\n",
       "    </tr>\n",
       "    <tr>\n",
       "      <th>...</th>\n",
       "      <td>...</td>\n",
       "      <td>...</td>\n",
       "      <td>...</td>\n",
       "      <td>...</td>\n",
       "      <td>...</td>\n",
       "      <td>...</td>\n",
       "      <td>...</td>\n",
       "    </tr>\n",
       "    <tr>\n",
       "      <th>1700</th>\n",
       "      <td>4.555</td>\n",
       "      <td>0.097769</td>\n",
       "      <td>142.4496</td>\n",
       "      <td>4</td>\n",
       "      <td>2</td>\n",
       "      <td>0</td>\n",
       "      <td>0</td>\n",
       "    </tr>\n",
       "    <tr>\n",
       "      <th>1701</th>\n",
       "      <td>4.555</td>\n",
       "      <td>0.153457</td>\n",
       "      <td>264.0910</td>\n",
       "      <td>4</td>\n",
       "      <td>2</td>\n",
       "      <td>0</td>\n",
       "      <td>0</td>\n",
       "    </tr>\n",
       "    <tr>\n",
       "      <th>1702</th>\n",
       "      <td>20.750</td>\n",
       "      <td>0.129864</td>\n",
       "      <td>240.1880</td>\n",
       "      <td>3</td>\n",
       "      <td>1</td>\n",
       "      <td>2</td>\n",
       "      <td>2</td>\n",
       "    </tr>\n",
       "    <tr>\n",
       "      <th>1703</th>\n",
       "      <td>14.650</td>\n",
       "      <td>0.171282</td>\n",
       "      <td>54.0614</td>\n",
       "      <td>2</td>\n",
       "      <td>1</td>\n",
       "      <td>1</td>\n",
       "      <td>1</td>\n",
       "    </tr>\n",
       "    <tr>\n",
       "      <th>1704</th>\n",
       "      <td>19.600</td>\n",
       "      <td>0.041291</td>\n",
       "      <td>86.9514</td>\n",
       "      <td>8</td>\n",
       "      <td>2</td>\n",
       "      <td>0</td>\n",
       "      <td>1</td>\n",
       "    </tr>\n",
       "  </tbody>\n",
       "</table>\n",
       "<p>1705 rows × 7 columns</p>\n",
       "</div>"
      ],
      "text/plain": [
       "      Item_Weight  Item_Visibility  Item_MRP  Outlet_Identifier  Outlet_Size  \\\n",
       "0          17.250         0.073251   76.4986                  2            1   \n",
       "1           6.360         0.120544   45.8060                  8            2   \n",
       "2          10.695         0.128247  121.8440                  3            1   \n",
       "3           7.405         0.015296   89.7146                  9            1   \n",
       "4          10.500         0.142760  159.3578                  9            1   \n",
       "...           ...              ...       ...                ...          ...   \n",
       "1700        4.555         0.097769  142.4496                  4            2   \n",
       "1701        4.555         0.153457  264.0910                  4            2   \n",
       "1702       20.750         0.129864  240.1880                  3            1   \n",
       "1703       14.650         0.171282   54.0614                  2            1   \n",
       "1704       19.600         0.041291   86.9514                  8            2   \n",
       "\n",
       "      Outlet_Location_Type  Outlet_Type  \n",
       "0                        1            1  \n",
       "1                        0            1  \n",
       "2                        2            2  \n",
       "3                        0            1  \n",
       "4                        0            1  \n",
       "...                    ...          ...  \n",
       "1700                     0            0  \n",
       "1701                     0            0  \n",
       "1702                     2            2  \n",
       "1703                     1            1  \n",
       "1704                     0            1  \n",
       "\n",
       "[1705 rows x 7 columns]"
      ]
     },
     "execution_count": 9,
     "metadata": {},
     "output_type": "execute_result"
    }
   ],
   "source": [
    "from sklearn.preprocessing import LabelEncoder\n",
    "cols = train.columns[train.dtypes == object] # 범주형 칼럼 목록 지정\n",
    "for col in cols:\n",
    "    le = LabelEncoder()\n",
    "    le.fit(pd.concat([train[col],test[col]],axis=0))# 행 합치기 train,test 행이 맞지 않음\n",
    "    train[col] = le.fit_transform(train[col])\n",
    "    test[col] = le.transform(test[col])\n",
    "\n",
    "test"
   ]
  },
  {
   "cell_type": "markdown",
   "id": "8e953e66-4349-4fb3-b13e-191caf1caca4",
   "metadata": {},
   "source": [
    "## 검증데이터 분할 trian. - val (8,2)"
   ]
  },
  {
   "cell_type": "code",
   "execution_count": 10,
   "id": "872b716e-960b-4afe-be90-269dab853e1e",
   "metadata": {},
   "outputs": [
    {
     "data": {
      "text/plain": [
       "((5454, 7), (1364, 7), (5454,), (1364,))"
      ]
     },
     "execution_count": 10,
     "metadata": {},
     "output_type": "execute_result"
    }
   ],
   "source": [
    "from sklearn.model_selection import train_test_split\n",
    "\n",
    "X_train,X_val,y_train, y_val = train_test_split(\n",
    "    train,\n",
    "    target,\n",
    "    test_size=0.2,\n",
    "    random_state = 0\n",
    ")\n",
    "X_train.shape,X_val.shape,y_train.shape, y_val.shape"
   ]
  },
  {
   "cell_type": "markdown",
   "id": "1adcea7b-d9a2-4781-9545-e25ac4930817",
   "metadata": {},
   "source": [
    "## 머신러닝학습 및 평가 (MSE , MAE , R2..)"
   ]
  },
  {
   "cell_type": "code",
   "execution_count": 11,
   "id": "e7fffc1b-cda4-4c7c-bfe1-195b5b184817",
   "metadata": {},
   "outputs": [],
   "source": [
    "from sklearn.metrics import mean_squared_error\n",
    "from sklearn.metrics import mean_absolute_error\n",
    "from sklearn.metrics import r2_score\n",
    "from sklearn.metrics import root_mean_squared_error\n"
   ]
  },
  {
   "cell_type": "code",
   "execution_count": 12,
   "id": "11ef579a-502f-46b0-9848-40def3668928",
   "metadata": {},
   "outputs": [
    {
     "name": "stdout",
     "output_type": "stream",
     "text": [
      "MSE :  1095162.2783519637\n",
      "MAE :  732.9844015681008\n",
      "RMSE :  1046.5000135460887\n",
      "R2 :  0.5781424723253379\n"
     ]
    }
   ],
   "source": [
    "#lightGBM 학습\n",
    "import lightgbm as lgb\n",
    "model = lgb.LGBMRegressor(random_state=0, verbose=-1)\n",
    "model.fit(X_train, y_train)\n",
    "y_pred_2 = model.predict(X_val)\n",
    "\n",
    "lgm_mse = mean_squared_error(y_val , y_pred_2)\n",
    "lgm_mae = mean_absolute_error(y_val , y_pred_2)\n",
    "lgm_rmse = root_mean_squared_error(y_val, y_pred_2)\n",
    "lgm_r2 = r2_score(y_val,y_pred_2)\n",
    "\n",
    "print(\"MSE : \",lgm_mse ) #오차를 제곱해 쳥균을 낸 값 - 값이 클수록 예측이 실제와 다름\n",
    "print(\"MAE : \",lgm_mae ) #오차를 젤대값으로 계산- 값이 클수록 예측이 실제와 다름\n",
    "print(\"RMSE : \",lgm_rmse)\n",
    "print(\"R2 : \",lgm_r2)"
   ]
  },
  {
   "cell_type": "markdown",
   "id": "dd08787d-5c30-49b9-b53f-1d9e24f81dae",
   "metadata": {
    "jp-MarkdownHeadingCollapsed": true
   },
   "source": [
    "## 01_파일로 저장(생략)"
   ]
  },
  {
   "cell_type": "code",
   "execution_count": 13,
   "id": "44ba713f-3fa5-494d-9a64-41a94df4fe04",
   "metadata": {},
   "outputs": [],
   "source": [
    "# pred = model.predict(test)\n",
    "# # pred\n",
    "\n",
    "# submit = pd.DataFrame({'pred':pred})\n",
    "# submit.to_csv(\"result.csv\", index=False)\n"
   ]
  },
  {
   "cell_type": "markdown",
   "id": "887836d8-63de-48eb-9364-69e303af5ce7",
   "metadata": {},
   "source": [
    "# 02"
   ]
  },
  {
   "cell_type": "code",
   "execution_count": 17,
   "id": "4895cf74-bb1d-4f96-96ac-2e9a0334cc55",
   "metadata": {},
   "outputs": [
    {
     "data": {
      "text/plain": [
       "[]"
      ]
     },
     "execution_count": 17,
     "metadata": {},
     "output_type": "execute_result"
    }
   ],
   "source": [
    "#-----------------\n",
    "# 임계값 조정\n",
    "#-----------------\n",
    "TARGET_CORR_TH = 0.03 #상과계수 임계값\n",
    "\n",
    "#숫자형 기준으로 상관계수 계산 # y값과의 영향 확인 \n",
    "df_corr = train.copy()\n",
    "df_corr['__target__'] = y_train # y_train추가\n",
    "corr_with_target = df_corr.corr(numeric_only=True)['__target__'].drop('__target__')  #타겟과 나머지 상관관계 확인 + 자기 것은 제외\n",
    "corr_with_target\n",
    "\n",
    "#유지할 컬럼(=타깃과의 절대 상관이 임계값 이상인 컬럼만 추출) # y값과의 영향이 있는 것만 추출\n",
    "keep_features = corr_with_target[corr_with_target.abs() >= TARGET_CORR_TH].index.tolist() # abs : 절댁값 구하기 , 0.3보다 큰컬럼들을 list로 추출\n",
    "keep_features\n",
    "\n",
    "#제거할 컬럼 추출\n",
    "problem_features = corr_with_target[corr_with_target.abs() < TARGET_CORR_TH].index.tolist() \n",
    "problem_features"
   ]
  },
  {
   "cell_type": "code",
   "execution_count": 10,
   "id": "0ec0cb81-0f52-4f57-9f3e-9ffaf64293f3",
   "metadata": {},
   "outputs": [],
   "source": [
    "# 너 지금 눈꼽이 얼마나 심각할까? ㅎㅎㅎㅎ\n",
    "# 일단 확실한거 지금 내 상태가 진짜 심각하다는 것\n",
    "# 집가고 싶다\n",
    "# 빨리 씻고 딥슬립 하고 싶다. 던질거야!!!\n",
    "# ---------------\n",
    "# 컬럼제거\n",
    "# ---------------\n",
    "\n",
    "train.drop('Item_Fat_Content',axis=1,inplace = True)\n",
    "train.drop('Item_Type',axis=1,inplace = True)\n",
    "\n",
    "test.drop('Item_Fat_Content',axis=1,inplace = True)\n",
    "test.drop('Item_Type',axis=1,inplace = True)"
   ]
  },
  {
   "cell_type": "code",
   "execution_count": 11,
   "id": "3c4120e2-8cb7-41a7-aa2b-266c47f8ed91",
   "metadata": {},
   "outputs": [
    {
     "data": {
      "text/plain": [
       "((6818, 8), (1705, 8))"
      ]
     },
     "execution_count": 11,
     "metadata": {},
     "output_type": "execute_result"
    }
   ],
   "source": [
    "# ---------------\n",
    "# 확인\n",
    "# ---------------\n",
    "train.shape , test.shape"
   ]
  },
  {
   "cell_type": "code",
   "execution_count": 12,
   "id": "6b452a45-af6d-4ab4-93d3-6fd30653f2b1",
   "metadata": {},
   "outputs": [],
   "source": [
    "# 아름이 보고싶다"
   ]
  },
  {
   "cell_type": "code",
   "execution_count": null,
   "id": "a7fcf7cd-09a3-4be0-839a-6f4c1aa3bd7c",
   "metadata": {},
   "outputs": [],
   "source": [
    "# "
   ]
  },
  {
   "cell_type": "code",
   "execution_count": 14,
   "id": "bec53627-3622-4cb5-9e14-543c1b757ebd",
   "metadata": {},
   "outputs": [
    {
     "data": {
      "text/plain": [
       "((5454, 8), (1364, 8), (5454,), (1364,))"
      ]
     },
     "execution_count": 14,
     "metadata": {},
     "output_type": "execute_result"
    }
   ],
   "source": [
    "from sklearn.model_selection import train_test_split\n",
    "\n",
    "X_train_re,X_val_re,y_train_re, y_val_re = train_test_split(\n",
    "    train,\n",
    "    target,\n",
    "    test_size=0.2,\n",
    "    random_state = 0\n",
    ")\n",
    "X_train_re.shape,X_val_re.shape,y_train_re.shape, y_val_re.shape"
   ]
  },
  {
   "cell_type": "code",
   "execution_count": 18,
   "id": "96657072-a706-47a4-9dc8-717f854688d9",
   "metadata": {},
   "outputs": [],
   "source": [
    "import lightgbm as lgb\n",
    "model = lgb.LGBMRegressor(random_state=0, verbose=-1)\n",
    "model.fit(X_train_re, y_train_re)\n",
    "y_pred_2_re = model.predict(X_val_re)"
   ]
  },
  {
   "cell_type": "code",
   "execution_count": 19,
   "id": "d900f46a-f0c3-44eb-9492-120d9e77c2c9",
   "metadata": {},
   "outputs": [
    {
     "name": "stdout",
     "output_type": "stream",
     "text": [
      "MSE :  1108334.9408928182\n",
      "MAE :  736.8110133347378\n",
      "RMSE :  1052.7748766440136\n",
      "R2 :  0.5730683504694064\n"
     ]
    }
   ],
   "source": [
    "#성능지표 확인\n",
    "lgm_mse_re = mean_squared_error(y_val_re , y_pred_2_re)\n",
    "lgm_mae_re = mean_absolute_error(y_val_re , y_pred_2_re)\n",
    "lgm_rmse_re = root_mean_squared_error(y_val_re, y_pred_2_re)\n",
    "lgm_r2_re = r2_score(y_val_re,y_pred_2_re)\n",
    "\n",
    "print(\"MSE : \",lgm_mse_re ) #오차를 제곱해 쳥균을 낸 값 - 값이 클수록 예측이 실제와 다름\n",
    "print(\"MAE : \",lgm_mae_re ) #오차를 젤대값으로 계산- 값이 클수록 예측이 실제와 다름\n",
    "print(\"RMSE : \",lgm_rmse_re)\n",
    "print(\"R2 : \",lgm_r2_re)"
   ]
  },
  {
   "cell_type": "code",
   "execution_count": null,
   "id": "0a632308-f6cb-4f4b-a502-cd16bd00830b",
   "metadata": {},
   "outputs": [],
   "source": []
  },
  {
   "cell_type": "code",
   "execution_count": null,
   "id": "73654098-8da9-49a7-9d46-135c7ef4f194",
   "metadata": {},
   "outputs": [],
   "source": []
  },
  {
   "cell_type": "code",
   "execution_count": null,
   "id": "bc97246b-21de-4472-ab6b-9026764a34d6",
   "metadata": {},
   "outputs": [],
   "source": []
  },
  {
   "cell_type": "code",
   "execution_count": null,
   "id": "1b974d9a-687c-453e-b13f-ac745a05328a",
   "metadata": {},
   "outputs": [],
   "source": []
  }
 ],
 "metadata": {
  "kernelspec": {
   "display_name": "Python 3 (ipykernel)",
   "language": "python",
   "name": "python3"
  },
  "language_info": {
   "codemirror_mode": {
    "name": "ipython",
    "version": 3
   },
   "file_extension": ".py",
   "mimetype": "text/x-python",
   "name": "python",
   "nbconvert_exporter": "python",
   "pygments_lexer": "ipython3",
   "version": "3.11.6"
  }
 },
 "nbformat": 4,
 "nbformat_minor": 5
}
