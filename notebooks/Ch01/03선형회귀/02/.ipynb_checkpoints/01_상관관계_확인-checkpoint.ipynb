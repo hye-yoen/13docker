{
 "cells": [
  {
   "cell_type": "code",
   "execution_count": 2,
   "id": "04a17ad3-16bd-48a9-be04-2d734f988a0a",
   "metadata": {},
   "outputs": [
    {
     "data": {
      "text/html": [
       "<div>\n",
       "<style scoped>\n",
       "    .dataframe tbody tr th:only-of-type {\n",
       "        vertical-align: middle;\n",
       "    }\n",
       "\n",
       "    .dataframe tbody tr th {\n",
       "        vertical-align: top;\n",
       "    }\n",
       "\n",
       "    .dataframe thead th {\n",
       "        text-align: right;\n",
       "    }\n",
       "</style>\n",
       "<table border=\"1\" class=\"dataframe\">\n",
       "  <thead>\n",
       "    <tr style=\"text-align: right;\">\n",
       "      <th></th>\n",
       "      <th>키</th>\n",
       "      <th>몸무게</th>\n",
       "    </tr>\n",
       "  </thead>\n",
       "  <tbody>\n",
       "    <tr>\n",
       "      <th>0</th>\n",
       "      <td>160</td>\n",
       "      <td>50</td>\n",
       "    </tr>\n",
       "    <tr>\n",
       "      <th>1</th>\n",
       "      <td>170</td>\n",
       "      <td>60</td>\n",
       "    </tr>\n",
       "    <tr>\n",
       "      <th>2</th>\n",
       "      <td>175</td>\n",
       "      <td>70</td>\n",
       "    </tr>\n",
       "    <tr>\n",
       "      <th>3</th>\n",
       "      <td>180</td>\n",
       "      <td>80</td>\n",
       "    </tr>\n",
       "  </tbody>\n",
       "</table>\n",
       "</div>"
      ],
      "text/plain": [
       "     키  몸무게\n",
       "0  160   50\n",
       "1  170   60\n",
       "2  175   70\n",
       "3  180   80"
      ]
     },
     "execution_count": 2,
     "metadata": {},
     "output_type": "execute_result"
    }
   ],
   "source": [
    "# 오늘 빠졌으면 ㅈ될뻔.....\n",
    "# 근데 버티기가 힘들어... \n",
    "# 진짜 오기 싫었는데\n",
    "# 몇초차이 지각은 좀 심한거 아냐?\n",
    "\n",
    "#상관관계 확인(수치형)\n",
    "import pandas as pd\n",
    "data = {\n",
    "    \"키\" :[160,170,175,180],\n",
    "    \"몸무게\" : [50,60,70,80]\n",
    "}\n",
    "\n",
    "df=pd.DataFrame(data)\n",
    "df\n"
   ]
  },
  {
   "cell_type": "code",
   "execution_count": 3,
   "id": "0d23d6d7-4d38-4f63-ae05-ae23c67a0b63",
   "metadata": {},
   "outputs": [
    {
     "name": "stdout",
     "output_type": "stream",
     "text": [
      "            키       몸무게\n",
      "키    1.000000  0.982708\n",
      "몸무게  0.982708  1.000000\n"
     ]
    }
   ],
   "source": [
    "#상관계수 확인(기본:차이슨 상관계수 -1~1)\n",
    "# +1에 가까울 수록 양의 상관관계\n",
    "# -1에 가까울 수록 음의 상관관계\n",
    "# 0에 가까울 수록 상관이 거의 없음\n",
    "correlation=df.corr()\n",
    "print(correlation)\n",
    "#몸무게 값 비슷하게 바꿔보삼"
   ]
  },
  {
   "cell_type": "code",
   "execution_count": 4,
   "id": "44c50bc1-3813-4ea8-893a-23552d84c379",
   "metadata": {},
   "outputs": [
    {
     "name": "stdout",
     "output_type": "stream",
     "text": [
      "            키       몸무게\n",
      "키    1.000000  0.982708\n",
      "몸무게  0.982708  1.000000\n",
      "       키  몸무게\n",
      "키    1.0  1.0\n",
      "몸무게  1.0  1.0\n",
      "       키  몸무게\n",
      "키    1.0  1.0\n",
      "몸무게  1.0  1.0\n"
     ]
    }
   ],
   "source": [
    "#파이슨 상관계수(기본) - 선형관계가 얼마나 강한지 확인 / 곡선관계 확인은 힘들다\n",
    "print(df.corr())\n",
    "\n",
    "#스피어 사과계수 - 순위(등수)를 기존으로 비교하는 방법 / 곡선관계도 확인 가능\n",
    "print(df.corr(method='spearman'))\n",
    "\n",
    "#겐달타우 상관계수 - 순위(등수)를 기존으로 비교하는 방법(순서쌍을 만들어서 비교) / 곡선관계도 확인 가능\n",
    "print(df.corr(method='kendall'))"
   ]
  },
  {
   "cell_type": "code",
   "execution_count": 5,
   "id": "b0646b48-8d5e-432f-9757-faae10987cbb",
   "metadata": {},
   "outputs": [
    {
     "name": "stdout",
     "output_type": "stream",
     "text": [
      "PearsonRResult(statistic=0.9827076298239907, pvalue=0.017292370176009264)\n",
      "SignificanceResult(statistic=1.0, pvalue=0.0)\n",
      "SignificanceResult(statistic=1.0, pvalue=0.08333333333333333)\n"
     ]
    }
   ],
   "source": [
    "from scipy import stats\n",
    "#피어슨 상관계수와 p-value 계산\n",
    "print(stats.pearsonr(df['몸무게'],df['키']))\n",
    "# 스이어맨 상관계수와 p-value 계산\n",
    "print(stats.spearmanr(df['몸무게'],df['키']))\n",
    "#켄달타우 상관계수와 p-value 계산\n",
    "print(stats.kendalltau(df['몸무게'],df['키']))\n",
    "\n",
    "# statistic : 상관계수\n",
    "# pValue : 유의확률(관련이 있을 확률) ,낮을수록 좋다\n",
    "\n"
   ]
  }
 ],
 "metadata": {
  "kernelspec": {
   "display_name": "Python 3 (ipykernel)",
   "language": "python",
   "name": "python3"
  },
  "language_info": {
   "codemirror_mode": {
    "name": "ipython",
    "version": 3
   },
   "file_extension": ".py",
   "mimetype": "text/x-python",
   "name": "python",
   "nbconvert_exporter": "python",
   "pygments_lexer": "ipython3",
   "version": "3.11.6"
  }
 },
 "nbformat": 4,
 "nbformat_minor": 5
}
