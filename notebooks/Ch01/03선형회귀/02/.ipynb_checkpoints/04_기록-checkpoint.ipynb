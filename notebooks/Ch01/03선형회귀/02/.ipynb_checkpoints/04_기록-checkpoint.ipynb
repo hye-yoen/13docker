{
 "cells": [
  {
   "cell_type": "code",
   "execution_count": null,
   "id": "57bf6a30-75f5-44bf-94c6-d668cc306dff",
   "metadata": {},
   "outputs": [],
   "source": [
    "# ======================== OLS Regression Results ===========================   # OLS(최소제곱법) 회귀분석 결과 시작\n",
    "# Dep. Variable:                    매출액                                   # 종속변수(예측 대상)는 ‘매출액’\n",
    "# R-squared:                         0.512                                   # 결정계수: 모델이 데이터를 51.2% 설명 (설명력 중간 수준)\n",
    "# Model:                              OLS                                   # 회귀모델 종류: OLS(Ordinary Least Squares, 최소제곱법)\n",
    "# Adj. R-squared:                    0.454                                   # 보정된 결정계수: 변수 수를 고려한 설명력 (약 45.4%)\n",
    "# Method:                   Least Squares                                   # 방법: 잔차 제곱합을 최소화하는 방식\n",
    "# F-statistic:                       8.907                                   # F값: 모델 전체 유의성 검정 통계량\n",
    "# Date:                  Mon, 17 Mar 2025                                   # 분석 실행 날짜\n",
    "# Prob (F-statistic):              0.00226                                   # F검정의 p값 < 0.05 → 모델 전체가 통계적으로 유의함\n",
    "# Time:                          03:15:38                                   # 분석 실행 시각\n",
    "# Log-Likelihood:                  -108.22                                   # 로그우도값: 모델의 적합도 지표 (절대값 작을수록 적합)\n",
    "# No. Observations:                    20                                   # 데이터 개수: 20개\n",
    "# AIC:                               222.4                                   # AIC: 모델 품질 지표 (낮을수록 좋은 모델)\n",
    "# Df Residuals:                        17                                   # 잔차 자유도 = 관측치 - 회귀계수 수\n",
    "# BIC:                               225.4                                   # BIC: 베이지안 정보 기준 (낮을수록 좋음)\n",
    "# Df Model:                             2                                   # 독립변수(설명변수) 개수: 2개 (광고비, 직원수)\n",
    "# Covariance Type:              nonrobust                                   # 공분산 계산 방식: 기본값(등분산 가정)\n",
    "\n",
    "# =================== 회귀계수 요약 (Regression Coefficients) =================\n",
    "#                   coef    std err          t      P>|t|      [0.025      0.975]   # 계수, 표준오차, t값, p값, 신뢰구간\n",
    "# Intercept      101.0239     71.716      1.409      0.177     -50.284     252.331  # 절편: 광고비=0, 직원수=0일 때 기본 매출 약 101.0 (유의하지 않음)\n",
    "# 광고비            1.8194      0.807      2.255      0.038       0.117       3.522  # 광고비 1단위 증가 시 매출액 약 1.82 증가 (유의함, p<0.05)\n",
    "# 직원수            5.9288      1.430      4.147      0.001       2.912       8.945  # 직원 1명 증가 시 매출액 약 5.93 증가 (매우 유의함, p<0.01)\n",
    "\n",
    "# ======================= 잔차 검정 (Residual Diagnostics) =====================\n",
    "# Omnibus:                       30.534                                   # 잔차 정규성 검정 통계량 (값이 큼 → 비정규 가능성 있음)\n",
    "# Durbin-Watson:                   1.354                                   # 잔차 자기상관 검정 (2에 가까울수록 좋음, 1.35 → 약한 자기상관 있음)\n",
    "# Prob(Omnibus):                  0.000                                   # p값<0.05 → 잔차가 정규분포 아님\n",
    "# Jarque-Bera (JB):               64.655                                   # 또 다른 정규성 검정 (값 큼 → 비정규 가능성 높음)\n",
    "# Skew:                            2.444                                   # 잔차가 오른쪽으로 치우침(양의 왜도)\n",
    "# Prob(JB):                     9.13e-15                                   # p값 매우 작음 → 정규성 가정 위배\n",
    "# Kurtosis:                       10.327                                   # 잔차의 첨도(정규분포=3보다 큼 → 뾰족함, 이상치 가능)\n",
    "# Cond. No.:                         401.                                  # 조건수: 다중공선성(변수 간 상관성) 약간 존재 가능성\n",
    "\n",
    "# ============================ Notes ==========================================\n",
    "# [1] Standard Errors assume that the covariance matrix of the errors is correctly specified.   # 표준오차 계산은 오차항이 독립적이고 분산이 일정하다는 가정하에 수행됨\n"
   ]
  }
 ],
 "metadata": {
  "kernelspec": {
   "display_name": "Python 3 (ipykernel)",
   "language": "python",
   "name": "python3"
  },
  "language_info": {
   "codemirror_mode": {
    "name": "ipython",
    "version": 3
   },
   "file_extension": ".py",
   "mimetype": "text/x-python",
   "name": "python",
   "nbconvert_exporter": "python",
   "pygments_lexer": "ipython3",
   "version": "3.11.6"
  }
 },
 "nbformat": 4,
 "nbformat_minor": 5
}
