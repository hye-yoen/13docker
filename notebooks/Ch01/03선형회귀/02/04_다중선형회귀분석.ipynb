{
 "cells": [
  {
   "cell_type": "code",
   "execution_count": 1,
   "id": "19b39cf4-4db0-45e8-97fa-ac3d8cf6afcd",
   "metadata": {},
   "outputs": [
    {
     "name": "stdout",
     "output_type": "stream",
     "text": [
      "   매출액  광고비  직원수\n",
      "0  300   70   15\n",
      "1  320   75   16\n",
      "2  250   30   14\n"
     ]
    }
   ],
   "source": [
    "import pandas as pd\n",
    "data = {\n",
    "    '매출액': [300, 320, 250, 360, 315, 328, 310, 335, 326, 280,\n",
    "            290, 300, 315, 328, 310, 335, 300, 400, 500, 600],\n",
    "    '광고비': [70, 75, 30, 80, 72, 77, 70, 82, 70, 80,\n",
    "            68, 90, 72, 77, 70, 82, 40, 20, 75, 80],\n",
    "    '직원수': [15, 16, 14, 20, 19, 17, 16, 19, 15, 20,\n",
    "            14, 5, 16, 17, 16, 14, 30, 40, 10, 50]\n",
    "    }\n",
    "df = pd.DataFrame(data)\n",
    "print(df.head(3))"
   ]
  },
  {
   "cell_type": "code",
   "execution_count": null,
   "id": "fff76095-7d02-4c49-9954-224269969b4a",
   "metadata": {},
   "outputs": [],
   "source": []
  },
  {
   "cell_type": "code",
   "execution_count": 2,
   "id": "a3b64e3b-3f35-4ec4-a901-a5ed539efe71",
   "metadata": {},
   "outputs": [
    {
     "name": "stdout",
     "output_type": "stream",
     "text": [
      "                            OLS Regression Results                            \n",
      "==============================================================================\n",
      "Dep. Variable:                    매출액   R-squared:                       0.512\n",
      "Model:                            OLS   Adj. R-squared:                  0.454\n",
      "Method:                 Least Squares   F-statistic:                     8.907\n",
      "Date:                Fri, 10 Oct 2025   Prob (F-statistic):            0.00226\n",
      "Time:                        03:09:51   Log-Likelihood:                -108.22\n",
      "No. Observations:                  20   AIC:                             222.4\n",
      "Df Residuals:                      17   BIC:                             225.4\n",
      "Df Model:                           2                                         \n",
      "Covariance Type:            nonrobust                                         \n",
      "==============================================================================\n",
      "                 coef    std err          t      P>|t|      [0.025      0.975]\n",
      "------------------------------------------------------------------------------\n",
      "Intercept    101.0239     71.716      1.409      0.177     -50.284     252.331\n",
      "광고비            1.8194      0.807      2.255      0.038       0.117       3.522\n",
      "직원수            5.9288      1.430      4.147      0.001       2.912       8.945\n",
      "==============================================================================\n",
      "Omnibus:                       30.534   Durbin-Watson:                   1.354\n",
      "Prob(Omnibus):                  0.000   Jarque-Bera (JB):               64.655\n",
      "Skew:                           2.444   Prob(JB):                     9.13e-15\n",
      "Kurtosis:                      10.327   Cond. No.                         401.\n",
      "==============================================================================\n",
      "\n",
      "Notes:\n",
      "[1] Standard Errors assume that the covariance matrix of the errors is correctly specified.\n"
     ]
    }
   ],
   "source": [
    "from statsmodels.formula.api import ols\n",
    "model = ols('매출액 ~ 광고비 + 직원수', data=df).fit()  # 매출액을 광고비 + 직원수로 부터 예측\n",
    "print(model.summary())"
   ]
  },
  {
   "cell_type": "code",
   "execution_count": null,
   "id": "cf4b1336-9ae8-498d-81df-9b42aaac70c7",
   "metadata": {},
   "outputs": [],
   "source": [
    "# ======================== OLS Regression Results ===========================   # OLS(최소제곱법) 회귀분석 결과 시작\n",
    "# Dep. Variable:                    매출액                                   # 종속변수(예측 대상)는 ‘매출액’\n",
    "# R-squared:                         0.512                                   # 결정계수: 모델이 데이터를 51.2% 설명 (설명력 중간 수준)\n",
    "# Model:                              OLS                                   # 회귀모델 종류: OLS(Ordinary Least Squares, 최소제곱법)\n",
    "# Adj. R-squared:                    0.454                                   # 보정된 결정계수: 변수 수를 고려한 설명력 (약 45.4%)\n",
    "# Method:                   Least Squares                                   # 방법: 잔차 제곱합을 최소화하는 방식\n",
    "# F-statistic:                       8.907                                   # F값: 모델 전체 유의성 검정 통계량\n",
    "# Date:                  Mon, 17 Mar 2025                                   # 분석 실행 날짜\n",
    "# Prob (F-statistic):              0.00226                                   # F검정의 p값 < 0.05 → 모델 전체가 통계적으로 유의함\n",
    "# Time:                          03:15:38                                   # 분석 실행 시각\n",
    "# Log-Likelihood:                  -108.22                                   # 로그우도값: 모델의 적합도 지표 (절대값 작을수록 적합)\n",
    "# No. Observations:                    20                                   # 데이터 개수: 20개\n",
    "# AIC:                               222.4                                   # AIC: 모델 품질 지표 (낮을수록 좋은 모델)\n",
    "# Df Residuals:                        17                                   # 잔차 자유도 = 관측치 - 회귀계수 수\n",
    "# BIC:                               225.4                                   # BIC: 베이지안 정보 기준 (낮을수록 좋음)\n",
    "# Df Model:                             2                                   # 독립변수(설명변수) 개수: 2개 (광고비, 직원수)\n",
    "# Covariance Type:              nonrobust                                   # 공분산 계산 방식: 기본값(등분산 가정)\n",
    "\n",
    "# =================== 회귀계수 요약 (Regression Coefficients) =================\n",
    "#                   coef    std err          t      P>|t|      [0.025      0.975]   # 계수, 표준오차, t값, p값, 신뢰구간\n",
    "# Intercept      101.0239     71.716      1.409      0.177     -50.284     252.331  # 절편: 광고비=0, 직원수=0일 때 기본 매출 약 101.0 (유의하지 않음)\n",
    "# 광고비            1.8194      0.807      2.255      0.038       0.117       3.522  # 광고비 1단위 증가 시 매출액 약 1.82 증가 (유의함, p<0.05)\n",
    "# 직원수            5.9288      1.430      4.147      0.001       2.912       8.945  # 직원 1명 증가 시 매출액 약 5.93 증가 (매우 유의함, p<0.01)\n",
    "\n",
    "# ======================= 잔차 검정 (Residual Diagnostics) =====================\n",
    "# Omnibus:                       30.534                                   # 잔차 정규성 검정 통계량 (값이 큼 → 비정규 가능성 있음)\n",
    "# Durbin-Watson:                   1.354                                   # 잔차 자기상관 검정 (2에 가까울수록 좋음, 1.35 → 약한 자기상관 있음)\n",
    "# Prob(Omnibus):                  0.000                                   # p값<0.05 → 잔차가 정규분포 아님\n",
    "# Jarque-Bera (JB):               64.655                                   # 또 다른 정규성 검정 (값 큼 → 비정규 가능성 높음)\n",
    "# Skew:                            2.444                                   # 잔차가 오른쪽으로 치우침(양의 왜도)\n",
    "# Prob(JB):                     9.13e-15                                   # p값 매우 작음 → 정규성 가정 위배\n",
    "# Kurtosis:                       10.327                                   # 잔차의 첨도(정규분포=3보다 큼 → 뾰족함, 이상치 가능)\n",
    "# Cond. No.:                         401.                                  # 조건수: 다중공선성(변수 간 상관성) 약간 존재 가능성\n",
    "\n",
    "# ============================ Notes ==========================================\n",
    "# [1] Standard Errors assume that the covariance matrix of the errors is correctly specified.   # 표준오차 계산은 오차항이 독립적이고 분산이 일정하다는 가정하에 수행됨\n"
   ]
  },
  {
   "cell_type": "code",
   "execution_count": 3,
   "id": "b92eab29-a449-4935-b6c9-1f990f4fbc16",
   "metadata": {},
   "outputs": [
    {
     "data": {
      "text/plain": [
       "0.5116964327009041"
      ]
     },
     "execution_count": 3,
     "metadata": {},
     "output_type": "execute_result"
    }
   ],
   "source": [
    "# 결정계수값 확인(모델이 데이터를 얼마나 잘 설명하는지를 나타내는 점수)\n",
    "model.rsquared"
   ]
  },
  {
   "cell_type": "code",
   "execution_count": 5,
   "id": "8ec05a93-508b-4ff3-8195-5ddd52d93332",
   "metadata": {},
   "outputs": [
    {
     "name": "stdout",
     "output_type": "stream",
     "text": [
      "광고비 기울기: 1.8194269419344637\n",
      "직원수 기울기: 5.9287555469507485\n",
      "절편: 101.02387228241565\n"
     ]
    }
   ],
   "source": [
    "# 기울기 / 절편확인\n",
    "print(\"광고비 기울기:\", model.params['광고비']) # 베타1 # 고비 1.8원 증가 -> 매출액 1증가 \n",
    "print(\"직원수 기울기:\", model.params['직원수']) # 베타1 # 직원 5.9 증가 -> 매출약 1증가\n",
    "print(\"절편:\", model.params['Intercept']) # 베타0 # 기본 매출 101 (광고비x, 직원 x)"
   ]
  },
  {
   "cell_type": "code",
   "execution_count": null,
   "id": "f482b410-68ab-4154-97ab-1e462b8dc7c9",
   "metadata": {},
   "outputs": [],
   "source": [
    "# 매출액(y) - x 상관계수 / pvalue 확인"
   ]
  },
  {
   "cell_type": "code",
   "execution_count": 6,
   "id": "2500d0dd-fd61-4fbf-a1ac-f1d34e8f59b4",
   "metadata": {},
   "outputs": [
    {
     "name": "stdout",
     "output_type": "stream",
     "text": [
      "PearsonRResult(statistic=0.1331698173704034, pvalue=0.5756778801904271)\n"
     ]
    }
   ],
   "source": [
    "from scipy import stats\n",
    "print(stats.pearsonr(df['광고비'], df['매출액']))\n",
    "#pvalue <0.05 - 상관관계높다 /유의하다\n",
    "#pvalue >=0.05 - 상관관계낮다 / 유의하지 않다"
   ]
  },
  {
   "cell_type": "code",
   "execution_count": 7,
   "id": "87a44140-9e70-4d69-b0cf-e4431619ab38",
   "metadata": {},
   "outputs": [
    {
     "data": {
      "text/plain": [
       "Intercept    101.023872\n",
       "광고비            1.819427\n",
       "직원수            5.928756\n",
       "dtype: float64"
      ]
     },
     "execution_count": 7,
     "metadata": {},
     "output_type": "execute_result"
    }
   ],
   "source": [
    "# 회귀계수확인 # 절편 + 기울기(광고비 + 직원수)\n",
    "model.params"
   ]
  },
  {
   "cell_type": "code",
   "execution_count": 8,
   "id": "7b8cf1bf-392f-49a5-82aa-ba1026284591",
   "metadata": {},
   "outputs": [
    {
     "name": "stdout",
     "output_type": "stream",
     "text": [
      "pvalue: 0.03764350647696\n"
     ]
    }
   ],
   "source": [
    "# 광고비 유의 확률\n",
    "print(\"pvalue:\", model.pvalues['광고비'])"
   ]
  },
  {
   "cell_type": "code",
   "execution_count": 9,
   "id": "92813282-8985-4149-90a9-3a25131d1858",
   "metadata": {},
   "outputs": [
    {
     "name": "stdout",
     "output_type": "stream",
     "text": [
      "새로운 데이터의 매출액: 0    310.57033\n",
      "dtype: float64\n"
     ]
    }
   ],
   "source": [
    "# 광고비,직원수 -> 매출액 예측\n",
    "\n",
    "new_data = pd.DataFrame({\"광고비\": [50], \"직원수\": [20]})\n",
    "result = model.predict(new_data)\n",
    "print(\"새로운 데이터의 매출액:\", result)\n"
   ]
  },
  {
   "cell_type": "code",
   "execution_count": 10,
   "id": "204995b9-b99a-418b-877b-840d169b92a2",
   "metadata": {},
   "outputs": [
    {
     "name": "stdout",
     "output_type": "stream",
     "text": [
      "잔차 제곱합: 58686.17827156108\n"
     ]
    }
   ],
   "source": [
    "#잔차확인 + 잔자제곱합\n",
    "df['잔차'] = df['매출액'] - model.predict(df)\n",
    "print(\"잔차 제곱합:\", sum(df['잔차']**2))"
   ]
  },
  {
   "cell_type": "code",
   "execution_count": 12,
   "id": "301c0c7d-0fe7-41c8-854f-b4a82da61321",
   "metadata": {},
   "outputs": [
    {
     "name": "stdout",
     "output_type": "stream",
     "text": [
      "58686.17827156108\n"
     ]
    }
   ],
   "source": [
    "print(sum(model.resid**2))  # model.resid: 모델의 잔차(Residuals)를 담고 있는 배열"
   ]
  },
  {
   "cell_type": "code",
   "execution_count": 13,
   "id": "f41baf64-7e20-40da-88c7-2bad36ec55e4",
   "metadata": {},
   "outputs": [
    {
     "name": "stdout",
     "output_type": "stream",
     "text": [
      "MSE: 2934.308913578054\n"
     ]
    }
   ],
   "source": [
    "MSE = (df['잔차'] ** 2).mean()\n",
    "print('MSE:', MSE)"
   ]
  },
  {
   "cell_type": "code",
   "execution_count": 14,
   "id": "11d1868d-afd0-4373-9f76-c77393ed903a",
   "metadata": {},
   "outputs": [
    {
     "name": "stdout",
     "output_type": "stream",
     "text": [
      "95% 신뢰구간:\n",
      "                    0           1\n",
      "Intercept -50.283684  252.331429\n",
      "광고비         0.116785    3.522069\n",
      "직원수         2.912406    8.945105\n"
     ]
    }
   ],
   "source": [
    "print(\"95% 신뢰구간:\\n\", model.conf_int(alpha=0.05))"
   ]
  },
  {
   "cell_type": "markdown",
   "id": "7bacabd7-b24d-417c-bd30-8f29fc34d4a8",
   "metadata": {},
   "source": [
    "5% 신뢰구간 결과 해석\n",
    "|계수 (Coefficient)\t|하한 (0)\t|상한 (1)\t|해석|\n",
    "|-------------------|----------|-----------|-------------------------------------------------------------------|\n",
    "|Intercept (절편) |\t−50.283684\t|252.331429 |\t95%의 확률로 모집단의 실제 절편 값은 이 범위(−50.28 ~ 252.33) 사이에 존재합니다. 이 범위가 0을 포함하므로, '광고비'와 '직원수'가 모두 0일 때 '매출액'이 통계적으로 유의미하게 0과 다르다고 단정하기는 어렵습니다.|\n",
    "|광고비 |\t0.116785 |\t3.522069 |\t95%의 확률로 모집단의 실제 '광고비' 계수 값은 이 범위(0.12 ~ 3.52) 사이에 존재합니다. 이 범위가 0을 포함하지 않기 때문에, '광고비'는 '매출액'에 통계적으로 유의미한 긍정적 영향을 미친다고 해석할 수 있습니다. (다른 모든 조건이 일정할 때, 광고비가 1 증가하면 매출액은 최소 0.12에서 최대 3.52만큼 증가합니다.)|\n",
    "| 직원수\t| 2.912406\t| 8.945105\t| 95%의 확률로 모집단의 실제 '직원수' 계수 값은 이 범위(2.91 ~ 8.95) 사이에 존재합니다. 이 범위 역시 0을 포함하지 않기 때문에, '직원수'는 '매출액'에 통계적으로 유의미한 긍정적 영향을 미친다고 해석할 수 있습니다. (다른 모든 조건이 일정할 때, 직원수가 1 증가하면 매출액은 최소 2.91에서 최대 8.95만큼 증가합니다.)|"
   ]
  },
  {
   "cell_type": "code",
   "execution_count": 15,
   "id": "40088247-fa64-4714-970d-cf78ce14ba60",
   "metadata": {},
   "outputs": [
    {
     "name": "stdout",
     "output_type": "stream",
     "text": [
      "예측값의 신뢰구간과 예측구간:\n",
      "          mean    mean_se  mean_ci_lower  mean_ci_upper  obs_ci_lower  \\\n",
      "0  313.330707  22.502058     265.855514       360.8059     180.58875   \n",
      "\n",
      "   obs_ci_upper  \n",
      "0    446.072663  \n"
     ]
    }
   ],
   "source": [
    "new_data = pd.DataFrame({\"광고비\": [45], \"직원수\": [22]})\n",
    "pred = model.get_prediction(new_data)\n",
    "result = pred.summary_frame(alpha=0.05)\n",
    "print(\"예측값의 신뢰구간과 예측구간:\\n\", result)"
   ]
  },
  {
   "cell_type": "markdown",
   "id": "1913f038-3de2-4315-a3b4-29365716c708",
   "metadata": {},
   "source": [
    "# 범주형 변수"
   ]
  },
  {
   "cell_type": "code",
   "execution_count": 1,
   "id": "411f808e-ceb4-4a0c-92f6-0430a18d92f5",
   "metadata": {},
   "outputs": [
    {
     "data": {
      "text/html": [
       "<div>\n",
       "<style scoped>\n",
       "    .dataframe tbody tr th:only-of-type {\n",
       "        vertical-align: middle;\n",
       "    }\n",
       "\n",
       "    .dataframe tbody tr th {\n",
       "        vertical-align: top;\n",
       "    }\n",
       "\n",
       "    .dataframe thead th {\n",
       "        text-align: right;\n",
       "    }\n",
       "</style>\n",
       "<table border=\"1\" class=\"dataframe\">\n",
       "  <thead>\n",
       "    <tr style=\"text-align: right;\">\n",
       "      <th></th>\n",
       "      <th>study_hours</th>\n",
       "      <th>material_type</th>\n",
       "      <th>score</th>\n",
       "    </tr>\n",
       "  </thead>\n",
       "  <tbody>\n",
       "    <tr>\n",
       "      <th>0</th>\n",
       "      <td>71</td>\n",
       "      <td>강의</td>\n",
       "      <td>95</td>\n",
       "    </tr>\n",
       "    <tr>\n",
       "      <th>1</th>\n",
       "      <td>34</td>\n",
       "      <td>독학</td>\n",
       "      <td>63</td>\n",
       "    </tr>\n",
       "    <tr>\n",
       "      <th>2</th>\n",
       "      <td>91</td>\n",
       "      <td>도서</td>\n",
       "      <td>95</td>\n",
       "    </tr>\n",
       "    <tr>\n",
       "      <th>3</th>\n",
       "      <td>80</td>\n",
       "      <td>독학</td>\n",
       "      <td>80</td>\n",
       "    </tr>\n",
       "    <tr>\n",
       "      <th>4</th>\n",
       "      <td>40</td>\n",
       "      <td>강의</td>\n",
       "      <td>79</td>\n",
       "    </tr>\n",
       "  </tbody>\n",
       "</table>\n",
       "</div>"
      ],
      "text/plain": [
       "   study_hours material_type  score\n",
       "0           71            강의     95\n",
       "1           34            독학     63\n",
       "2           91            도서     95\n",
       "3           80            독학     80\n",
       "4           40            강의     79"
      ]
     },
     "execution_count": 1,
     "metadata": {},
     "output_type": "execute_result"
    }
   ],
   "source": [
    "import pandas as pd\n",
    "import statsmodels.api as sm\n",
    "df = pd.read_csv(\"study.csv\")\n",
    "# df = pd.read_csv(\"https://raw.githubusercontent.com/lovedlim/bigdata_analyst_cert/main/part3/ch4/study.csv\")\n",
    "df.head()"
   ]
  },
  {
   "cell_type": "code",
   "execution_count": 2,
   "id": "178fa18d-4463-4bd7-937d-f6f8d89570f6",
   "metadata": {},
   "outputs": [
    {
     "name": "stdout",
     "output_type": "stream",
     "text": [
      "                            OLS Regression Results                            \n",
      "==============================================================================\n",
      "Dep. Variable:                  score   R-squared:                       0.969\n",
      "Model:                            OLS   Adj. R-squared:                  0.968\n",
      "Method:                 Least Squares   F-statistic:                     991.9\n",
      "Date:                Mon, 13 Oct 2025   Prob (F-statistic):           4.42e-72\n",
      "Time:                        00:28:26   Log-Likelihood:                -238.89\n",
      "No. Observations:                 100   AIC:                             485.8\n",
      "Df Residuals:                      96   BIC:                             496.2\n",
      "Df Model:                           3                                         \n",
      "Covariance Type:            nonrobust                                         \n",
      "=======================================================================================\n",
      "                          coef    std err          t      P>|t|      [0.025      0.975]\n",
      "---------------------------------------------------------------------------------------\n",
      "Intercept              59.2111      0.799     74.147      0.000      57.626      60.796\n",
      "material_type[T.도서]    -8.6696      0.678    -12.778      0.000     -10.016      -7.323\n",
      "material_type[T.독학]   -17.6129      0.634    -27.790      0.000     -18.871     -16.355\n",
      "study_hours             0.4839      0.011     43.810      0.000       0.462       0.506\n",
      "==============================================================================\n",
      "Omnibus:                        1.754   Durbin-Watson:                   2.173\n",
      "Prob(Omnibus):                  0.416   Jarque-Bera (JB):                1.216\n",
      "Skew:                           0.231   Prob(JB):                        0.544\n",
      "Kurtosis:                       3.280   Cond. No.                         228.\n",
      "==============================================================================\n",
      "\n",
      "Notes:\n",
      "[1] Standard Errors assume that the covariance matrix of the errors is correctly specified.\n"
     ]
    }
   ],
   "source": [
    "from statsmodels.formula.api import ols\n",
    "model = ols('score ~ study_hours + material_type' , data=df).fit()\n",
    "print(model.summary())"
   ]
  },
  {
   "cell_type": "code",
   "execution_count": null,
   "id": "a41e9fbc-0323-4420-b211-8411ead70dc2",
   "metadata": {},
   "outputs": [],
   "source": [
    "# Intercept(material_type[0]) == 강의 , material_type[T.도서] <- 강의랑 독학 비교 "
   ]
  },
  {
   "cell_type": "code",
   "execution_count": null,
   "id": "a61b093e-c884-48e9-a5a7-884c5c76f166",
   "metadata": {},
   "outputs": [],
   "source": []
  }
 ],
 "metadata": {
  "kernelspec": {
   "display_name": "Python 3 (ipykernel)",
   "language": "python",
   "name": "python3"
  },
  "language_info": {
   "codemirror_mode": {
    "name": "ipython",
    "version": 3
   },
   "file_extension": ".py",
   "mimetype": "text/x-python",
   "name": "python",
   "nbconvert_exporter": "python",
   "pygments_lexer": "ipython3",
   "version": "3.11.6"
  }
 },
 "nbformat": 4,
 "nbformat_minor": 5
}
