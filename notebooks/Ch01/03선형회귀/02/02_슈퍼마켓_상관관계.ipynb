{
 "cells": [
  {
   "cell_type": "markdown",
   "id": "7bc3a0cf-9fbc-473d-9590-02d03cc14d32",
   "metadata": {
    "jp-MarkdownHeadingCollapsed": true
   },
   "source": [
    "## 문제 정의"
   ]
  },
  {
   "cell_type": "markdown",
   "id": "9bfbe1b0-1e82-4840-abdd-5f106518b859",
   "metadata": {},
   "source": [
    "주어진 제품 및 매장 특성들을(X값, 컬럼) 기반으로 판매금액(Item_Outlet_Sales)을 예측하기"
   ]
  },
  {
   "cell_type": "markdown",
   "id": "e6b3b5a9-4239-4a53-b7a4-467e1cd24fed",
   "metadata": {
    "jp-MarkdownHeadingCollapsed": true
   },
   "source": [
    "## 라이브러리 데이터 불러오기"
   ]
  },
  {
   "cell_type": "code",
   "execution_count": 1,
   "id": "9684a8c8-db59-4df7-8e57-18ea75578c98",
   "metadata": {},
   "outputs": [],
   "source": [
    "import pandas as pd\n",
    "train = pd.read_csv(\"train.csv\")\n",
    "test = pd.read_csv(\"test.csv\")\n",
    "# train = pd.read_csv(\"https://raw.githubusercontent.com/lovedlim/bigdata_analyst_cert/main/part2/ch4/train.csv\")\n",
    "# test = pd.read_csv(\"https://raw.githubusercontent.com/lovedlim/bigdata_analyst_cert/main/part2/ch4/test.csv\")"
   ]
  },
  {
   "cell_type": "markdown",
   "id": "db7f49b4-62fd-4030-9d31-cc7051b11afa",
   "metadata": {
    "jp-MarkdownHeadingCollapsed": true
   },
   "source": [
    "## 탐색적 데이터 분석(EDA)"
   ]
  },
  {
   "cell_type": "code",
   "execution_count": 17,
   "id": "fc90b5cf-a723-4664-bcbd-0b025c77f9cc",
   "metadata": {},
   "outputs": [],
   "source": [
    "# train.head()\n",
    "# train.tail()\n",
    "# train.sample(5)"
   ]
  },
  {
   "cell_type": "code",
   "execution_count": 18,
   "id": "087ce7bb-9f2e-4f63-b838-bbc954580c5f",
   "metadata": {},
   "outputs": [
    {
     "data": {
      "text/plain": [
       "((6818, 12), (1705, 11))"
      ]
     },
     "execution_count": 18,
     "metadata": {},
     "output_type": "execute_result"
    }
   ],
   "source": [
    "train.shape , test.shape\n",
    "# 8:1 , 9:1 정도 비율이 좋음"
   ]
  },
  {
   "cell_type": "code",
   "execution_count": 19,
   "id": "46ab310c-9686-4999-969f-3f5b94fbdc71",
   "metadata": {},
   "outputs": [
    {
     "name": "stdout",
     "output_type": "stream",
     "text": [
      "<class 'pandas.core.frame.DataFrame'>\n",
      "RangeIndex: 6818 entries, 0 to 6817\n",
      "Data columns (total 12 columns):\n",
      " #   Column                     Non-Null Count  Dtype  \n",
      "---  ------                     --------------  -----  \n",
      " 0   Item_Identifier            6818 non-null   object \n",
      " 1   Item_Weight                5656 non-null   float64\n",
      " 2   Item_Fat_Content           6818 non-null   object \n",
      " 3   Item_Visibility            6818 non-null   float64\n",
      " 4   Item_Type                  6818 non-null   object \n",
      " 5   Item_MRP                   6818 non-null   float64\n",
      " 6   Outlet_Identifier          6818 non-null   object \n",
      " 7   Outlet_Establishment_Year  6818 non-null   int64  \n",
      " 8   Outlet_Size                4878 non-null   object \n",
      " 9   Outlet_Location_Type       6818 non-null   object \n",
      " 10  Outlet_Type                6818 non-null   object \n",
      " 11  Item_Outlet_Sales          6818 non-null   float64\n",
      "dtypes: float64(4), int64(1), object(7)\n",
      "memory usage: 639.3+ KB\n"
     ]
    }
   ],
   "source": [
    "train.info()"
   ]
  },
  {
   "cell_type": "code",
   "execution_count": 20,
   "id": "5a9d436c-1785-4b56-9d47-00c2c847e9c5",
   "metadata": {},
   "outputs": [
    {
     "name": "stdout",
     "output_type": "stream",
     "text": [
      "<class 'pandas.core.frame.DataFrame'>\n",
      "RangeIndex: 1705 entries, 0 to 1704\n",
      "Data columns (total 11 columns):\n",
      " #   Column                     Non-Null Count  Dtype  \n",
      "---  ------                     --------------  -----  \n",
      " 0   Item_Identifier            1705 non-null   object \n",
      " 1   Item_Weight                1404 non-null   float64\n",
      " 2   Item_Fat_Content           1705 non-null   object \n",
      " 3   Item_Visibility            1705 non-null   float64\n",
      " 4   Item_Type                  1705 non-null   object \n",
      " 5   Item_MRP                   1705 non-null   float64\n",
      " 6   Outlet_Identifier          1705 non-null   object \n",
      " 7   Outlet_Establishment_Year  1705 non-null   int64  \n",
      " 8   Outlet_Size                1235 non-null   object \n",
      " 9   Outlet_Location_Type       1705 non-null   object \n",
      " 10  Outlet_Type                1705 non-null   object \n",
      "dtypes: float64(3), int64(1), object(7)\n",
      "memory usage: 146.7+ KB\n"
     ]
    }
   ],
   "source": [
    "test.info()"
   ]
  },
  {
   "cell_type": "code",
   "execution_count": 21,
   "id": "11ea883c-b5cc-4828-bb7a-e6f6bb8d8b58",
   "metadata": {},
   "outputs": [
    {
     "data": {
      "text/html": [
       "<div>\n",
       "<style scoped>\n",
       "    .dataframe tbody tr th:only-of-type {\n",
       "        vertical-align: middle;\n",
       "    }\n",
       "\n",
       "    .dataframe tbody tr th {\n",
       "        vertical-align: top;\n",
       "    }\n",
       "\n",
       "    .dataframe thead th {\n",
       "        text-align: right;\n",
       "    }\n",
       "</style>\n",
       "<table border=\"1\" class=\"dataframe\">\n",
       "  <thead>\n",
       "    <tr style=\"text-align: right;\">\n",
       "      <th></th>\n",
       "      <th>Item_Weight</th>\n",
       "      <th>Item_Visibility</th>\n",
       "      <th>Item_MRP</th>\n",
       "      <th>Outlet_Establishment_Year</th>\n",
       "      <th>Item_Outlet_Sales</th>\n",
       "    </tr>\n",
       "  </thead>\n",
       "  <tbody>\n",
       "    <tr>\n",
       "      <th>count</th>\n",
       "      <td>5656.000000</td>\n",
       "      <td>6818.000000</td>\n",
       "      <td>6818.000000</td>\n",
       "      <td>6818.000000</td>\n",
       "      <td>6818.000000</td>\n",
       "    </tr>\n",
       "    <tr>\n",
       "      <th>mean</th>\n",
       "      <td>12.872703</td>\n",
       "      <td>0.066121</td>\n",
       "      <td>140.419533</td>\n",
       "      <td>1997.885890</td>\n",
       "      <td>2190.941459</td>\n",
       "    </tr>\n",
       "    <tr>\n",
       "      <th>std</th>\n",
       "      <td>4.651034</td>\n",
       "      <td>0.051383</td>\n",
       "      <td>62.067861</td>\n",
       "      <td>8.339795</td>\n",
       "      <td>1706.131256</td>\n",
       "    </tr>\n",
       "    <tr>\n",
       "      <th>min</th>\n",
       "      <td>4.555000</td>\n",
       "      <td>0.000000</td>\n",
       "      <td>31.290000</td>\n",
       "      <td>1985.000000</td>\n",
       "      <td>33.290000</td>\n",
       "    </tr>\n",
       "    <tr>\n",
       "      <th>25%</th>\n",
       "      <td>8.785000</td>\n",
       "      <td>0.026914</td>\n",
       "      <td>93.610050</td>\n",
       "      <td>1987.000000</td>\n",
       "      <td>836.577700</td>\n",
       "    </tr>\n",
       "    <tr>\n",
       "      <th>50%</th>\n",
       "      <td>12.600000</td>\n",
       "      <td>0.053799</td>\n",
       "      <td>142.448300</td>\n",
       "      <td>1999.000000</td>\n",
       "      <td>1806.648300</td>\n",
       "    </tr>\n",
       "    <tr>\n",
       "      <th>75%</th>\n",
       "      <td>17.000000</td>\n",
       "      <td>0.095273</td>\n",
       "      <td>185.060150</td>\n",
       "      <td>2004.000000</td>\n",
       "      <td>3115.944000</td>\n",
       "    </tr>\n",
       "    <tr>\n",
       "      <th>max</th>\n",
       "      <td>21.350000</td>\n",
       "      <td>0.328391</td>\n",
       "      <td>266.888400</td>\n",
       "      <td>2009.000000</td>\n",
       "      <td>13086.964800</td>\n",
       "    </tr>\n",
       "  </tbody>\n",
       "</table>\n",
       "</div>"
      ],
      "text/plain": [
       "       Item_Weight  Item_Visibility     Item_MRP  Outlet_Establishment_Year  \\\n",
       "count  5656.000000      6818.000000  6818.000000                6818.000000   \n",
       "mean     12.872703         0.066121   140.419533                1997.885890   \n",
       "std       4.651034         0.051383    62.067861                   8.339795   \n",
       "min       4.555000         0.000000    31.290000                1985.000000   \n",
       "25%       8.785000         0.026914    93.610050                1987.000000   \n",
       "50%      12.600000         0.053799   142.448300                1999.000000   \n",
       "75%      17.000000         0.095273   185.060150                2004.000000   \n",
       "max      21.350000         0.328391   266.888400                2009.000000   \n",
       "\n",
       "       Item_Outlet_Sales  \n",
       "count        6818.000000  \n",
       "mean         2190.941459  \n",
       "std          1706.131256  \n",
       "min            33.290000  \n",
       "25%           836.577700  \n",
       "50%          1806.648300  \n",
       "75%          3115.944000  \n",
       "max         13086.964800  "
      ]
     },
     "execution_count": 21,
     "metadata": {},
     "output_type": "execute_result"
    }
   ],
   "source": [
    "train.describe()"
   ]
  },
  {
   "cell_type": "code",
   "execution_count": 22,
   "id": "98b815ec-da32-4627-817d-386cfcd94e0a",
   "metadata": {},
   "outputs": [
    {
     "data": {
      "text/html": [
       "<div>\n",
       "<style scoped>\n",
       "    .dataframe tbody tr th:only-of-type {\n",
       "        vertical-align: middle;\n",
       "    }\n",
       "\n",
       "    .dataframe tbody tr th {\n",
       "        vertical-align: top;\n",
       "    }\n",
       "\n",
       "    .dataframe thead th {\n",
       "        text-align: right;\n",
       "    }\n",
       "</style>\n",
       "<table border=\"1\" class=\"dataframe\">\n",
       "  <thead>\n",
       "    <tr style=\"text-align: right;\">\n",
       "      <th></th>\n",
       "      <th>Item_Weight</th>\n",
       "      <th>Item_Visibility</th>\n",
       "      <th>Item_MRP</th>\n",
       "      <th>Outlet_Establishment_Year</th>\n",
       "    </tr>\n",
       "  </thead>\n",
       "  <tbody>\n",
       "    <tr>\n",
       "      <th>count</th>\n",
       "      <td>1404.000000</td>\n",
       "      <td>1705.000000</td>\n",
       "      <td>1705.000000</td>\n",
       "      <td>1705.000000</td>\n",
       "    </tr>\n",
       "    <tr>\n",
       "      <th>mean</th>\n",
       "      <td>12.796984</td>\n",
       "      <td>0.066174</td>\n",
       "      <td>143.285107</td>\n",
       "      <td>1997.615836</td>\n",
       "    </tr>\n",
       "    <tr>\n",
       "      <th>std</th>\n",
       "      <td>4.613957</td>\n",
       "      <td>0.052465</td>\n",
       "      <td>63.063146</td>\n",
       "      <td>8.497423</td>\n",
       "    </tr>\n",
       "    <tr>\n",
       "      <th>min</th>\n",
       "      <td>4.555000</td>\n",
       "      <td>0.000000</td>\n",
       "      <td>31.955800</td>\n",
       "      <td>1985.000000</td>\n",
       "    </tr>\n",
       "    <tr>\n",
       "      <th>25%</th>\n",
       "      <td>8.710000</td>\n",
       "      <td>0.027571</td>\n",
       "      <td>94.743600</td>\n",
       "      <td>1987.000000</td>\n",
       "    </tr>\n",
       "    <tr>\n",
       "      <th>50%</th>\n",
       "      <td>12.600000</td>\n",
       "      <td>0.054234</td>\n",
       "      <td>144.512800</td>\n",
       "      <td>1999.000000</td>\n",
       "    </tr>\n",
       "    <tr>\n",
       "      <th>75%</th>\n",
       "      <td>16.700000</td>\n",
       "      <td>0.092927</td>\n",
       "      <td>187.755600</td>\n",
       "      <td>2004.000000</td>\n",
       "    </tr>\n",
       "    <tr>\n",
       "      <th>max</th>\n",
       "      <td>21.350000</td>\n",
       "      <td>0.311090</td>\n",
       "      <td>266.888400</td>\n",
       "      <td>2009.000000</td>\n",
       "    </tr>\n",
       "  </tbody>\n",
       "</table>\n",
       "</div>"
      ],
      "text/plain": [
       "       Item_Weight  Item_Visibility     Item_MRP  Outlet_Establishment_Year\n",
       "count  1404.000000      1705.000000  1705.000000                1705.000000\n",
       "mean     12.796984         0.066174   143.285107                1997.615836\n",
       "std       4.613957         0.052465    63.063146                   8.497423\n",
       "min       4.555000         0.000000    31.955800                1985.000000\n",
       "25%       8.710000         0.027571    94.743600                1987.000000\n",
       "50%      12.600000         0.054234   144.512800                1999.000000\n",
       "75%      16.700000         0.092927   187.755600                2004.000000\n",
       "max      21.350000         0.311090   266.888400                2009.000000"
      ]
     },
     "execution_count": 22,
     "metadata": {},
     "output_type": "execute_result"
    }
   ],
   "source": [
    "test.describe()"
   ]
  },
  {
   "cell_type": "code",
   "execution_count": null,
   "id": "f4f1333f-fe98-4f43-a5a3-64c40c5b0477",
   "metadata": {},
   "outputs": [],
   "source": [
    "# 결측치 존재 확인 , 50% or mean(평균값)으로 채우기"
   ]
  },
  {
   "cell_type": "code",
   "execution_count": 23,
   "id": "a8dbbec5-2c4b-4eaa-8a41-edf86603edac",
   "metadata": {},
   "outputs": [
    {
     "data": {
      "text/html": [
       "<div>\n",
       "<style scoped>\n",
       "    .dataframe tbody tr th:only-of-type {\n",
       "        vertical-align: middle;\n",
       "    }\n",
       "\n",
       "    .dataframe tbody tr th {\n",
       "        vertical-align: top;\n",
       "    }\n",
       "\n",
       "    .dataframe thead th {\n",
       "        text-align: right;\n",
       "    }\n",
       "</style>\n",
       "<table border=\"1\" class=\"dataframe\">\n",
       "  <thead>\n",
       "    <tr style=\"text-align: right;\">\n",
       "      <th></th>\n",
       "      <th>Item_Identifier</th>\n",
       "      <th>Item_Fat_Content</th>\n",
       "      <th>Item_Type</th>\n",
       "      <th>Outlet_Identifier</th>\n",
       "      <th>Outlet_Size</th>\n",
       "      <th>Outlet_Location_Type</th>\n",
       "      <th>Outlet_Type</th>\n",
       "    </tr>\n",
       "  </thead>\n",
       "  <tbody>\n",
       "    <tr>\n",
       "      <th>count</th>\n",
       "      <td>6818</td>\n",
       "      <td>6818</td>\n",
       "      <td>6818</td>\n",
       "      <td>6818</td>\n",
       "      <td>4878</td>\n",
       "      <td>6818</td>\n",
       "      <td>6818</td>\n",
       "    </tr>\n",
       "    <tr>\n",
       "      <th>unique</th>\n",
       "      <td>1554</td>\n",
       "      <td>5</td>\n",
       "      <td>16</td>\n",
       "      <td>10</td>\n",
       "      <td>3</td>\n",
       "      <td>3</td>\n",
       "      <td>4</td>\n",
       "    </tr>\n",
       "    <tr>\n",
       "      <th>top</th>\n",
       "      <td>FDW26</td>\n",
       "      <td>Low Fat</td>\n",
       "      <td>Snack Foods</td>\n",
       "      <td>OUT046</td>\n",
       "      <td>Medium</td>\n",
       "      <td>Tier 3</td>\n",
       "      <td>Supermarket Type1</td>\n",
       "    </tr>\n",
       "    <tr>\n",
       "      <th>freq</th>\n",
       "      <td>9</td>\n",
       "      <td>4092</td>\n",
       "      <td>963</td>\n",
       "      <td>763</td>\n",
       "      <td>2228</td>\n",
       "      <td>2664</td>\n",
       "      <td>4474</td>\n",
       "    </tr>\n",
       "  </tbody>\n",
       "</table>\n",
       "</div>"
      ],
      "text/plain": [
       "       Item_Identifier Item_Fat_Content    Item_Type Outlet_Identifier  \\\n",
       "count             6818             6818         6818              6818   \n",
       "unique            1554                5           16                10   \n",
       "top              FDW26          Low Fat  Snack Foods            OUT046   \n",
       "freq                 9             4092          963               763   \n",
       "\n",
       "       Outlet_Size Outlet_Location_Type        Outlet_Type  \n",
       "count         4878                 6818               6818  \n",
       "unique           3                    3                  4  \n",
       "top         Medium               Tier 3  Supermarket Type1  \n",
       "freq          2228                 2664               4474  "
      ]
     },
     "execution_count": 23,
     "metadata": {},
     "output_type": "execute_result"
    }
   ],
   "source": [
    "# 최빈값 확인 \n",
    "train.describe(include='O')"
   ]
  },
  {
   "cell_type": "code",
   "execution_count": 26,
   "id": "97cced19-b79c-4a1c-b128-ac51fdf3414f",
   "metadata": {},
   "outputs": [
    {
     "data": {
      "text/plain": [
       "Item_Identifier                 0\n",
       "Item_Weight                  1162\n",
       "Item_Fat_Content                0\n",
       "Item_Visibility                 0\n",
       "Item_Type                       0\n",
       "Item_MRP                        0\n",
       "Outlet_Identifier               0\n",
       "Outlet_Establishment_Year       0\n",
       "Outlet_Size                  1940\n",
       "Outlet_Location_Type            0\n",
       "Outlet_Type                     0\n",
       "Item_Outlet_Sales               0\n",
       "dtype: int64"
      ]
     },
     "execution_count": 26,
     "metadata": {},
     "output_type": "execute_result"
    }
   ],
   "source": [
    "train.isnull().sum()"
   ]
  },
  {
   "cell_type": "code",
   "execution_count": 27,
   "id": "a8bf9db2-e948-4d0e-99a4-b145ef242289",
   "metadata": {},
   "outputs": [
    {
     "data": {
      "text/plain": [
       "Item_Identifier                0\n",
       "Item_Weight                  301\n",
       "Item_Fat_Content               0\n",
       "Item_Visibility                0\n",
       "Item_Type                      0\n",
       "Item_MRP                       0\n",
       "Outlet_Identifier              0\n",
       "Outlet_Establishment_Year      0\n",
       "Outlet_Size                  470\n",
       "Outlet_Location_Type           0\n",
       "Outlet_Type                    0\n",
       "dtype: int64"
      ]
     },
     "execution_count": 27,
     "metadata": {},
     "output_type": "execute_result"
    }
   ],
   "source": [
    "test.isnull().sum()"
   ]
  },
  {
   "cell_type": "code",
   "execution_count": 29,
   "id": "0a13b73d-90e0-4368-aa6c-fdd147de2fee",
   "metadata": {},
   "outputs": [
    {
     "data": {
      "text/plain": [
       "771"
      ]
     },
     "execution_count": 29,
     "metadata": {},
     "output_type": "execute_result"
    }
   ],
   "source": [
    "train.isnull().sum().sum()\n",
    "test.isnull().sum().sum()"
   ]
  },
  {
   "cell_type": "markdown",
   "id": "20aaff2c-ff46-403b-aac3-55d744a47b7a",
   "metadata": {
    "jp-MarkdownHeadingCollapsed": true
   },
   "source": [
    "## 데이터 전처리"
   ]
  },
  {
   "cell_type": "code",
   "execution_count": 2,
   "id": "8922d163-5174-4bbb-95ff-5e164d20f54f",
   "metadata": {},
   "outputs": [
    {
     "data": {
      "text/plain": [
       "0        639.1680\n",
       "1        990.7104\n",
       "2       2799.6890\n",
       "3       1176.4686\n",
       "4       3418.8830\n",
       "          ...    \n",
       "6813    3615.2940\n",
       "6814     923.4646\n",
       "6815    2530.7058\n",
       "6816     818.9340\n",
       "6817    1973.4312\n",
       "Name: Item_Outlet_Sales, Length: 6818, dtype: float64"
      ]
     },
     "execution_count": 2,
     "metadata": {},
     "output_type": "execute_result"
    }
   ],
   "source": [
    "# # y값 분할\n",
    "target = train.pop('Item_Outlet_Sales')\n",
    "target"
   ]
  },
  {
   "cell_type": "code",
   "execution_count": 3,
   "id": "6cdf0e83-bb4e-4ed0-8989-a7d7943596bd",
   "metadata": {},
   "outputs": [
    {
     "name": "stdout",
     "output_type": "stream",
     "text": [
      "<class 'pandas.core.frame.DataFrame'>\n",
      "RangeIndex: 1705 entries, 0 to 1704\n",
      "Data columns (total 11 columns):\n",
      " #   Column                     Non-Null Count  Dtype  \n",
      "---  ------                     --------------  -----  \n",
      " 0   Item_Identifier            1705 non-null   object \n",
      " 1   Item_Weight                1705 non-null   float64\n",
      " 2   Item_Fat_Content           1705 non-null   object \n",
      " 3   Item_Visibility            1705 non-null   float64\n",
      " 4   Item_Type                  1705 non-null   object \n",
      " 5   Item_MRP                   1705 non-null   float64\n",
      " 6   Outlet_Identifier          1705 non-null   object \n",
      " 7   Outlet_Establishment_Year  1705 non-null   int64  \n",
      " 8   Outlet_Size                1705 non-null   object \n",
      " 9   Outlet_Location_Type       1705 non-null   object \n",
      " 10  Outlet_Type                1705 non-null   object \n",
      "dtypes: float64(3), int64(1), object(7)\n",
      "memory usage: 146.7+ KB\n"
     ]
    }
   ],
   "source": [
    "# 결측값 채우기(무게 : 최소값, 사이즈 : 최빈값)\n",
    "train['Item_Weight'] = train['Item_Weight'].fillna(train['Item_Weight'].min())\n",
    "train['Outlet_Size'] = train['Outlet_Size'].fillna(train['Outlet_Size'].mode()[0])\n",
    "# train.describe(include='O')\n",
    "test['Item_Weight'] = test['Item_Weight'].fillna(test['Item_Weight'].min())\n",
    "test['Outlet_Size'] = test['Outlet_Size'].fillna(test['Outlet_Size'].mode()[0])\n",
    "test.info()"
   ]
  },
  {
   "cell_type": "code",
   "execution_count": null,
   "id": "28fb0816-ce74-416a-8ffe-5149fe04fb2f",
   "metadata": {},
   "outputs": [],
   "source": [
    "# 이상치 생략"
   ]
  },
  {
   "cell_type": "code",
   "execution_count": null,
   "id": "ea933e67-9698-4b13-8896-26e8119df5e4",
   "metadata": {},
   "outputs": [],
   "source": [
    "# 레이블 인코딩"
   ]
  },
  {
   "cell_type": "code",
   "execution_count": 5,
   "id": "8206ee04-b8d8-4725-b476-a2aac77b48c7",
   "metadata": {},
   "outputs": [
    {
     "data": {
      "text/html": [
       "<div>\n",
       "<style scoped>\n",
       "    .dataframe tbody tr th:only-of-type {\n",
       "        vertical-align: middle;\n",
       "    }\n",
       "\n",
       "    .dataframe tbody tr th {\n",
       "        vertical-align: top;\n",
       "    }\n",
       "\n",
       "    .dataframe thead th {\n",
       "        text-align: right;\n",
       "    }\n",
       "</style>\n",
       "<table border=\"1\" class=\"dataframe\">\n",
       "  <thead>\n",
       "    <tr style=\"text-align: right;\">\n",
       "      <th></th>\n",
       "      <th>Item_Identifier</th>\n",
       "      <th>Item_Weight</th>\n",
       "      <th>Item_Fat_Content</th>\n",
       "      <th>Item_Visibility</th>\n",
       "      <th>Item_Type</th>\n",
       "      <th>Item_MRP</th>\n",
       "      <th>Outlet_Identifier</th>\n",
       "      <th>Outlet_Establishment_Year</th>\n",
       "      <th>Outlet_Size</th>\n",
       "      <th>Outlet_Location_Type</th>\n",
       "      <th>Outlet_Type</th>\n",
       "    </tr>\n",
       "  </thead>\n",
       "  <tbody>\n",
       "    <tr>\n",
       "      <th>0</th>\n",
       "      <td>FDO38</td>\n",
       "      <td>17.250</td>\n",
       "      <td>1</td>\n",
       "      <td>0.073251</td>\n",
       "      <td>3</td>\n",
       "      <td>76.4986</td>\n",
       "      <td>2</td>\n",
       "      <td>2007</td>\n",
       "      <td>1</td>\n",
       "      <td>1</td>\n",
       "      <td>1</td>\n",
       "    </tr>\n",
       "    <tr>\n",
       "      <th>1</th>\n",
       "      <td>FDO32</td>\n",
       "      <td>6.360</td>\n",
       "      <td>1</td>\n",
       "      <td>0.120544</td>\n",
       "      <td>6</td>\n",
       "      <td>45.8060</td>\n",
       "      <td>8</td>\n",
       "      <td>1997</td>\n",
       "      <td>2</td>\n",
       "      <td>0</td>\n",
       "      <td>1</td>\n",
       "    </tr>\n",
       "    <tr>\n",
       "      <th>2</th>\n",
       "      <td>FDT14</td>\n",
       "      <td>10.695</td>\n",
       "      <td>2</td>\n",
       "      <td>0.128247</td>\n",
       "      <td>4</td>\n",
       "      <td>121.8440</td>\n",
       "      <td>3</td>\n",
       "      <td>2009</td>\n",
       "      <td>1</td>\n",
       "      <td>2</td>\n",
       "      <td>2</td>\n",
       "    </tr>\n",
       "    <tr>\n",
       "      <th>3</th>\n",
       "      <td>FDG50</td>\n",
       "      <td>7.405</td>\n",
       "      <td>1</td>\n",
       "      <td>0.015296</td>\n",
       "      <td>3</td>\n",
       "      <td>89.7146</td>\n",
       "      <td>9</td>\n",
       "      <td>1999</td>\n",
       "      <td>1</td>\n",
       "      <td>0</td>\n",
       "      <td>1</td>\n",
       "    </tr>\n",
       "    <tr>\n",
       "      <th>4</th>\n",
       "      <td>FDR11</td>\n",
       "      <td>10.500</td>\n",
       "      <td>2</td>\n",
       "      <td>0.142760</td>\n",
       "      <td>1</td>\n",
       "      <td>159.3578</td>\n",
       "      <td>9</td>\n",
       "      <td>1999</td>\n",
       "      <td>1</td>\n",
       "      <td>0</td>\n",
       "      <td>1</td>\n",
       "    </tr>\n",
       "    <tr>\n",
       "      <th>...</th>\n",
       "      <td>...</td>\n",
       "      <td>...</td>\n",
       "      <td>...</td>\n",
       "      <td>...</td>\n",
       "      <td>...</td>\n",
       "      <td>...</td>\n",
       "      <td>...</td>\n",
       "      <td>...</td>\n",
       "      <td>...</td>\n",
       "      <td>...</td>\n",
       "      <td>...</td>\n",
       "    </tr>\n",
       "    <tr>\n",
       "      <th>1700</th>\n",
       "      <td>NCU18</td>\n",
       "      <td>4.555</td>\n",
       "      <td>1</td>\n",
       "      <td>0.097769</td>\n",
       "      <td>9</td>\n",
       "      <td>142.4496</td>\n",
       "      <td>4</td>\n",
       "      <td>1985</td>\n",
       "      <td>2</td>\n",
       "      <td>0</td>\n",
       "      <td>0</td>\n",
       "    </tr>\n",
       "    <tr>\n",
       "      <th>1701</th>\n",
       "      <td>FDY02</td>\n",
       "      <td>4.555</td>\n",
       "      <td>2</td>\n",
       "      <td>0.153457</td>\n",
       "      <td>4</td>\n",
       "      <td>264.0910</td>\n",
       "      <td>4</td>\n",
       "      <td>1985</td>\n",
       "      <td>2</td>\n",
       "      <td>0</td>\n",
       "      <td>0</td>\n",
       "    </tr>\n",
       "    <tr>\n",
       "      <th>1702</th>\n",
       "      <td>FDI09</td>\n",
       "      <td>20.750</td>\n",
       "      <td>2</td>\n",
       "      <td>0.129864</td>\n",
       "      <td>12</td>\n",
       "      <td>240.1880</td>\n",
       "      <td>3</td>\n",
       "      <td>2009</td>\n",
       "      <td>1</td>\n",
       "      <td>2</td>\n",
       "      <td>2</td>\n",
       "    </tr>\n",
       "    <tr>\n",
       "      <th>1703</th>\n",
       "      <td>DRH23</td>\n",
       "      <td>14.650</td>\n",
       "      <td>1</td>\n",
       "      <td>0.171282</td>\n",
       "      <td>7</td>\n",
       "      <td>54.0614</td>\n",
       "      <td>2</td>\n",
       "      <td>2007</td>\n",
       "      <td>1</td>\n",
       "      <td>1</td>\n",
       "      <td>1</td>\n",
       "    </tr>\n",
       "    <tr>\n",
       "      <th>1704</th>\n",
       "      <td>NCB18</td>\n",
       "      <td>19.600</td>\n",
       "      <td>1</td>\n",
       "      <td>0.041291</td>\n",
       "      <td>9</td>\n",
       "      <td>86.9514</td>\n",
       "      <td>8</td>\n",
       "      <td>1997</td>\n",
       "      <td>2</td>\n",
       "      <td>0</td>\n",
       "      <td>1</td>\n",
       "    </tr>\n",
       "  </tbody>\n",
       "</table>\n",
       "<p>1705 rows × 11 columns</p>\n",
       "</div>"
      ],
      "text/plain": [
       "     Item_Identifier  Item_Weight  Item_Fat_Content  Item_Visibility  \\\n",
       "0              FDO38       17.250                 1         0.073251   \n",
       "1              FDO32        6.360                 1         0.120544   \n",
       "2              FDT14       10.695                 2         0.128247   \n",
       "3              FDG50        7.405                 1         0.015296   \n",
       "4              FDR11       10.500                 2         0.142760   \n",
       "...              ...          ...               ...              ...   \n",
       "1700           NCU18        4.555                 1         0.097769   \n",
       "1701           FDY02        4.555                 2         0.153457   \n",
       "1702           FDI09       20.750                 2         0.129864   \n",
       "1703           DRH23       14.650                 1         0.171282   \n",
       "1704           NCB18       19.600                 1         0.041291   \n",
       "\n",
       "      Item_Type  Item_MRP  Outlet_Identifier  Outlet_Establishment_Year  \\\n",
       "0             3   76.4986                  2                       2007   \n",
       "1             6   45.8060                  8                       1997   \n",
       "2             4  121.8440                  3                       2009   \n",
       "3             3   89.7146                  9                       1999   \n",
       "4             1  159.3578                  9                       1999   \n",
       "...         ...       ...                ...                        ...   \n",
       "1700          9  142.4496                  4                       1985   \n",
       "1701          4  264.0910                  4                       1985   \n",
       "1702         12  240.1880                  3                       2009   \n",
       "1703          7   54.0614                  2                       2007   \n",
       "1704          9   86.9514                  8                       1997   \n",
       "\n",
       "      Outlet_Size  Outlet_Location_Type  Outlet_Type  \n",
       "0               1                     1            1  \n",
       "1               2                     0            1  \n",
       "2               1                     2            2  \n",
       "3               1                     0            1  \n",
       "4               1                     0            1  \n",
       "...           ...                   ...          ...  \n",
       "1700            2                     0            0  \n",
       "1701            2                     0            0  \n",
       "1702            1                     2            2  \n",
       "1703            1                     1            1  \n",
       "1704            2                     0            1  \n",
       "\n",
       "[1705 rows x 11 columns]"
      ]
     },
     "execution_count": 5,
     "metadata": {},
     "output_type": "execute_result"
    }
   ],
   "source": [
    "from sklearn.preprocessing import LabelEncoder\n",
    "cols = train.columns[train.dtypes == object] # 범주형 칼럼 목록 지정\n",
    "for col in cols:\n",
    "    le = LabelEncoder()\n",
    "    le.fit(pd.concat([train[col],test[col]],axis=0))# 행 합치기 train,test 행이 맞지 않음\n",
    "    train[col] = le.fit_transform(train[col])\n",
    "    test[col] = le.transform(test[col])\n",
    "\n",
    "test"
   ]
  },
  {
   "cell_type": "code",
   "execution_count": null,
   "id": "713ae746-cda1-43f7-8704-524a93f73180",
   "metadata": {},
   "outputs": [],
   "source": [
    "#컬럼제거"
   ]
  },
  {
   "cell_type": "code",
   "execution_count": 6,
   "id": "20f521b1-b23f-4c93-87e1-6eed757bff51",
   "metadata": {},
   "outputs": [],
   "source": [
    "train.drop('Item_Identifier',axis=1,inplace=True)\n",
    "test.drop('Item_Identifier',axis=1,inplace=True)"
   ]
  },
  {
   "cell_type": "code",
   "execution_count": 43,
   "id": "7133efe4-2883-48af-bdf0-911701dca66b",
   "metadata": {},
   "outputs": [
    {
     "data": {
      "text/html": [
       "<div>\n",
       "<style scoped>\n",
       "    .dataframe tbody tr th:only-of-type {\n",
       "        vertical-align: middle;\n",
       "    }\n",
       "\n",
       "    .dataframe tbody tr th {\n",
       "        vertical-align: top;\n",
       "    }\n",
       "\n",
       "    .dataframe thead th {\n",
       "        text-align: right;\n",
       "    }\n",
       "</style>\n",
       "<table border=\"1\" class=\"dataframe\">\n",
       "  <thead>\n",
       "    <tr style=\"text-align: right;\">\n",
       "      <th></th>\n",
       "      <th>Item_Weight</th>\n",
       "      <th>Item_Fat_Content</th>\n",
       "      <th>Item_Visibility</th>\n",
       "      <th>Item_Type</th>\n",
       "      <th>Item_MRP</th>\n",
       "      <th>Outlet_Identifier</th>\n",
       "      <th>Outlet_Establishment_Year</th>\n",
       "      <th>Outlet_Size</th>\n",
       "      <th>Outlet_Location_Type</th>\n",
       "      <th>Outlet_Type</th>\n",
       "    </tr>\n",
       "  </thead>\n",
       "  <tbody>\n",
       "    <tr>\n",
       "      <th>0</th>\n",
       "      <td>12.500</td>\n",
       "      <td>1</td>\n",
       "      <td>0.006760</td>\n",
       "      <td>9</td>\n",
       "      <td>42.8112</td>\n",
       "      <td>1</td>\n",
       "      <td>1987</td>\n",
       "      <td>0</td>\n",
       "      <td>2</td>\n",
       "      <td>1</td>\n",
       "    </tr>\n",
       "    <tr>\n",
       "      <th>1</th>\n",
       "      <td>12.600</td>\n",
       "      <td>1</td>\n",
       "      <td>0.048741</td>\n",
       "      <td>1</td>\n",
       "      <td>60.4194</td>\n",
       "      <td>1</td>\n",
       "      <td>1987</td>\n",
       "      <td>0</td>\n",
       "      <td>2</td>\n",
       "      <td>1</td>\n",
       "    </tr>\n",
       "    <tr>\n",
       "      <th>2</th>\n",
       "      <td>12.800</td>\n",
       "      <td>1</td>\n",
       "      <td>0.075997</td>\n",
       "      <td>6</td>\n",
       "      <td>97.1410</td>\n",
       "      <td>1</td>\n",
       "      <td>1987</td>\n",
       "      <td>0</td>\n",
       "      <td>2</td>\n",
       "      <td>1</td>\n",
       "    </tr>\n",
       "    <tr>\n",
       "      <th>3</th>\n",
       "      <td>6.635</td>\n",
       "      <td>2</td>\n",
       "      <td>0.046351</td>\n",
       "      <td>5</td>\n",
       "      <td>37.4506</td>\n",
       "      <td>2</td>\n",
       "      <td>2007</td>\n",
       "      <td>1</td>\n",
       "      <td>1</td>\n",
       "      <td>1</td>\n",
       "    </tr>\n",
       "    <tr>\n",
       "      <th>4</th>\n",
       "      <td>13.500</td>\n",
       "      <td>2</td>\n",
       "      <td>0.125170</td>\n",
       "      <td>13</td>\n",
       "      <td>261.4910</td>\n",
       "      <td>1</td>\n",
       "      <td>1987</td>\n",
       "      <td>0</td>\n",
       "      <td>2</td>\n",
       "      <td>1</td>\n",
       "    </tr>\n",
       "    <tr>\n",
       "      <th>...</th>\n",
       "      <td>...</td>\n",
       "      <td>...</td>\n",
       "      <td>...</td>\n",
       "      <td>...</td>\n",
       "      <td>...</td>\n",
       "      <td>...</td>\n",
       "      <td>...</td>\n",
       "      <td>...</td>\n",
       "      <td>...</td>\n",
       "      <td>...</td>\n",
       "    </tr>\n",
       "    <tr>\n",
       "      <th>6813</th>\n",
       "      <td>17.750</td>\n",
       "      <td>1</td>\n",
       "      <td>0.097863</td>\n",
       "      <td>8</td>\n",
       "      <td>239.3196</td>\n",
       "      <td>9</td>\n",
       "      <td>1999</td>\n",
       "      <td>1</td>\n",
       "      <td>0</td>\n",
       "      <td>1</td>\n",
       "    </tr>\n",
       "    <tr>\n",
       "      <th>6814</th>\n",
       "      <td>13.000</td>\n",
       "      <td>1</td>\n",
       "      <td>0.035252</td>\n",
       "      <td>9</td>\n",
       "      <td>48.0034</td>\n",
       "      <td>3</td>\n",
       "      <td>2009</td>\n",
       "      <td>1</td>\n",
       "      <td>2</td>\n",
       "      <td>2</td>\n",
       "    </tr>\n",
       "    <tr>\n",
       "      <th>6815</th>\n",
       "      <td>4.785</td>\n",
       "      <td>1</td>\n",
       "      <td>0.092576</td>\n",
       "      <td>1</td>\n",
       "      <td>121.0098</td>\n",
       "      <td>6</td>\n",
       "      <td>2004</td>\n",
       "      <td>2</td>\n",
       "      <td>1</td>\n",
       "      <td>1</td>\n",
       "    </tr>\n",
       "    <tr>\n",
       "      <th>6816</th>\n",
       "      <td>6.980</td>\n",
       "      <td>1</td>\n",
       "      <td>0.041189</td>\n",
       "      <td>3</td>\n",
       "      <td>82.8934</td>\n",
       "      <td>7</td>\n",
       "      <td>2002</td>\n",
       "      <td>1</td>\n",
       "      <td>1</td>\n",
       "      <td>1</td>\n",
       "    </tr>\n",
       "    <tr>\n",
       "      <th>6817</th>\n",
       "      <td>4.555</td>\n",
       "      <td>1</td>\n",
       "      <td>0.015360</td>\n",
       "      <td>9</td>\n",
       "      <td>163.7526</td>\n",
       "      <td>5</td>\n",
       "      <td>1985</td>\n",
       "      <td>1</td>\n",
       "      <td>2</td>\n",
       "      <td>3</td>\n",
       "    </tr>\n",
       "  </tbody>\n",
       "</table>\n",
       "<p>6818 rows × 10 columns</p>\n",
       "</div>"
      ],
      "text/plain": [
       "      Item_Weight  Item_Fat_Content  Item_Visibility  Item_Type  Item_MRP  \\\n",
       "0          12.500                 1         0.006760          9   42.8112   \n",
       "1          12.600                 1         0.048741          1   60.4194   \n",
       "2          12.800                 1         0.075997          6   97.1410   \n",
       "3           6.635                 2         0.046351          5   37.4506   \n",
       "4          13.500                 2         0.125170         13  261.4910   \n",
       "...           ...               ...              ...        ...       ...   \n",
       "6813       17.750                 1         0.097863          8  239.3196   \n",
       "6814       13.000                 1         0.035252          9   48.0034   \n",
       "6815        4.785                 1         0.092576          1  121.0098   \n",
       "6816        6.980                 1         0.041189          3   82.8934   \n",
       "6817        4.555                 1         0.015360          9  163.7526   \n",
       "\n",
       "      Outlet_Identifier  Outlet_Establishment_Year  Outlet_Size  \\\n",
       "0                     1                       1987            0   \n",
       "1                     1                       1987            0   \n",
       "2                     1                       1987            0   \n",
       "3                     2                       2007            1   \n",
       "4                     1                       1987            0   \n",
       "...                 ...                        ...          ...   \n",
       "6813                  9                       1999            1   \n",
       "6814                  3                       2009            1   \n",
       "6815                  6                       2004            2   \n",
       "6816                  7                       2002            1   \n",
       "6817                  5                       1985            1   \n",
       "\n",
       "      Outlet_Location_Type  Outlet_Type  \n",
       "0                        2            1  \n",
       "1                        2            1  \n",
       "2                        2            1  \n",
       "3                        1            1  \n",
       "4                        2            1  \n",
       "...                    ...          ...  \n",
       "6813                     0            1  \n",
       "6814                     2            2  \n",
       "6815                     1            1  \n",
       "6816                     1            1  \n",
       "6817                     2            3  \n",
       "\n",
       "[6818 rows x 10 columns]"
      ]
     },
     "execution_count": 43,
     "metadata": {},
     "output_type": "execute_result"
    }
   ],
   "source": [
    "train"
   ]
  },
  {
   "cell_type": "markdown",
   "id": "8e953e66-4349-4fb3-b13e-191caf1caca4",
   "metadata": {
    "jp-MarkdownHeadingCollapsed": true
   },
   "source": [
    "## 검증데이터 분할 trian. - val (8,2)"
   ]
  },
  {
   "cell_type": "code",
   "execution_count": 7,
   "id": "872b716e-960b-4afe-be90-269dab853e1e",
   "metadata": {},
   "outputs": [
    {
     "data": {
      "text/plain": [
       "((5454, 10), (1364, 10), (5454,), (1364,))"
      ]
     },
     "execution_count": 7,
     "metadata": {},
     "output_type": "execute_result"
    }
   ],
   "source": [
    "from sklearn.model_selection import train_test_split\n",
    "\n",
    "X_train,X_val,y_train, y_val = train_test_split(\n",
    "    train,\n",
    "    target,\n",
    "    test_size=0.2,\n",
    "    random_state = 0\n",
    ")\n",
    "X_train.shape,X_val.shape,y_train.shape, y_val.shape"
   ]
  },
  {
   "cell_type": "markdown",
   "id": "1adcea7b-d9a2-4781-9545-e25ac4930817",
   "metadata": {},
   "source": [
    "## 머신러닝학습 및 평가 (MSE , MAE , R2..)"
   ]
  },
  {
   "cell_type": "code",
   "execution_count": 8,
   "id": "1bbd3998-3b84-430f-abd1-0de5f6e5a076",
   "metadata": {},
   "outputs": [
    {
     "data": {
      "text/plain": [
       "array([3006.53001011, 1386.35244112, 1610.9644381 , ..., 2265.01933974,\n",
       "       4071.18108208, 3489.44301098])"
      ]
     },
     "execution_count": 8,
     "metadata": {},
     "output_type": "execute_result"
    }
   ],
   "source": [
    "from sklearn.linear_model import LinearRegression\n",
    "lr = LinearRegression() #모델가져오기\n",
    "lr.fit(X_train , y_train) #학습\n",
    "y_pred = lr.predict(X_val) # 예측\n",
    "y_pred"
   ]
  },
  {
   "cell_type": "code",
   "execution_count": 15,
   "id": "e7fffc1b-cda4-4c7c-bfe1-195b5b184817",
   "metadata": {},
   "outputs": [],
   "source": [
    "from sklearn.metrics import mean_squared_error\n",
    "from sklearn.metrics import mean_absolute_error\n",
    "from sklearn.metrics import r2_score\n",
    "from sklearn.metrics import root_mean_squared_error\n"
   ]
  },
  {
   "cell_type": "code",
   "execution_count": 66,
   "id": "a78a303d-181d-439c-aaaa-0a1c74a67bbe",
   "metadata": {},
   "outputs": [
    {
     "name": "stdout",
     "output_type": "stream",
     "text": [
      "MSE :  1111526.442702285\n",
      "MAE :  732.8448115843846\n",
      "RMSE :  1054.289544054329\n",
      "R2 :  0.571838981005607\n"
     ]
    }
   ],
   "source": [
    "#평가\n",
    "# from sklearn.metrics  import mean_squred_error #MSE (평균 제곱 오차)\n",
    "# from sklearn.metrics  import mean_absolute_error #MAE (쳥균 절대 오차)\n",
    "# from sklearn.metrics  import root_mean_squared_error #RMSE (제곱 평균 오차 루트)\n",
    "# from sklearn.metrics  import r2_score #R2Score (결정계수)\n",
    "\n",
    "lr_mse = mean_squared_error(y_val , y_pred)\n",
    "lr_mae = mean_absolute_error(y_val , y_pred)\n",
    "lr_rmse = root_mean_squared_error(y_val, y_pred)\n",
    "lr_r2 = r2_score(y_val,y_pred)\n",
    "\n",
    "print(\"MSE : \",lr_mse ) #오차를 제곱해 쳥균을 낸 값 - 값이 클수록 예측이 실제와 다름\n",
    "print(\"MAE : \",lr_mae ) #오차를 젤대값으로 계산- 값이 클수록 예측이 실제와 다름\n",
    "print(\"RMSE : \",lr_rmse)\n",
    "print(\"R2 : \",lr_r2)\n",
    "\n",
    "#MSE / MAE / RMCS 상대적인 기분\n",
    "#평균적으로 Y값의 10%이하 :준수한 성능\n",
    "# 평균적으로 Y값의 10~30% :  보통\n",
    "#Y 쳥쥰값의 30% 이상 : 낮은 모델\n",
    "# ex) 시럼점수(0->100 예측) -> RMSE = 10 - 문제\n",
    "#아파트 가격(30평 )\n",
    "\n",
    "#R2\n",
    "# 0.7이상 :좋은 모델\n",
    "#0.5'~0,7 : 보통\n",
    "#03 , 0.5 : 낮은 모델\n"
   ]
  },
  {
   "cell_type": "code",
   "execution_count": 16,
   "id": "11ef579a-502f-46b0-9848-40def3668928",
   "metadata": {},
   "outputs": [
    {
     "name": "stdout",
     "output_type": "stream",
     "text": [
      "MSE :  1111526.442702285\n",
      "MAE :  732.8448115843846\n",
      "RMSE :  1054.289544054329\n",
      "R2 :  0.571838981005607\n"
     ]
    }
   ],
   "source": [
    "#lightGBM 학습\n",
    "import lightgbm as lgb\n",
    "model = lgb.LGBMRegressor(random_state=0, verbose=-1)\n",
    "model.fit(X_train, y_train)\n",
    "y_pred_2 = model.predict(X_val)\n",
    "\n",
    "lgm_mse = mean_squared_error(y_val , y_pred_2)\n",
    "lgm_mae = mean_absolute_error(y_val , y_pred_2)\n",
    "lgm_rmse = root_mean_squared_error(y_val, y_pred_2)\n",
    "lgm_r2 = r2_score(y_val,y_pred_2)\n",
    "\n",
    "print(\"MSE : \",lgm_mse ) #오차를 제곱해 쳥균을 낸 값 - 값이 클수록 예측이 실제와 다름\n",
    "print(\"MAE : \",lgm_mae ) #오차를 젤대값으로 계산- 값이 클수록 예측이 실제와 다름\n",
    "print(\"RMSE : \",lgm_rmse)\n",
    "print(\"R2 : \",lgm_r2)"
   ]
  },
  {
   "cell_type": "markdown",
   "id": "dd08787d-5c30-49b9-b53f-1d9e24f81dae",
   "metadata": {
    "jp-MarkdownHeadingCollapsed": true
   },
   "source": [
    "## 01_파일로 저장(생략)"
   ]
  },
  {
   "cell_type": "code",
   "execution_count": 13,
   "id": "44ba713f-3fa5-494d-9a64-41a94df4fe04",
   "metadata": {},
   "outputs": [],
   "source": [
    "# pred = model.predict(test)\n",
    "# # pred\n",
    "\n",
    "# submit = pd.DataFrame({'pred':pred})\n",
    "# submit.to_csv(\"result.csv\", index=False)\n"
   ]
  },
  {
   "cell_type": "markdown",
   "id": "887836d8-63de-48eb-9364-69e303af5ce7",
   "metadata": {},
   "source": [
    "# 02"
   ]
  },
  {
   "cell_type": "code",
   "execution_count": 17,
   "id": "4895cf74-bb1d-4f96-96ac-2e9a0334cc55",
   "metadata": {},
   "outputs": [
    {
     "data": {
      "text/plain": [
       "[]"
      ]
     },
     "execution_count": 17,
     "metadata": {},
     "output_type": "execute_result"
    }
   ],
   "source": [
    "#-----------------\n",
    "# 임계값 조정\n",
    "#-----------------\n",
    "TARGET_CORR_TH = 0.03 #상과계수 임계값\n",
    "\n",
    "#숫자형 기준으로 상관계수 계산 # y값과의 영향 확인 \n",
    "df_corr = train.copy()\n",
    "df_corr['__target__'] = y_train # y_train추가\n",
    "corr_with_target = df_corr.corr(numeric_only=True)['__target__'].drop('__target__')  #타겟과 나머지 상관관계 확인 + 자기 것은 제외\n",
    "corr_with_target\n",
    "\n",
    "#유지할 컬럼(=타깃과의 절대 상관이 임계값 이상인 컬럼만 추출) # y값과의 영향이 있는 것만 추출\n",
    "keep_features = corr_with_target[corr_with_target.abs() >= TARGET_CORR_TH].index.tolist() # abs : 절댁값 구하기 , 0.3보다 큰컬럼들을 list로 추출\n",
    "keep_features\n",
    "\n",
    "#제거할 컬럼 추출\n",
    "problem_features = corr_with_target[corr_with_target.abs() < TARGET_CORR_TH].index.tolist() \n",
    "problem_features"
   ]
  },
  {
   "cell_type": "code",
   "execution_count": 10,
   "id": "0ec0cb81-0f52-4f57-9f3e-9ffaf64293f3",
   "metadata": {},
   "outputs": [],
   "source": [
    "# 너 지금 눈꼽이 얼마나 심각할까? ㅎㅎㅎㅎ\n",
    "# 일단 확실한거 지금 내 상태가 진짜 심각하다는 것\n",
    "# 집가고 싶다\n",
    "# 빨리 씻고 딥슬립 하고 싶다. 던질거야!!!\n",
    "# ---------------\n",
    "# 컬럼제거\n",
    "# ---------------\n",
    "\n",
    "train.drop('Item_Fat_Content',axis=1,inplace = True)\n",
    "train.drop('Item_Type',axis=1,inplace = True)\n",
    "\n",
    "test.drop('Item_Fat_Content',axis=1,inplace = True)\n",
    "test.drop('Item_Type',axis=1,inplace = True)"
   ]
  },
  {
   "cell_type": "code",
   "execution_count": 11,
   "id": "3c4120e2-8cb7-41a7-aa2b-266c47f8ed91",
   "metadata": {},
   "outputs": [
    {
     "data": {
      "text/plain": [
       "((6818, 8), (1705, 8))"
      ]
     },
     "execution_count": 11,
     "metadata": {},
     "output_type": "execute_result"
    }
   ],
   "source": [
    "# ---------------\n",
    "# 확인\n",
    "# ---------------\n",
    "train.shape , test.shape"
   ]
  },
  {
   "cell_type": "code",
   "execution_count": 12,
   "id": "6b452a45-af6d-4ab4-93d3-6fd30653f2b1",
   "metadata": {},
   "outputs": [],
   "source": [
    "# 아름이 보고싶다"
   ]
  },
  {
   "cell_type": "code",
   "execution_count": null,
   "id": "a7fcf7cd-09a3-4be0-839a-6f4c1aa3bd7c",
   "metadata": {},
   "outputs": [],
   "source": [
    "# "
   ]
  },
  {
   "cell_type": "code",
   "execution_count": 14,
   "id": "bec53627-3622-4cb5-9e14-543c1b757ebd",
   "metadata": {},
   "outputs": [
    {
     "data": {
      "text/plain": [
       "((5454, 8), (1364, 8), (5454,), (1364,))"
      ]
     },
     "execution_count": 14,
     "metadata": {},
     "output_type": "execute_result"
    }
   ],
   "source": [
    "from sklearn.model_selection import train_test_split\n",
    "\n",
    "X_train_re,X_val_re,y_train_re, y_val_re = train_test_split(\n",
    "    train,\n",
    "    target,\n",
    "    test_size=0.2,\n",
    "    random_state = 0\n",
    ")\n",
    "X_train_re.shape,X_val_re.shape,y_train_re.shape, y_val_re.shape"
   ]
  },
  {
   "cell_type": "code",
   "execution_count": 18,
   "id": "96657072-a706-47a4-9dc8-717f854688d9",
   "metadata": {},
   "outputs": [],
   "source": [
    "import lightgbm as lgb\n",
    "model = lgb.LGBMRegressor(random_state=0, verbose=-1)\n",
    "model.fit(X_train_re, y_train_re)\n",
    "y_pred_2_re = model.predict(X_val_re)"
   ]
  },
  {
   "cell_type": "code",
   "execution_count": 19,
   "id": "d900f46a-f0c3-44eb-9492-120d9e77c2c9",
   "metadata": {},
   "outputs": [
    {
     "name": "stdout",
     "output_type": "stream",
     "text": [
      "MSE :  1108334.9408928182\n",
      "MAE :  736.8110133347378\n",
      "RMSE :  1052.7748766440136\n",
      "R2 :  0.5730683504694064\n"
     ]
    }
   ],
   "source": [
    "#성능지표 확인\n",
    "lgm_mse_re = mean_squared_error(y_val_re , y_pred_2_re)\n",
    "lgm_mae_re = mean_absolute_error(y_val_re , y_pred_2_re)\n",
    "lgm_rmse_re = root_mean_squared_error(y_val_re, y_pred_2_re)\n",
    "lgm_r2_re = r2_score(y_val_re,y_pred_2_re)\n",
    "\n",
    "print(\"MSE : \",lgm_mse_re ) #오차를 제곱해 쳥균을 낸 값 - 값이 클수록 예측이 실제와 다름\n",
    "print(\"MAE : \",lgm_mae_re ) #오차를 젤대값으로 계산- 값이 클수록 예측이 실제와 다름\n",
    "print(\"RMSE : \",lgm_rmse_re)\n",
    "print(\"R2 : \",lgm_r2_re)"
   ]
  },
  {
   "cell_type": "code",
   "execution_count": null,
   "id": "0a632308-f6cb-4f4b-a502-cd16bd00830b",
   "metadata": {},
   "outputs": [],
   "source": []
  },
  {
   "cell_type": "code",
   "execution_count": null,
   "id": "73654098-8da9-49a7-9d46-135c7ef4f194",
   "metadata": {},
   "outputs": [],
   "source": []
  },
  {
   "cell_type": "code",
   "execution_count": null,
   "id": "bc97246b-21de-4472-ab6b-9026764a34d6",
   "metadata": {},
   "outputs": [],
   "source": []
  },
  {
   "cell_type": "code",
   "execution_count": null,
   "id": "1b974d9a-687c-453e-b13f-ac745a05328a",
   "metadata": {},
   "outputs": [],
   "source": []
  }
 ],
 "metadata": {
  "kernelspec": {
   "display_name": "Python 3 (ipykernel)",
   "language": "python",
   "name": "python3"
  },
  "language_info": {
   "codemirror_mode": {
    "name": "ipython",
    "version": 3
   },
   "file_extension": ".py",
   "mimetype": "text/x-python",
   "name": "python",
   "nbconvert_exporter": "python",
   "pygments_lexer": "ipython3",
   "version": "3.11.6"
  }
 },
 "nbformat": 4,
 "nbformat_minor": 5
}
