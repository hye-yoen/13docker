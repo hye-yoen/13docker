{
 "cells": [
  {
   "cell_type": "code",
   "execution_count": null,
   "id": "bbcf7442-b3d7-4ffe-b13b-0ce83cf4975c",
   "metadata": {},
   "outputs": [],
   "source": [
    "# 문제정의(KAGGLE : https://www.kaggle.com/competitions/house-prices-advanced-regression-techniques/overview)\n",
    "\n",
    "# ---------------------------\n",
    "## 1. 해결과제\n",
    "# ---------------------------\n",
    "# - 주어진 주택 데이터(물리적 특성 + 주변 환경)를 이용해 **최종 판매 가격(SalePrice)** 예측\n",
    "# - 단순 선형 회귀가 아니라 다양한 회귀 기법을 적용해 성능 최적화가 목표\n",
    "\n",
    "# ---------------------------\n",
    "# 2. 타겟 변수\n",
    "# ---------------------------\n",
    "# - **SalePrice**  \n",
    "# - 주택의 실제 판매 가격 (회귀 문제의 종속 변수)\n",
    "\n",
    "# ---------------------------\n",
    "# 3 데이터셋 컬럼 정리\n",
    "# ---------------------------\n",
    "# ## 1). ID / Target\n",
    "# - **Id**: 샘플 고유 번호\n",
    "# - **SalePrice**: 주택 판매 가격 (타겟 변수, train에만 존재)\n",
    "\n",
    "# ---\n",
    "\n",
    "# ## 2). 주택 일반 정보\n",
    "# - **MSSubClass**: 건물 클래스 (주택 유형 코드)\n",
    "# - **MSZoning**: 구역 분류 (주거, 상업 등)\n",
    "# - **Street**: 도로 종류 (포장/비포장)\n",
    "# - **Alley**: 골목 접근 유형\n",
    "# - **LotFrontage**: 도로와 접한 면적 길이 (ft)\n",
    "# - **LotArea**: 대지 면적 (sq ft)\n",
    "# - **LotShape**: 대지 형태 (정방형/불규칙 등)\n",
    "# - **LandContour**: 지형 윤곽 (평지, 경사 등)\n",
    "# - **Utilities**: 사용 가능한 설비 (전기, 수도 등)\n",
    "# - **LotConfig**: 대지 구성 (독립, 구석, 4면도로 등)\n",
    "# - **LandSlope**: 대지 경사 정도\n",
    "# - **Neighborhood**: 주택이 위치한 동네\n",
    "# - **Condition1**: 주요 도로/철도 근접 조건\n",
    "# - **Condition2**: 보조 도로/철도 근접 조건\n",
    "# - **BldgType**: 건물 유형 (단독, 연립, 아파트 등)\n",
    "# - **HouseStyle**: 주택 스타일 (1층, 2층, 다층 등)\n",
    "\n",
    "# ---\n",
    "\n",
    "# ## 3). 건축 관련\n",
    "# - **OverallQual**: 전반적 자재와 마감 품질 (1~10)\n",
    "# - **OverallCond**: 전반적 주택 상태 (1~10)\n",
    "# - **YearBuilt**: 건축 연도\n",
    "# - **YearRemodAdd**: 리모델링 연도\n",
    "# - **RoofStyle**: 지붕 형태\n",
    "# - **RoofMatl**: 지붕 자재\n",
    "# - **Exterior1st**: 외장재 1\n",
    "# - **Exterior2nd**: 외장재 2\n",
    "# - **MasVnrType**: 벽돌 베니어 유형\n",
    "# - **MasVnrArea**: 벽돌 베니어 면적 (sq ft)\n",
    "# - **ExterQual**: 외장재 품질\n",
    "# - **ExterCond**: 외장재 상태\n",
    "\n",
    "# ---\n",
    "\n",
    "# ## 4). 기초/지하\n",
    "# - **Foundation**: 기초 유형\n",
    "# - **BsmtQual**: 지하 높이\n",
    "# - **BsmtCond**: 지하 상태\n",
    "# - **BsmtExposure**: 지하 채광 정도\n",
    "# - **BsmtFinType1**: 지하 마감 유형 1\n",
    "# - **BsmtFinSF1**: 지하 마감 면적 1 (sq ft)\n",
    "# - **BsmtFinType2**: 지하 마감 유형 2\n",
    "# - **BsmtFinSF2**: 지하 마감 면적 2 (sq ft)\n",
    "# - **BsmtUnfSF**: 지하 미마감 면적 (sq ft)\n",
    "# - **TotalBsmtSF**: 지하 전체 면적 (sq ft)\n",
    "\n",
    "# ---\n",
    "\n",
    "# ## 5). 생활 공간\n",
    "# - **Heating**: 난방 종류\n",
    "# - **HeatingQC**: 난방 품질\n",
    "# - **CentralAir**: 중앙 에어컨 유무\n",
    "# - **Electrical**: 전기 시스템\n",
    "# - **1stFlrSF**: 1층 면적 (sq ft)\n",
    "# - **2ndFlrSF**: 2층 면적 (sq ft)\n",
    "# - **LowQualFinSF**: 낮은 품질 마감 면적 (sq ft)\n",
    "# - **GrLivArea**: 지상 생활 면적 (sq ft)\n",
    "\n",
    "# ---\n",
    "\n",
    "# ## 6). 방 관련\n",
    "# - **BsmtFullBath**: 지하 전체 욕실 개수\n",
    "# - **BsmtHalfBath**: 지하 반 욕실 개수\n",
    "# - **FullBath**: 전체 욕실 개수\n",
    "# - **HalfBath**: 반 욕실 개수\n",
    "# - **BedroomAbvGr**: 지상 침실 개수\n",
    "# - **KitchenAbvGr**: 지상 주방 개수\n",
    "# - **KitchenQual**: 주방 품질\n",
    "# - **TotRmsAbvGrd**: 지상 전체 방 개수\n",
    "# - **Functional**: 주택 기능 상태 (정상/이상 등)\n",
    "\n",
    "# ---\n",
    "\n",
    "# ## 7). 기타 공간\n",
    "# - **Fireplaces**: 벽난로 개수\n",
    "# - **FireplaceQu**: 벽난로 품질\n",
    "# - **GarageType**: 차고 유형\n",
    "# - **GarageYrBlt**: 차고 건축 연도\n",
    "# - **GarageFinish**: 차고 내부 마감\n",
    "# - **GarageCars**: 차고 차량 수용 가능 대수\n",
    "# - **GarageArea**: 차고 면적 (sq ft)\n",
    "# - **GarageQual**: 차고 품질\n",
    "# - **GarageCond**: 차고 상태\n",
    "# - **PavedDrive**: 포장 진입로 여부\n",
    "\n",
    "# ---\n",
    "\n",
    "# ## 8). 외부/부속 공간\n",
    "# - **WoodDeckSF**: 목재 데크 면적 (sq ft)\n",
    "# - **OpenPorchSF**: 오픈 현관 면적 (sq ft)\n",
    "# - **EnclosedPorch**: 밀폐 현관 면적 (sq ft)\n",
    "# - **3SsnPorch**: 3계절용 현관 면적 (sq ft)\n",
    "# - **ScreenPorch**: 스크린 현관 면적 (sq ft)\n",
    "# - **PoolArea**: 수영장 면적 (sq ft)\n",
    "# - **PoolQC**: 수영장 품질\n",
    "# - **Fence**: 울타리 품질\n",
    "# - **MiscFeature**: 기타 특이 시설\n",
    "# - **MiscVal**: 기타 시설 가치\n",
    "\n",
    "# ---\n",
    "\n",
    "# ## 9). 판매 정보\n",
    "# - **MoSold**: 판매 월\n",
    "# - **YrSold**: 판매 연도\n",
    "# - **SaleType**: 판매 유형\n",
    "# - **SaleCondition**: 판매 조건\n"
   ]
  },
  {
   "cell_type": "code",
   "execution_count": null,
   "id": "6806a37a-0b20-4369-b3d2-c57d2d4f06a0",
   "metadata": {},
   "outputs": [],
   "source": [
    "# ---------------------------------\n",
    "# 라이브러리 가져오기\n",
    "# ---------------------------------"
   ]
  },
  {
   "cell_type": "code",
   "execution_count": 2,
   "id": "5179b335-a50b-4f10-9add-b1975ccc75a4",
   "metadata": {},
   "outputs": [],
   "source": [
    "import pandas as pd\n",
    "train = pd.read_csv(\"train.csv\")\n",
    "test = pd.read_csv(\"test.csv\")"
   ]
  },
  {
   "cell_type": "code",
   "execution_count": null,
   "id": "e652879b-3b12-44ba-a235-78cb0d6bfef7",
   "metadata": {},
   "outputs": [],
   "source": [
    "# ---------------------------------\n",
    "# EDA\n",
    "# ---------------------------------"
   ]
  },
  {
   "cell_type": "code",
   "execution_count": 7,
   "id": "8867058a-f464-4a93-a7f8-cd168e0c401c",
   "metadata": {},
   "outputs": [],
   "source": [
    "# train.head(5)"
   ]
  },
  {
   "cell_type": "code",
   "execution_count": 9,
   "id": "92403aa0-d9cb-49e7-974e-331340c8927f",
   "metadata": {},
   "outputs": [],
   "source": [
    "# test.head(5)"
   ]
  },
  {
   "cell_type": "code",
   "execution_count": 13,
   "id": "41b632b0-581a-4ee9-8cba-e2dd1724d2b7",
   "metadata": {},
   "outputs": [
    {
     "data": {
      "text/plain": [
       "((1460, 81), (1459, 80))"
      ]
     },
     "execution_count": 13,
     "metadata": {},
     "output_type": "execute_result"
    }
   ],
   "source": [
    "train.shape , test.shape"
   ]
  },
  {
   "cell_type": "code",
   "execution_count": 28,
   "id": "4bc20b81-cc5d-4ff2-8c0b-40efeaba8565",
   "metadata": {},
   "outputs": [
    {
     "data": {
      "text/plain": [
       "0       208500\n",
       "1       181500\n",
       "2       223500\n",
       "3       140000\n",
       "4       250000\n",
       "         ...  \n",
       "1455    175000\n",
       "1456    210000\n",
       "1457    266500\n",
       "1458    142125\n",
       "1459    147500\n",
       "Name: SalePrice, Length: 1460, dtype: int64"
      ]
     },
     "execution_count": 28,
     "metadata": {},
     "output_type": "execute_result"
    }
   ],
   "source": [
    "target=train.pop('SalePrice')\n",
    "target"
   ]
  },
  {
   "cell_type": "code",
   "execution_count": 29,
   "id": "647125e0-93dd-4bbd-9739-5d8d55819cf0",
   "metadata": {},
   "outputs": [
    {
     "name": "stdout",
     "output_type": "stream",
     "text": [
      "<class 'pandas.core.frame.DataFrame'>\n",
      "RangeIndex: 1460 entries, 0 to 1459\n",
      "Data columns (total 12 columns):\n",
      " #   Column        Non-Null Count  Dtype \n",
      "---  ------        --------------  ----- \n",
      " 0   OverallQual   1460 non-null   int64 \n",
      " 1   GrLivArea     1460 non-null   int64 \n",
      " 2   GarageCars    1460 non-null   int64 \n",
      " 3   GarageArea    1460 non-null   int64 \n",
      " 4   TotalBsmtSF   1460 non-null   int64 \n",
      " 5   1stFlrSF      1460 non-null   int64 \n",
      " 6   FullBath      1460 non-null   int64 \n",
      " 7   YearBuilt     1460 non-null   int64 \n",
      " 8   YearRemodAdd  1460 non-null   int64 \n",
      " 9   KitchenQual   1460 non-null   object\n",
      " 10  Fireplaces    1460 non-null   int64 \n",
      " 11  Neighborhood  1460 non-null   object\n",
      "dtypes: int64(10), object(2)\n",
      "memory usage: 137.0+ KB\n"
     ]
    }
   ],
   "source": [
    "\n",
    "# 중요도 있는 컬럼 선별\n",
    "features = [\n",
    "    \"OverallQual\",   # 전반적 자재/마감 품질\n",
    "    \"GrLivArea\",     # 지상 생활 면적\n",
    "    \"GarageCars\",    # 차고 수용 차량 수\n",
    "    \"GarageArea\",    # 차고 면적\n",
    "    \"TotalBsmtSF\",   # 지하 전체 면적\n",
    "    \"1stFlrSF\",      # 1층 면적\n",
    "    \"FullBath\",      # 전체 욕실 개수\n",
    "    \"YearBuilt\",     # 건축 연도\n",
    "    \"YearRemodAdd\",  # 리모델링 연도\n",
    "    \"KitchenQual\",   # 주방 품질\n",
    "    \"Fireplaces\",    # 벽난로 개수\n",
    "    \"Neighborhood\"   # 위치\n",
    "]\n",
    "train = train[features]\n",
    "train.info()"
   ]
  },
  {
   "cell_type": "code",
   "execution_count": 30,
   "id": "66f52c94-3c75-4200-bf67-e04451697155",
   "metadata": {},
   "outputs": [
    {
     "name": "stdout",
     "output_type": "stream",
     "text": [
      "<class 'pandas.core.frame.DataFrame'>\n",
      "RangeIndex: 1459 entries, 0 to 1458\n",
      "Data columns (total 12 columns):\n",
      " #   Column        Non-Null Count  Dtype  \n",
      "---  ------        --------------  -----  \n",
      " 0   OverallQual   1459 non-null   int64  \n",
      " 1   GrLivArea     1459 non-null   int64  \n",
      " 2   GarageCars    1458 non-null   float64\n",
      " 3   GarageArea    1458 non-null   float64\n",
      " 4   TotalBsmtSF   1458 non-null   float64\n",
      " 5   1stFlrSF      1459 non-null   int64  \n",
      " 6   FullBath      1459 non-null   int64  \n",
      " 7   YearBuilt     1459 non-null   int64  \n",
      " 8   YearRemodAdd  1459 non-null   int64  \n",
      " 9   KitchenQual   1458 non-null   object \n",
      " 10  Fireplaces    1459 non-null   int64  \n",
      " 11  Neighborhood  1459 non-null   object \n",
      "dtypes: float64(3), int64(7), object(2)\n",
      "memory usage: 136.9+ KB\n"
     ]
    }
   ],
   "source": [
    "test = test[features]\n",
    "test.info()"
   ]
  },
  {
   "cell_type": "code",
   "execution_count": 33,
   "id": "c0dd2dcd-1209-4a8a-a777-c226362d59a0",
   "metadata": {},
   "outputs": [
    {
     "data": {
      "text/plain": [
       "((1459, 12), (1460, 12))"
      ]
     },
     "execution_count": 33,
     "metadata": {},
     "output_type": "execute_result"
    }
   ],
   "source": [
    "test.shape ,train.shape"
   ]
  },
  {
   "cell_type": "code",
   "execution_count": 37,
   "id": "3857796e-d2ad-4b2e-8fdf-86f9f484e8fc",
   "metadata": {},
   "outputs": [
    {
     "data": {
      "text/plain": [
       "OverallQual     0\n",
       "GrLivArea       0\n",
       "GarageCars      1\n",
       "GarageArea      1\n",
       "TotalBsmtSF     1\n",
       "1stFlrSF        0\n",
       "FullBath        0\n",
       "YearBuilt       0\n",
       "YearRemodAdd    0\n",
       "KitchenQual     1\n",
       "Fireplaces      0\n",
       "Neighborhood    0\n",
       "dtype: int64"
      ]
     },
     "execution_count": 37,
     "metadata": {},
     "output_type": "execute_result"
    }
   ],
   "source": [
    "test.isnull().sum()"
   ]
  },
  {
   "cell_type": "code",
   "execution_count": 38,
   "id": "0d376c87-103a-43d2-b5d9-d4ff8e4d9f4d",
   "metadata": {},
   "outputs": [],
   "source": [
    "# test.describe()"
   ]
  },
  {
   "cell_type": "code",
   "execution_count": 42,
   "id": "dc512687-cd21-4049-b92b-78538e2c3917",
   "metadata": {},
   "outputs": [
    {
     "data": {
      "text/plain": [
       "OverallQual     0\n",
       "GrLivArea       0\n",
       "GarageCars      0\n",
       "GarageArea      0\n",
       "TotalBsmtSF     0\n",
       "1stFlrSF        0\n",
       "FullBath        0\n",
       "YearBuilt       0\n",
       "YearRemodAdd    0\n",
       "KitchenQual     0\n",
       "Fireplaces      0\n",
       "Neighborhood    0\n",
       "dtype: int64"
      ]
     },
     "execution_count": 42,
     "metadata": {},
     "output_type": "execute_result"
    }
   ],
   "source": [
    "train.isnull().sum()"
   ]
  },
  {
   "cell_type": "code",
   "execution_count": 45,
   "id": "e6f70804-8168-4e63-aaed-db477cdd5844",
   "metadata": {},
   "outputs": [
    {
     "name": "stdout",
     "output_type": "stream",
     "text": [
      "<class 'pandas.core.frame.DataFrame'>\n",
      "RangeIndex: 1460 entries, 0 to 1459\n",
      "Data columns (total 12 columns):\n",
      " #   Column        Non-Null Count  Dtype \n",
      "---  ------        --------------  ----- \n",
      " 0   OverallQual   1460 non-null   int64 \n",
      " 1   GrLivArea     1460 non-null   int64 \n",
      " 2   GarageCars    1460 non-null   int64 \n",
      " 3   GarageArea    1460 non-null   int64 \n",
      " 4   TotalBsmtSF   1460 non-null   int64 \n",
      " 5   1stFlrSF      1460 non-null   int64 \n",
      " 6   FullBath      1460 non-null   int64 \n",
      " 7   YearBuilt     1460 non-null   int64 \n",
      " 8   YearRemodAdd  1460 non-null   int64 \n",
      " 9   KitchenQual   1460 non-null   object\n",
      " 10  Fireplaces    1460 non-null   int64 \n",
      " 11  Neighborhood  1460 non-null   object\n",
      "dtypes: int64(10), object(2)\n",
      "memory usage: 137.0+ KB\n"
     ]
    }
   ],
   "source": [
    "train.info()"
   ]
  },
  {
   "cell_type": "code",
   "execution_count": null,
   "id": "2a87ff2b-b293-4351-a74f-e30f6e2ccb31",
   "metadata": {},
   "outputs": [],
   "source": [
    "# ---------------------------------\n",
    "# 데이터 전처리\n",
    "# ---------------------------------"
   ]
  },
  {
   "cell_type": "code",
   "execution_count": 41,
   "id": "8e6402d4-af68-4669-bd32-cc865e5fecdb",
   "metadata": {},
   "outputs": [],
   "source": [
    "test['GarageArea'] = test['GarageArea'].fillna(test['GarageArea'].mean())\n",
    "test['GarageCars'] = test['GarageCars'].fillna(test['GarageCars'].mean())"
   ]
  },
  {
   "cell_type": "code",
   "execution_count": 46,
   "id": "03be5358-1954-4664-aca5-6b31756508e7",
   "metadata": {},
   "outputs": [
    {
     "ename": "ValueError",
     "evalue": "y contains previously unseen labels: nan",
     "output_type": "error",
     "traceback": [
      "\u001b[0;31m---------------------------------------------------------------------------\u001b[0m",
      "\u001b[0;31mKeyError\u001b[0m                                  Traceback (most recent call last)",
      "File \u001b[0;32m/opt/conda/lib/python3.11/site-packages/sklearn/utils/_encode.py:235\u001b[0m, in \u001b[0;36m_encode\u001b[0;34m(values, uniques, check_unknown)\u001b[0m\n\u001b[1;32m    234\u001b[0m \u001b[38;5;28;01mtry\u001b[39;00m:\n\u001b[0;32m--> 235\u001b[0m     \u001b[38;5;28;01mreturn\u001b[39;00m \u001b[43m_map_to_integer\u001b[49m\u001b[43m(\u001b[49m\u001b[43mvalues\u001b[49m\u001b[43m,\u001b[49m\u001b[43m \u001b[49m\u001b[43muniques\u001b[49m\u001b[43m)\u001b[49m\n\u001b[1;32m    236\u001b[0m \u001b[38;5;28;01mexcept\u001b[39;00m \u001b[38;5;167;01mKeyError\u001b[39;00m \u001b[38;5;28;01mas\u001b[39;00m e:\n",
      "File \u001b[0;32m/opt/conda/lib/python3.11/site-packages/sklearn/utils/_encode.py:174\u001b[0m, in \u001b[0;36m_map_to_integer\u001b[0;34m(values, uniques)\u001b[0m\n\u001b[1;32m    173\u001b[0m table \u001b[38;5;241m=\u001b[39m _nandict({val: i \u001b[38;5;28;01mfor\u001b[39;00m i, val \u001b[38;5;129;01min\u001b[39;00m \u001b[38;5;28menumerate\u001b[39m(uniques)})\n\u001b[0;32m--> 174\u001b[0m \u001b[38;5;28;01mreturn\u001b[39;00m xp\u001b[38;5;241m.\u001b[39masarray(\u001b[43m[\u001b[49m\u001b[43mtable\u001b[49m\u001b[43m[\u001b[49m\u001b[43mv\u001b[49m\u001b[43m]\u001b[49m\u001b[43m \u001b[49m\u001b[38;5;28;43;01mfor\u001b[39;49;00m\u001b[43m \u001b[49m\u001b[43mv\u001b[49m\u001b[43m \u001b[49m\u001b[38;5;129;43;01min\u001b[39;49;00m\u001b[43m \u001b[49m\u001b[43mvalues\u001b[49m\u001b[43m]\u001b[49m, device\u001b[38;5;241m=\u001b[39mdevice(values))\n",
      "File \u001b[0;32m/opt/conda/lib/python3.11/site-packages/sklearn/utils/_encode.py:174\u001b[0m, in \u001b[0;36m<listcomp>\u001b[0;34m(.0)\u001b[0m\n\u001b[1;32m    173\u001b[0m table \u001b[38;5;241m=\u001b[39m _nandict({val: i \u001b[38;5;28;01mfor\u001b[39;00m i, val \u001b[38;5;129;01min\u001b[39;00m \u001b[38;5;28menumerate\u001b[39m(uniques)})\n\u001b[0;32m--> 174\u001b[0m \u001b[38;5;28;01mreturn\u001b[39;00m xp\u001b[38;5;241m.\u001b[39masarray([\u001b[43mtable\u001b[49m\u001b[43m[\u001b[49m\u001b[43mv\u001b[49m\u001b[43m]\u001b[49m \u001b[38;5;28;01mfor\u001b[39;00m v \u001b[38;5;129;01min\u001b[39;00m values], device\u001b[38;5;241m=\u001b[39mdevice(values))\n",
      "File \u001b[0;32m/opt/conda/lib/python3.11/site-packages/sklearn/utils/_encode.py:167\u001b[0m, in \u001b[0;36m_nandict.__missing__\u001b[0;34m(self, key)\u001b[0m\n\u001b[1;32m    166\u001b[0m     \u001b[38;5;28;01mreturn\u001b[39;00m \u001b[38;5;28mself\u001b[39m\u001b[38;5;241m.\u001b[39mnan_value\n\u001b[0;32m--> 167\u001b[0m \u001b[38;5;28;01mraise\u001b[39;00m \u001b[38;5;167;01mKeyError\u001b[39;00m(key)\n",
      "\u001b[0;31mKeyError\u001b[0m: nan",
      "\nDuring handling of the above exception, another exception occurred:\n",
      "\u001b[0;31mValueError\u001b[0m                                Traceback (most recent call last)",
      "Cell \u001b[0;32mIn[46], line 7\u001b[0m\n\u001b[1;32m      5\u001b[0m le\u001b[38;5;241m.\u001b[39mfit(pd\u001b[38;5;241m.\u001b[39mconcat([train[col],test[col]],axis\u001b[38;5;241m=\u001b[39m\u001b[38;5;241m0\u001b[39m))\n\u001b[1;32m      6\u001b[0m train[col] \u001b[38;5;241m=\u001b[39m le\u001b[38;5;241m.\u001b[39mfit_transform(train[col])\n\u001b[0;32m----> 7\u001b[0m test[col] \u001b[38;5;241m=\u001b[39m \u001b[43mle\u001b[49m\u001b[38;5;241;43m.\u001b[39;49m\u001b[43mtransform\u001b[49m\u001b[43m(\u001b[49m\u001b[43mtest\u001b[49m\u001b[43m[\u001b[49m\u001b[43mcol\u001b[49m\u001b[43m]\u001b[49m\u001b[43m)\u001b[49m\n",
      "File \u001b[0;32m/opt/conda/lib/python3.11/site-packages/sklearn/preprocessing/_label.py:134\u001b[0m, in \u001b[0;36mLabelEncoder.transform\u001b[0;34m(self, y)\u001b[0m\n\u001b[1;32m    131\u001b[0m \u001b[38;5;28;01mif\u001b[39;00m _num_samples(y) \u001b[38;5;241m==\u001b[39m \u001b[38;5;241m0\u001b[39m:\n\u001b[1;32m    132\u001b[0m     \u001b[38;5;28;01mreturn\u001b[39;00m xp\u001b[38;5;241m.\u001b[39masarray([])\n\u001b[0;32m--> 134\u001b[0m \u001b[38;5;28;01mreturn\u001b[39;00m \u001b[43m_encode\u001b[49m\u001b[43m(\u001b[49m\u001b[43my\u001b[49m\u001b[43m,\u001b[49m\u001b[43m \u001b[49m\u001b[43muniques\u001b[49m\u001b[38;5;241;43m=\u001b[39;49m\u001b[38;5;28;43mself\u001b[39;49m\u001b[38;5;241;43m.\u001b[39;49m\u001b[43mclasses_\u001b[49m\u001b[43m)\u001b[49m\n",
      "File \u001b[0;32m/opt/conda/lib/python3.11/site-packages/sklearn/utils/_encode.py:237\u001b[0m, in \u001b[0;36m_encode\u001b[0;34m(values, uniques, check_unknown)\u001b[0m\n\u001b[1;32m    235\u001b[0m         \u001b[38;5;28;01mreturn\u001b[39;00m _map_to_integer(values, uniques)\n\u001b[1;32m    236\u001b[0m     \u001b[38;5;28;01mexcept\u001b[39;00m \u001b[38;5;167;01mKeyError\u001b[39;00m \u001b[38;5;28;01mas\u001b[39;00m e:\n\u001b[0;32m--> 237\u001b[0m         \u001b[38;5;28;01mraise\u001b[39;00m \u001b[38;5;167;01mValueError\u001b[39;00m(\u001b[38;5;124mf\u001b[39m\u001b[38;5;124m\"\u001b[39m\u001b[38;5;124my contains previously unseen labels: \u001b[39m\u001b[38;5;132;01m{\u001b[39;00me\u001b[38;5;132;01m}\u001b[39;00m\u001b[38;5;124m\"\u001b[39m)\n\u001b[1;32m    238\u001b[0m \u001b[38;5;28;01melse\u001b[39;00m:\n\u001b[1;32m    239\u001b[0m     \u001b[38;5;28;01mif\u001b[39;00m check_unknown:\n",
      "\u001b[0;31mValueError\u001b[0m: y contains previously unseen labels: nan"
     ]
    }
   ],
   "source": [
    "from sklearn.preprocessing import LabelEncoder\n",
    "cols = train.columns[train.dtypes == object]\n",
    "for col in cols:\n",
    "    le = LabelEncoder()\n",
    "    le.fit(pd.concat([train[col],test[col]],axis=0))\n",
    "    train[col] = le.fit_transform(train[col])\n",
    "    test[col] = le.transform(test[col])"
   ]
  },
  {
   "cell_type": "code",
   "execution_count": null,
   "id": "e037e709-0dcf-4c5e-9bfe-80d8d3600a28",
   "metadata": {},
   "outputs": [],
   "source": [
    "# ---------------------------------\n",
    "# 검증 데이터 분할 train - val (8,2)\n",
    "# ---------------------------------"
   ]
  },
  {
   "cell_type": "code",
   "execution_count": null,
   "id": "cc19ca19-60db-416a-b3b7-dfbee2aa47e6",
   "metadata": {},
   "outputs": [],
   "source": []
  },
  {
   "cell_type": "code",
   "execution_count": null,
   "id": "8b219fe5-f799-4a18-83e9-6384ae108451",
   "metadata": {},
   "outputs": [],
   "source": [
    "# ---------------------------------\n",
    "# 학습 및 평가(MSE, MAE , R2..)\n",
    "# ---------------------------------"
   ]
  },
  {
   "cell_type": "code",
   "execution_count": null,
   "id": "3909c450-0b5d-4dcf-af61-5e84749dc871",
   "metadata": {},
   "outputs": [],
   "source": []
  },
  {
   "cell_type": "code",
   "execution_count": null,
   "id": "9955d8b8-954b-407c-9b88-77b0ee2f054f",
   "metadata": {},
   "outputs": [],
   "source": [
    "# ---------------------------------\n",
    "# 파일로 저장\n",
    "# ---------------------------------"
   ]
  }
 ],
 "metadata": {
  "kernelspec": {
   "display_name": "Python 3 (ipykernel)",
   "language": "python",
   "name": "python3"
  },
  "language_info": {
   "codemirror_mode": {
    "name": "ipython",
    "version": 3
   },
   "file_extension": ".py",
   "mimetype": "text/x-python",
   "name": "python",
   "nbconvert_exporter": "python",
   "pygments_lexer": "ipython3",
   "version": "3.11.6"
  }
 },
 "nbformat": 4,
 "nbformat_minor": 5
}
